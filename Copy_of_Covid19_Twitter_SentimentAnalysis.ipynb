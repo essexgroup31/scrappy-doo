{
  "nbformat": 4,
  "nbformat_minor": 0,
  "metadata": {
    "colab": {
      "name": "Copy of Covid19_Twitter_SentimentAnalysis.ipynb",
      "provenance": [],
      "collapsed_sections": [],
      "include_colab_link": true
    },
    "kernelspec": {
      "name": "python3",
      "display_name": "Python 3"
    },
    "accelerator": "GPU"
  },
  "cells": [
    {
      "cell_type": "markdown",
      "metadata": {
        "id": "view-in-github",
        "colab_type": "text"
      },
      "source": [
        "<a href=\"https://colab.research.google.com/github/essexgroup31/scrappy-doo/blob/main/Copy_of_Covid19_Twitter_SentimentAnalysis.ipynb\" target=\"_parent\"><img src=\"https://colab.research.google.com/assets/colab-badge.svg\" alt=\"Open In Colab\"/></a>"
      ]
    },
    {
      "cell_type": "code",
      "metadata": {
        "id": "sF2mRiOZa1Ms",
        "outputId": "39ab54a1-0be6-45db-d1c0-5b1222797f52",
        "colab": {
          "base_uri": "https://localhost:8080/",
          "height": 329
        }
      },
      "source": [
        "# Install Tweepy\n",
        "!pip install tweepy\n",
        "# Install Matplotlib\n",
        "!pip install matplotlib"
      ],
      "execution_count": 1,
      "outputs": [
        {
          "output_type": "stream",
          "text": [
            "Requirement already satisfied: tweepy in /usr/local/lib/python3.6/dist-packages (3.6.0)\n",
            "Requirement already satisfied: PySocks>=1.5.7 in /usr/local/lib/python3.6/dist-packages (from tweepy) (1.7.1)\n",
            "Requirement already satisfied: six>=1.10.0 in /usr/local/lib/python3.6/dist-packages (from tweepy) (1.15.0)\n",
            "Requirement already satisfied: requests-oauthlib>=0.7.0 in /usr/local/lib/python3.6/dist-packages (from tweepy) (1.3.0)\n",
            "Requirement already satisfied: requests>=2.11.1 in /usr/local/lib/python3.6/dist-packages (from tweepy) (2.23.0)\n",
            "Requirement already satisfied: oauthlib>=3.0.0 in /usr/local/lib/python3.6/dist-packages (from requests-oauthlib>=0.7.0->tweepy) (3.1.0)\n",
            "Requirement already satisfied: idna<3,>=2.5 in /usr/local/lib/python3.6/dist-packages (from requests>=2.11.1->tweepy) (2.10)\n",
            "Requirement already satisfied: chardet<4,>=3.0.2 in /usr/local/lib/python3.6/dist-packages (from requests>=2.11.1->tweepy) (3.0.4)\n",
            "Requirement already satisfied: certifi>=2017.4.17 in /usr/local/lib/python3.6/dist-packages (from requests>=2.11.1->tweepy) (2020.6.20)\n",
            "Requirement already satisfied: urllib3!=1.25.0,!=1.25.1,<1.26,>=1.21.1 in /usr/local/lib/python3.6/dist-packages (from requests>=2.11.1->tweepy) (1.24.3)\n",
            "Requirement already satisfied: matplotlib in /usr/local/lib/python3.6/dist-packages (3.2.2)\n",
            "Requirement already satisfied: pyparsing!=2.0.4,!=2.1.2,!=2.1.6,>=2.0.1 in /usr/local/lib/python3.6/dist-packages (from matplotlib) (2.4.7)\n",
            "Requirement already satisfied: python-dateutil>=2.1 in /usr/local/lib/python3.6/dist-packages (from matplotlib) (2.8.1)\n",
            "Requirement already satisfied: numpy>=1.11 in /usr/local/lib/python3.6/dist-packages (from matplotlib) (1.18.5)\n",
            "Requirement already satisfied: kiwisolver>=1.0.1 in /usr/local/lib/python3.6/dist-packages (from matplotlib) (1.2.0)\n",
            "Requirement already satisfied: cycler>=0.10 in /usr/local/lib/python3.6/dist-packages (from matplotlib) (0.10.0)\n",
            "Requirement already satisfied: six>=1.5 in /usr/local/lib/python3.6/dist-packages (from python-dateutil>=2.1->matplotlib) (1.15.0)\n"
          ],
          "name": "stdout"
        }
      ]
    },
    {
      "cell_type": "code",
      "metadata": {
        "id": "MBSMP6OHbDo9",
        "outputId": "88eb1220-179b-4d93-dbc4-91fc276e5162",
        "colab": {
          "base_uri": "https://localhost:8080/",
          "height": 54
        }
      },
      "source": [
        "import re\n",
        "import tweepy\n",
        "from tweepy import OAuthHandler\n",
        "consumer_api_key = 'uQP9N32xpuEIujXsDV2VgcekC'\n",
        "consumer_api_secret = 'aLWDUV2P718ZoOicHCgpvQ8JUWgaOVcce14iA5oXGdtb0PsEV8' \n",
        "access_token = '1315962347836579840-gJhPtLkXpchHCz9gMXzYMl6OX9J8Cs'\n",
        "access_token_secret ='iv4ld0F6E0aTCnoKihUv9RkQmAVYYZMeCYh2yT9TprbIG'\n",
        "print (consumer_api_key)\n",
        "print (access_token)"
      ],
      "execution_count": 2,
      "outputs": [
        {
          "output_type": "stream",
          "text": [
            "uQP9N32xpuEIujXsDV2VgcekC\n",
            "1315962347836579840-gJhPtLkXpchHCz9gMXzYMl6OX9J8Cs\n"
          ],
          "name": "stdout"
        }
      ]
    },
    {
      "cell_type": "code",
      "metadata": {
        "id": "3DXzCMJPbUSe"
      },
      "source": [
        "authorizer = OAuthHandler(consumer_api_key, consumer_api_secret)\n",
        "authorizer.set_access_token(access_token, access_token_secret)"
      ],
      "execution_count": 3,
      "outputs": []
    },
    {
      "cell_type": "code",
      "metadata": {
        "id": "YZkSLu2DfDjN",
        "outputId": "06078e9c-89e3-4354-c5e4-fbb3d290323b",
        "colab": {
          "base_uri": "https://localhost:8080/",
          "height": 54
        }
      },
      "source": [
        "search_query = input(\"Hello user, what would you like to search?\\nSearch: \")"
      ],
      "execution_count": 4,
      "outputs": [
        {
          "output_type": "stream",
          "text": [
            "Hello user, what would you like to search?\n",
            "Search: covid19\n"
          ],
          "name": "stdout"
        }
      ]
    },
    {
      "cell_type": "code",
      "metadata": {
        "id": "PCvHKeQsbfvp"
      },
      "source": [
        "api = tweepy.API(authorizer ,timeout=15)\n",
        "all_tweets = []\n",
        "#search_query = 'IPL2020'\n",
        "\n",
        "for tweet_object in tweepy.Cursor(api.search,q=search_query+\" -filter:retweets\",lang='en',result_type='recent').items(200):\n",
        "    all_tweets.append(tweet_object.text)"
      ],
      "execution_count": 5,
      "outputs": []
    },
    {
      "cell_type": "code",
      "metadata": {
        "id": "ovmgZsegcr4Z",
        "outputId": "68e35f30-ea0a-48a8-dc7f-1ef19dae1070",
        "colab": {
          "base_uri": "https://localhost:8080/",
          "height": 55
        }
      },
      "source": [
        "print(all_tweets)"
      ],
      "execution_count": 6,
      "outputs": [
        {
          "output_type": "stream",
          "text": [
            "[\"WE DON'T NEED NO CIVIL SERVANTS. \\nWE DON'T NEED NO THOUGHT CONTROL. \\n#breaking #uknews #london #brexit #talkradio… https://t.co/ZDzAIETzEi\", '@YourAnonNews I want someone to ask her why she feels it is okay for President Trump to use stem cells from aborted… https://t.co/VMF7pQn5bO', '@Jeremy_Hunt @HHepplewhite When will you think Politicians understand that the PCR tests used to detect #COVID19 wa… https://t.co/I1Z3blqHTq', 'Pharma mkt rebounds in Sept, 1st time since the #Covid19 pandemic struck, helped by higher sales of chronic #drugs… https://t.co/BmOvLDw80d', 'Honestly, this is the equivalent of taking a dump on your own doorstep and then complaining about the smell. Why wo… https://t.co/zuOqeR5E0p', '#UAE Health Ministry conducts additional 103,132  #COVID19 tests detecting 1,431 new cases and records 1,652 recove… https://t.co/snzHcl1NLY', 'Sales success metrics face seismic change - @robinfisher777 VP Growth Markets @Salesforce #sales #salesmanagement… https://t.co/efWzOIXLzb', '#HerdImmunity - let a fairly new disease, kill off the old, weak and poor, then see where we end up!\\n\\nHopefully, th… https://t.co/abPgEPyCog', '@Simon_Cullen Ignore all #COVID19 restrictions folks. \\nNone is supported by even a shred of science.… https://t.co/qnaTKz91G6', 'Landlord sues cinema, nightclub and gym companies for Covid rent dues. #Kingston under threat! https://t.co/IwgdgtQshH', '@MichaelRosenYes Sorry to read this Michael. I’m deaf but understand how hard it must be for someone hearing to los… https://t.co/NAbLZnj6qO', 'Excited to be joining #DTSVirtual today with https://t.co/jnEgL7xXn3. Interesting session just started with @Huawei… https://t.co/xX2QCRuBgQ', 'Why @CNN sensationalizes #SARSCoV2 #COVID19 news, always talking of total cases, BUT, never putting up ACTIVE cases… https://t.co/2l6bAwXNHz', 'https://t.co/KDJ2Ro0EyN\\nPerformance by Bismark Haaduka, teacher at David Livingstone Secondary School #Zambia.\\nPoem… https://t.co/D7j0DLJkMQ', 'HSE (#Ireland Health Services) considered calling in Army and Red Cross to nursing home #Covid19 outbreak (12Oct202… https://t.co/jDVvsZX0Bp', '1,431 new cases and 2 new deaths in the United Arab Emirates \\n\\n[11:11 GMT] #coronavirus #CoronaVirusUpdate #COVID19 #CoronavirusPandemic', 'Is #COVID19 derailing your #clinicaltrial? Learn how we keep trials on track. Read the paper. #UncommonCRO… https://t.co/XUGuBVDBO3', 'If our best scientists had been exclusively in charge of #COVID19 from the outset - with no political interference… https://t.co/fZaCMSTo7w', 'Our goverments in Iran want the peoples death.they dont do what should to do. People travel to different towns and… https://t.co/ZlhEV2EI87', '@Anshul__K @LukeJohnsonRCP @SadiqKhan So 0.034% died having tested positive with Covid19 within 28 days, including… https://t.co/xcZwyQPmIp', '#circuitbreaker #Covid19UK #coronavirusuk #COVID19 \\nIs a circuit breaker  waste of time if schools remain fully open.', 'Music industry issues official advice on how festivals can go ahead next summer via @nme \\nhttps://t.co/u62yx99Ucb… https://t.co/4fxBMx73i2', '#COVID19 | Stay protected from #coronavirus by: \\n\\n✅ Wearing a mask properly \\n✅ Frequently washing your hands with s… https://t.co/MX64x7kpWk', 'Help slow the spread of #COVID19 and identify at risk cases sooner by self-reporting your symptoms daily, even if y… https://t.co/qeSk1VE4zA', 'What are #adultlearning providers doing to improve #outreach and #access in times of #COVID19? Join our virtual con… https://t.co/9GBcoPezWL', 'Please stop playing Corona Corona game. In my district Pakur, Jharkhand only 2 person have died in 8 months.\\nIt wil… https://t.co/xKnGWj5i7K', '@votebotind @mmpandit @gajanansinamdar @InfiniteUniver7 @Maveric94280289 @ijyotish This pandemic may be a work of… https://t.co/Tc8FYOhLtm', '@BrennanNarita @InvesterLady oh sorry.... cant understand the trolling. Be kind to each other, as our civil liberti… https://t.co/wNBZHW0Fyq', 'Join us tomorrow for a #webinar looking at the future of work. Our panel will explore how #COVID19, automation and… https://t.co/YjyXvhpg55', 'The COVID19 Knock on Effects! by Theo Nicolaou https://t.co/if3EKXQsQf', 'An urgent plea to @BorisJohnson  not to embark on endless stop-start restrictions on #Peterborough business has bee… https://t.co/Ej0CIzdj6t', 'Iberico ham, patatas bravas, and a slice of Manchego cheese anyone? Wash it down with a glass of sangria? Yes pleas… https://t.co/2El7ivAeps', \"Northern Ireland's new restrictions in full: https://t.co/puq6xNwagQ #NorthernIreland #coronavirus #COVID19\", 'Reminder that @Metrolinx are still cutting corners, service, and train lengths on their @GOtransitLE line, and that… https://t.co/8o8ZNYFSTG', 'Researchers from @RCSI_Irl have developed a new blood test which predicts which #COVID19 patents will develop a sev… https://t.co/qGRhokx4CR', 'The thing with a full #lockdownUK is what does full actually mean, doesn’t seem very full to me, simple things like… https://t.co/cQJHAq2MaF', \".@natusvincere's in-game leader @Boombl4CS might have contracted #coronavirus. 😳☹️\\n\\nHope that he recovers soon and… https://t.co/AeThUTjwtl\", \"On this #GlobalHandwashingDay, Let's us all inculcate the habit of #washingHands, whether you are at home, at work… https://t.co/leNu1SMFz1\", '@Libertymonger @RyanLizza 150 this week acording to the CDC.  so NOT 100/day, or 700/day as theis \"reporter\" claims… https://t.co/6sRPV6apKC', 'Returning to Canada? Know what to expect ⬇️\\n\\nhttps://t.co/MessiXMLhg #COVID19 https://t.co/CsE1rhnVLh', 'Latest Global #COVID19 cases =&gt; \\n Confirmed: 38411580 \\n Recovered: 28877123 \\n Deaths: 1091625 \\n #COVIDCanada… https://t.co/YrBa25oBCt', '#ElPinar is one of three Ayuntomientos on #ElHierro.\\nDuring the recent #Covid19 outbreak on the island\\nonly ONE of… https://t.co/7AOfLzgHo7', '\\'Naagin 5\\' actor #SharadMalhotra recovers from #COVID19, says, \"Thankyou #Covid19 for without this isolation I woul… https://t.co/aynvdWXbYp', 'Thank you @KPMG_Ireland for a great #Budget2021 briefing this morning. Great discussion on #Covid19, #Brexit,… https://t.co/89a13vLMAv', 'A public health alert has been issued for two #Cairns fights after a\\xa0Queensland woman\\xa0tested positive for\\xa0#COVID19… https://t.co/lpJUkO9YRD', 'Have come to update information for #AadharCard in Pune, at head post office. Unprofessional working led  to delay… https://t.co/3rLkiSKY0M', '@PRGuy17 @mister_wynn I agree PRGuy.\\nThe Victorian government has shown strength of purpose and in doing so maintai… https://t.co/oTC9EPNUKT', '@LiamThorpECHO @melaniekmelvin Rebelling now will get nobody anywhere. Literally. But I get the feeling of angst. I… https://t.co/Y4MKfBVV1l', \"Some breaking news coming in from Birmingham this morning, with @BBCNews reporting that people in #Birmingham's Sel… https://t.co/kdBpdu2iN7\", 'Join in today to get insights on \"Pricing Issues for Covid Vaccine\" in our Wednesday webinar series on #COVID19 at… https://t.co/2pugYt9N6e', 'When #COVID19 struck, organizations with mature virtual agent technology (VAT) capabilities rapidly expanded their… https://t.co/GDTNiCavKH', \"Still don't understand why Courts aren't dealing with civil matters remotely. There is absolutely no need for in pe… https://t.co/ZlCyXImweM\", \"Read the latest blog in our 'Community science inspirations' series as Seonaid Murray, Coordinator at Creating Conn… https://t.co/W9aLo3ZNEv\", '#BREAKING - #German government mulls extended curfew hours and mask obligations, contact restrictions to fewer peop… https://t.co/w6KpHn79I2', 'Across industries, #COVID19 expanded the definition of #resiliency beyond system and operational uptime. Learn how… https://t.co/hmJMg9YHWT', '21% of UK workers feel more vulnerable to #cyberattacks during #COVID19. @InfosecurityMag rounds up the details fro… https://t.co/lbUEuKXfro', 'Johnson &amp; Johnson Covid-19 vaccine study paused due to unexplained illness in participant | https://t.co/lZfBEell7d… https://t.co/8iM3OMVTSZ', 'Extensions to Temporary Changes to #UKInsolvency, Company Laws in Response to Continuing COVID-19 Crisis… https://t.co/KQTxhVILoP', '@KamalaHarris @TDWofRNT While Prime Minister of Canada, Justin Trudeau, made sure every Canadian has had monthly Go… https://t.co/zwbpwt4ptd', 'Are all fields created equal? Farmers know they are not, there are local climatic differences. Calculating agro-cli… https://t.co/ytqNiRD7C5', 'Its not even her responsibility but she care... “appreciate simple things its greater than all the world wealth”… https://t.co/vqjgD2XZeA', 'Rebecca Robbins: STAT Plus: Results are coming in on the AI systems built at the height of New York City’s spring C… https://t.co/kgow4bRxPQ', 'Arizona University Researchers Find Immunity Against Coronavirus That May Last for Several Months\\n\\n#coronavirus… https://t.co/a3P9L0L3VW', 'As part of our #COVID19 measures we now have QR codes displayed at the entrance at all our locations.\\n\\nTo use, plea… https://t.co/Gbm7oqfgRC', 'Covid19 looks to not be dampening down,any time soon. How will #SocialHousing ever chew through the non-Emergency r… https://t.co/XbWtt7tUF5', '#Covid19: Can India adapt its child immunisation infrastructure to vaccinate the whole population?\\nhttps://t.co/x07JTU8Ibe | @IndiaSpend', 'Just a reminder there is NO immunity from #COVID19 &amp; you can be reinfected &amp; die!\\nPlease protect yourselves wear a… https://t.co/k0VhbmpYm8', 'This unsure time has made certain skills and attributes crucial for employees for job security and professional suc… https://t.co/lS8Np1nVxq', \"#RudyGiualiani : from successfuly #NYC mayor to #Trump's useful idiot. \\n\\nReport shows Rudy Giuliani told a crowd… https://t.co/Ii2TZozuXj\", 'Northern Ireland announces a #circuitbreaker lockdown where pubs and restaurants will close for four weeks, with th… https://t.co/v1iVrU9kEP', '#COVID19 awareness campaign at Nasirpur and fruit sellers shops in Dwarka #southwest to encourage people for COVID1… https://t.co/vJjvxFTdIr', \"Our Chief Medical Officer, Dr Mark Simpson, talks about 'Long COVID' and how businesses should prepare in this mont… https://t.co/s1Z9T9X0ii\", \"Credit card dumps and PII as prizes for online contests? That's how #cybercriminals have kept entertained during… https://t.co/WjCnkXiGS6\", 'The impact of #COVID19 worldwide has been profound. From Africa and Europe to Asia and the Americas, almost no cont… https://t.co/tg6I9piOiY', \"👀📈4,016 new #Covid19 cases in Romania today. Romania's population is 19 million, so this is equivalent to about 70,000 cases in the US.\", 'I watched in horror of the clip of the man who pretends to be president do that little dance and I thought of all o… https://t.co/6dsyXab6eo', '@TheDemCoalition @realDonaldTrump Constantly moving the goalposts... We went from \"15 cases, about to be zero\" to l… https://t.co/m2ICv5NzJp', '@WIONews @realDonaldTrump @POTUS  FYI sir one of your fans from India died of cardiac arrest on seeing the news tha… https://t.co/lWc9Ns4D6A', 'Holy HELL! #InfectedTrump PACKED n #MAGA #superspreader event THEN #CoronaTrump throws red #coronavirus #MAGA hats… https://t.co/AYoIICwkG1', 'While most Michiganders were sleeping, state legislators passed a number of #COVID19 protection bills, replacing so… https://t.co/niHHpEMGhG', 'Covid19 in a nutshell. https://t.co/sJKv50wUSD', 'What a condensending ass! @senatemajldr laughs about 215k Americans dead. #VoteThemAllOut #COVID19… https://t.co/d529fsYhmS', 'The scenes in Liverpool are shocking. Do they realise that doing that is only going to bring in tighter restriction… https://t.co/cpB2x6Lsr7', 'Flexible funding support allows humanitarian partners to expand &amp; adapt life-saving operations to reach millions of… https://t.co/n7ya95BNCi', 'How have things moved on since the first wave of #COVID19? We’re looking for blogs on what it’s like to work in sur… https://t.co/C1R1x2LkEw', 'I can’t wait for #brexit and #Trump2020 to happen so that #COVID19 will just disappear. If you know, you know. 😉', 'I will keep retreating this.\\n#HerdImmunity \\n#COVID19 \\n#VoteTrumpOut2020 \\n#VoteThemAllOut \\n#WakeUpAmerica https://t.co/pHz61NWNCr', '@c_dodson_thatch @ClarkeMicah @PegFluff If you lock down your country now, you can say goodbye to your liberal democracy for good! #COVID19', 'I was diagnosed positive with Covid-19 on Sunday. The @HSELive has not called me to ask for my close contacts or a… https://t.co/tzFHNSiADr', \"Good Morning, we're on the air with today's #WVMorningNews. Join @ShaunaJWV #KyleWiggs and me. We'll recap last nig… https://t.co/mI6pXyEkGS\", 'JUST IN: New study suggests #COVID19 could spread more easily in low humidity environments. https://t.co/Bg8s1zMDzj', 'The latest Life Chronic Pain &amp; Autoimmune Systemic Diseases &amp; Dementia®! https://t.co/yRXgYQDmLy Thanks to @wvlt… https://t.co/O7Kpz7W6mK', \"@SamuraiThe8th @GovAndyBeshear I don't agree with you. The reason some are dead is because our government sells cig… https://t.co/B7wJEADCCc\", 'Greek #Travel Agents, Tourist Guides Angered Over Covid-19 Risk Map https://t.co/wcGAerVYAr @FEGTouristGuide… https://t.co/vQxqbA7gzY', '#Canada #COVID19 #Forecasting return to normal levels after Thanksgiving. #Ensemble #forecast No 2 \\n1 ets    10-15… https://t.co/27kNKn4Oa0', '@GautamGambhir @ParvinderAwana Please someone help me.I tweeted a lot but nobody.responded to my tweet i am big pro… https://t.co/lYlwsRU4Pv', 'Consumers want to feel safe when going inside grocery or other retail stores. SATO’s FX3-LX label printer helps you… https://t.co/IImhsTBHsI', 'Dr Steven Phelps and Dr Vafa Bayat @Bitscopic discuss the model they have created that uses data collected from sta… https://t.co/jSN1tBKNCl', \"Isolation Day 1:\\n\\nI've decided to fashion chess pieces from rubble in the garden and ordered a picture of Rita Hayw… https://t.co/nQVLxoHdXP\", 'Event singer turns to writing after losing job during Covid-19 pandemic https://t.co/QeBS6gJBUM', \"@SkyNews If your good at sport you can't catch or transmit COVID19 🤷\\u200d♂️\", 'Every $10 you give provides 50 meals, filling tables and cupboards for families fighting hunger →… https://t.co/o6jOwJCLPY', '#Uttarpradesh | #उत्तरप्रदेश UPDATE|14.10.2020\\n\\n➡In last 24 hours, 2,778 new #COVID19 cases reported.\\n\\n📌NEW RECOVER… https://t.co/Dz96Bl5tey', 'KISS me #Trump b4 ur #VOTED OUT!\\n\\n21 #DAYS left\\n\\nJust #VOTE!\\n\\n#WearAMask #coronavirus \\n\\n #dontfuckitup #COVID19… https://t.co/RjgBCNNyyM', 'I’ve been following the COVID19 pandemic since January. It’s still shocking how bad the US has handled it compared… https://t.co/CGaulbJ3K2', 'Take a look at our latest blog post \"Neutralizing antibodies – the immune system’s superheroes\" by Sebastain Fiedle… https://t.co/c7yul1uyTZ', 'There 63 cases of hospital admissions in the last 24 hours taking the total patients in the hospital to 408.\\n#Qatar… https://t.co/CPobfHCnGN', '#Iran official seeks lockdown extension as #coronavirus rages  https://t.co/MIuCXIHvLw', 'Staff @OfficialTfGM and officers @gmpolice have held action days, including one in Wigan, to speak to young public… https://t.co/FtGUrfS5dR', 'IPL 2020: Rohit spearheads another team with 10 Indian players \\n\\nhttps://t.co/KetNndJmCr\\n\\n#Bharatpe #RohitSharma… https://t.co/jZFZjlJAir', 'Thing is, without a complete overhaul to #Covid19 response -- ditching Serco/Deloitte private test and trace fiasco… https://t.co/kTTiy0OR2Y', \"Dustin Johnson has tested positive for Covid-19, the PGA Tour said Tuesday, forcing the world number one golfer's w… https://t.co/QlA34chaD5\", '- Post-COVID19 irritations; Many businesses are yet to recover from the negative effects of COVID-19. Most private… https://t.co/SaKZ7SrQPh', '@IPL @GautamGambhir Please someone help me.I tweeted a lot but nobody.responded to my tweet i am big problems I wil… https://t.co/uiCOnGKCpF', 'Thank you @MarisePayne and @GregHuntMP for continuing to ensure the world’s poorest have equitable access to a futu… https://t.co/0HR7YN4Wq4', '@ShaunShanahan @realDonaldTrump Yes! Tell everyone attending these mass #COVID19 parties to wait UNTIL election day… https://t.co/8icnO9wU0m', \"@katepsychfem @SkyNews No, they're going to end up killing other people that can't fight covid19 as successfully as themselves.\\n\\nIdiot\", 'There are two domains in the S1 subunit which Coronavirus recognize as a variety of host receptors, leading to the… https://t.co/yLYiLj4Z5x', \"In Alberta, public health officials say there's now a growing problem with people who test positive for COVID-19, n… https://t.co/eibfEIf0nb\", 'NOW THE WHO TELLS US! COVID19 update, October 11, 2020: Israel eyeing controlled exit from secon… https://t.co/9zk1gLXDKZ', 'An inactivated #COVID19 #vaccine developed by Shenzhen Kangtai Biological Products Co. Ltd., was approved by the Na… https://t.co/H5tpzTvS4Z', \"Is it any surprise that a country's whose entire identity is built on a moment of revolution 250 years ago would fi… https://t.co/AGAsoLiIr9\", 'YOU NEED THIS!\\n\\n1 Corinthians 14:39 (#KJV) Wherefore, brethren, covet to prophesy, and forbid not to speak with ton… https://t.co/tcWC0rd1z9', '@sayzharish @SonuSood Please someone help me.I tweeted a lot but nobody.responded to my tweet i am big problems I w… https://t.co/2EokEGH4oj', '\"The Instagram is full of videos of \\'Karen\\' singing parody songs that mock the pandemic lockdown\". That\\'s an insult… https://t.co/r9J24bRgBi', '#AHPsDay2020 \\nHere are some of our @BHRUT_SLT #SLT showing #innovative ways of thinking but making #hellomynameis s… https://t.co/vo9oE7iCyk', '@fascinatorfun @drphilhammond @moseleygal All excess deaths during that period were related to COVID19, even if the… https://t.co/NzaU28jhJR', 'Boris announces three-tier Covid alert system for England. Click the link to find out more: https://t.co/RLJGp3yTOH… https://t.co/7EBruDexWj', 'The Last Episode in our Colossians series.\\n\\nChapter Four\\n#faith #JesusChrist #god #Bible #GlobalPrayerForHumanity… https://t.co/JoEEBvlxcC', 'The NI FM @DUPleader Arlene Foster has now closed schools for an extra 2 weeks, so is there now a realisation that… https://t.co/UiLp4btGzp', \"@c_dodson_thatch @ClarkeMicah @PegFluff They're stirring fear by using a test that is faulty and carrying out 250,0… https://t.co/J3vEuzGFAR\", 'Sixteen people have died from #Covid19 in the country during last 24 hours, according to a press release issued by… https://t.co/qbAiILs386', '#AHPsDay2020 Pain team have been making lots of changes due to #COVID19 ! They are successfully using virtual treat… https://t.co/oiwU077p4g', '@NewsbreakCanada Covid19 has made Bill Gate$ famous, now everybody knows what he is.', 'We need and deserve a united Stormont Executive now more than ever. Strong performance from @DUPleader this morning… https://t.co/9snB3ZAHxb', 'Which do you feel is a better use of current national funds given similar size budgets (feel free to comment why)… https://t.co/FEF8Cz73Ge', 'The way the #UK government are treating the British public over #COVID19 is appalling. People need to rise up and s… https://t.co/ePjRMb1cEO', 'Facebook: https://t.co/it1BsA5oBb\\nInstagram: https://t.co/0BNMk50C04\\nTwitter: https://t.co/Isw7ecsnBB\\n.\\n.\\n.\\n.… https://t.co/2Q9WuXgmik', \"#NSTnation Minister in the Prime Minister's Department Datuk Seri Dr Zulkifli Mohamad al-Bakri was discharged from… https://t.co/yLnrEfVEQ1\", 'The fintech industry is developing rapidly, however like most other sectors it has been hit hard by the pandemic.… https://t.co/dS2Jz8N0Sd', '#forex #stocks\\n\\n#China forgot #Covid, business is back!\\n\\n#China foreign trade continued to recover from the… https://t.co/w72fCrU5Wd', 'When it comes to urging her Black patients to volunteer for SARS-CoV-2 vaccine trials, AMA member @ledje is putting… https://t.co/V5pDDOt4za', '“Satellite #connectivity is essential to cope with #digital traffic in light of the #COVID19 #pandemic,” says Alf S… https://t.co/zOUOpfkQ2u', '@Keir_Starmer What about joe public getting to see a DR or a long overdue hospital appointment. Are we to sit at ho… https://t.co/4QGt4jaJhg', '#COVID19 - On the MSM - New leaked documents from #SAGE saying if the U.K. do a 2week #LockDown at half term it cou… https://t.co/KbtCzzMo9A', '9 more overseas Filipinos sick with #COVID19; total now at 11,117 https://t.co/hpp9HsSQDv', 'This daily infographic provides a quick view of the current coronavirus (#COVID19) situation in Australia.… https://t.co/FqFYG8VnSI', '@atrupar Melania wants out.... she has disappeared! Did she not get Trump’s miracle cure for Covid19  🤷🏼\\u200d♀️😷', \"From our blog archive — a reminder that life in lockdown wasn't all bad: https://t.co/GOJraVZtK5 #MentalHealth #CPUK #COVID19 #Lockdown\", '@IskconInc @arjunbhatigolf Please someone help me.I tweeted a lot but nobody.responded to my tweet i am big problem… https://t.co/x7ZIzhMopZ', 'Hey @realDonaldTrump This is your legacy. This is what the name Trump will mean for generations to come.… https://t.co/cOPeICZKYS', 'Throughout the #COVID19 crisis #BorisJohnson has been consistently behind the curve pitifully failing to provide th… https://t.co/GCEWis7sC5', 'Over the last week I have had the privilege of contacting a number of Legacy ladies through my role as a legatee at… https://t.co/XapSBvmDiX', 'Read how during the early stages of the #COVID19 pandemic, ITGL helped @newlandhouse recreate the preparatory exper… https://t.co/oDIYHAZDrP', '@realDonaldTrump you are a sociopath pathological liar. America IS NOT ROUNDING THE COVID19 CORNER! Over 215,000 Am… https://t.co/AKJGHLqs48', 'ICYMI:\\n.@fordnation .@C_Mulroney \\n👇👇👇\\n\\n#TTC \\nPhysical distancing will not be possible to maintain on the bus… https://t.co/RyXKRx3Wwp', 'Just starting a great and important session on accessibility for your staff during Covid19 - do join if you can… https://t.co/GP5W1Ir3wl', '@filmfare @RichaChadha Please someone help me.I tweeted a lot but nobody.responded to my tweet i am big problems I… https://t.co/qFBNYvKkY0', 'At a time of growing #wagetheft, #suicides of workers who go unprotected, solutions are found in #COVID19 bonuses a… https://t.co/usIFmS7uZD', 'SA’s #miningindustry has remained #resilient throughout the #COVID19 crisis and has continued to be a meaningful co… https://t.co/defTBgVklz', 'Is there not a conversation to be had in Ireland for a short to medium small increase in income tax to help with th… https://t.co/MZtuQKSLbb', \"Wonderful initiative by @cmovila to document life during #COVID19 in Romanian hospitals.\\n\\nWatch “DON'T TAKE THEM FO… https://t.co/OsUpZABxBG\", 'It’s up to you, whether you control your mind or it controls you\\n\\n#WednesdayMotivation #WednesdayMotivation… https://t.co/vPQJHCQZIr', 'London. A densely populated city of close to 10 million. These are the numbers of hospital admissions. London has a… https://t.co/ppeZ5ewYQo', 'They say #lockdown is supposed to be to protect the elderly. Yet they are the ones who are saying no thanks, we don… https://t.co/6NuBT3l9MH', 'WHO lauds Aarogya Setu app, says it helped to identify #Covid19 clusters.\\n#BJP\\n#NAMO\\nhttps://t.co/R6kmt8gzk4 via Na… https://t.co/KyoYZQK97h', \"#Indonesia's #COVID19 cases rose by 4,127 within one day to 344,749, with the death toll adding by 129 to 12,156, t… https://t.co/opjObRYK6P\", 'Facebook said Tuesday that it will no longer allow anti-vaccination ads. its latest move to crack down on misinform… https://t.co/XtHXPv7KLu', 'OFFICIAL DOH COVID-19 REPORT for BATANGAS PROVINCE \\nAs of October 14, 2020 | 3:00 PM\\n\\n•Confirmed: 8253\\n•Recovered:… https://t.co/L4CQbBAlCq', 'Started editing another movie today 😜😬 Ghosts, demons &amp; Covid19. https://t.co/XhfNqTwsBv', '#NorthernIreland returns to #Lockdown2 for 4 weeks to curb the rise in #COVID19 cases in the country. https://t.co/hMoWESg0rZ', '@IngrahamAngle Laura Ingraham U DO  ANYTHING TO PROTECT AND DEFEND ANTICHRIST TRUMP U SHOULD BE SHAMED OF YOURSELF… https://t.co/LkFCswC8az', 'How many of these social distancing signs have you spotted out and about...? 🤔 👣 ⚠️ ❌\\nFor your transport call us on… https://t.co/xqPj5iCSeA', 'Our team at the @SUSouthAfrica summit on our #ConvergeHEALTH solution that provides our healthcare &amp; life science c… https://t.co/3Dfy19AkvG', 'White House Embraces Covid-19 ‘Herd Immunity’ Declaration \\n\\nREAD MORE: https://t.co/kMfJ9U9ze8\\n\\n#cdc #coronavirus… https://t.co/tGsx8nwnj1', '#NorthernIreland returns to #Lockdown2 for 4 weeks to curb the rise in #COVID19 cases in the country. https://t.co/O69mLVlphz', 'Pandemics have #psychosocial and #sociocultural burdens #HIV #COVID19 https://t.co/Fj6wtHSu8a @TheLancetHIV', '@emafabbri from MA @PORCreOToscana presenting how @regionetoscana has approached #COVID19 to ensure #resilience of… https://t.co/RzrCpnS6cf', '@theheraldsun Mass stupidity among Australians is the biggest threat re: #COVID19’s spread in Australia. \\n\\nThe fact… https://t.co/v2WoGlFX8V', '#COVID19 new levels of fear daily https://t.co/edvwd56NuF', 'NORTHERN IRELAND.  Announced on Tuesday.\\n\\nCOVID-19 DEATH DETAILS.\\n\\n7 further deaths have been recorded in Northern… https://t.co/zAfZ3vHJr9', '@mgoldenmsp Great because #covid19 will conform to a timescale imposed by politicians. Get real. There are just som… https://t.co/Yyh5SCKYAM', 'A senior Victorian Treasury insider has given his first television interview since he sensationally resigned after… https://t.co/JHS8oSlNHs', 'Pressure builds on @BorisJohnson\\n#coronavirus #COVID19 \\n\\nhttps://t.co/JmhyX5GKQq', 'As EU leaders prepare to meet to assess progress in future #EU-#UK relationship talks, tomorrow from 1pm we welcome… https://t.co/kO69nBT8rm', 'In today’s coronavirus (COVID-19) statistics, the Ministry of Public Health (MoPH) announced that Qatar recorded 19… https://t.co/QrwaHIFPpM', \"It's now Oct 14 and this @7ElevenCanada remains closed.  #COVID19 I wonder? 334 Bloor St W, #Toronto, ON M5S 1W9 https://t.co/scYNSMCRJv\", 'Interesting how #Sweden is always the model referred to when making #COVID19 comparisons, but the better comparison… https://t.co/Q7V4FsYTYP', 'Dear President @vonderleyen, here is my question: how is the EU going to make sure that developing countries have a… https://t.co/dmAZ4ui2zY', '#lockdown #COVID19\\n\\n\"Northern Ireland announces a four-week \\'circuit breaker\\' lockdown\"  https://t.co/9jt3huAbw6', '@RobRuadh @carly22176732 @VictorianCHO Cause im a WANKER\\nIm a Chief Health Officer\\nBut only care for being a\\nCovid1… https://t.co/XZ1wqFm85X', \"They're not dancing. #COVID19 &amp; #Trump / #TrumpRally https://t.co/7Op9ww8CGt\", '#Covid19UK #circuitbreaker #coronavirusuk #COVID19 \\nWould you be for or against a full uk circuitbreaker lockdown ?', '@jaquix173 @Mark18787662 @TimWilsonMP Thank goodness for the Premiers. On 10 March #DanAndrews was planning a… https://t.co/qAn1ddfuNi', '#NSTnation Selangor, Kuala Lumpur and Putrajaya are now all under CMCO for 14 days beginning today.\\n\\n#Klang #CMCO… https://t.co/LOtUcjVgWT', 'Govt Halts By Elections Despite Opening All Sectors Of The Economy https://t.co/szR9X5eGp7 #covid19 https://t.co/xevROTAFqH', '@bhogleharsha Please someone help me.I tweeted a lot but nobody.responded to my tweet i am big problems I will wait… https://t.co/4LYgIv9v5K', 'Finally a sensible suggestion frm a politician! Well done @Keir_Starmer. Up the game @BorisJohnson #COVID19… https://t.co/KyeTvZIg9y', 'So #COVID19 #coronavirus #Corona #Covid19UK #Covid_19 can make you deaf ? https://t.co/yDDzrHrn8o', 'Wednesday Morning COVID-19 Update: All Hickory Metro Counties Report New Cases Tuesday https://t.co/0o2jYGTVGl… https://t.co/tGqe8L1qLk']\n"
          ],
          "name": "stdout"
        }
      ]
    },
    {
      "cell_type": "code",
      "metadata": {
        "id": "03M6gOZzc7rb",
        "outputId": "7901184d-181c-4675-c701-3d58fec534f0",
        "colab": {
          "base_uri": "https://localhost:8080/",
          "height": 54
        }
      },
      "source": [
        "import numpy as np \n",
        "import pandas as pd \n",
        "import re  \n",
        "import nltk # an amazing library to play with natural language\n",
        "nltk.download('stopwords')  \n",
        "from nltk.corpus import stopwords \n"
      ],
      "execution_count": 7,
      "outputs": [
        {
          "output_type": "stream",
          "text": [
            "[nltk_data] Downloading package stopwords to /root/nltk_data...\n",
            "[nltk_data]   Unzipping corpora/stopwords.zip.\n"
          ],
          "name": "stdout"
        }
      ]
    },
    {
      "cell_type": "code",
      "metadata": {
        "id": "LIIrJYhVdD9y",
        "outputId": "88f78fdd-cb84-44d7-aa95-d532ded04a31",
        "colab": {
          "base_uri": "https://localhost:8080/",
          "height": 274
        }
      },
      "source": [
        "tweets = pd.read_csv(\"https://raw.githubusercontent.com/kolaveridi/kaggle-Twitter-US-Airline-Sentiment-/master/Tweets.csv\")\n",
        "print(tweets)"
      ],
      "execution_count": 8,
      "outputs": [
        {
          "output_type": "stream",
          "text": [
            "                 tweet_id  ...               user_timezone\n",
            "0      570306133677760513  ...  Eastern Time (US & Canada)\n",
            "1      570301130888122368  ...  Pacific Time (US & Canada)\n",
            "2      570301083672813571  ...  Central Time (US & Canada)\n",
            "3      570301031407624196  ...  Pacific Time (US & Canada)\n",
            "4      570300817074462722  ...  Pacific Time (US & Canada)\n",
            "...                   ...  ...                         ...\n",
            "14635  569587686496825344  ...                         NaN\n",
            "14636  569587371693355008  ...                         NaN\n",
            "14637  569587242672398336  ...                         NaN\n",
            "14638  569587188687634433  ...  Eastern Time (US & Canada)\n",
            "14639  569587140490866689  ...                         NaN\n",
            "\n",
            "[14640 rows x 15 columns]\n"
          ],
          "name": "stdout"
        }
      ]
    },
    {
      "cell_type": "code",
      "metadata": {
        "id": "yUFttnmRdTol",
        "outputId": "22acd4ba-b1d1-4abd-8bdb-c31bae6f9e50",
        "colab": {
          "base_uri": "https://localhost:8080/",
          "height": 127
        }
      },
      "source": [
        "X = tweets.iloc[:, 10].values\n",
        "y = tweets.iloc[:, 1].values\n",
        "\n",
        "print(X)"
      ],
      "execution_count": 9,
      "outputs": [
        {
          "output_type": "stream",
          "text": [
            "['@VirginAmerica What @dhepburn said.'\n",
            " \"@VirginAmerica plus you've added commercials to the experience... tacky.\"\n",
            " \"@VirginAmerica I didn't today... Must mean I need to take another trip!\"\n",
            " ... '@AmericanAir Please bring American Airlines to #BlackBerry10'\n",
            " \"@AmericanAir you have my money, you change my flight, and don't answer your phones! Any other suggestions so I can make my commitment??\"\n",
            " '@AmericanAir we have 8 ppl so we need 2 know how many seats are on the next flight. Plz put us on standby for 4 people on the next flight?']\n"
          ],
          "name": "stdout"
        }
      ]
    },
    {
      "cell_type": "code",
      "metadata": {
        "id": "wCbe6x3cqOAR"
      },
      "source": [
        "processed_tweets = []\n",
        " \n",
        "for tweet in range(0, len(X)):  \n",
        "    # Remove all the special characters\n",
        "    processed_tweet = re.sub(r'\\W', ' ', str(X[tweet]))\n",
        " \n",
        "    # remove all single characters\n",
        "    processed_tweet = re.sub(r'\\s+[a-zA-Z]\\s+', ' ', processed_tweet)\n",
        " \n",
        "    # Remove single characters from the start\n",
        "    processed_tweet = re.sub(r'\\^[a-zA-Z]\\s+', ' ', processed_tweet) \n",
        " \n",
        "    # Substituting multiple spaces with single space\n",
        "    processed_tweet= re.sub(r'\\s+', ' ', processed_tweet, flags=re.I)\n",
        " \n",
        "    # Removing prefixed 'b'\n",
        "    processed_tweet = re.sub(r'^b\\s+', '', processed_tweet)\n",
        " \n",
        "    # Converting to Lowercase\n",
        "    processed_tweet = processed_tweet.lower()\n",
        " \n",
        "    processed_tweets.append(processed_tweet)"
      ],
      "execution_count": 10,
      "outputs": []
    },
    {
      "cell_type": "code",
      "metadata": {
        "id": "fvvzPXC7daw9"
      },
      "source": [
        "from sklearn.feature_extraction.text import TfidfVectorizer  \n",
        "tfidfconverter = TfidfVectorizer(max_features=2000, min_df=5, max_df=0.7, stop_words=stopwords.words('english'))  \n",
        "X = tfidfconverter.fit_transform(processed_tweets).toarray()\n"
      ],
      "execution_count": 11,
      "outputs": []
    },
    {
      "cell_type": "code",
      "metadata": {
        "id": "_yReZpg4dftB",
        "outputId": "a089bee0-8107-4267-8d2e-043cb7e3f7de",
        "colab": {
          "base_uri": "https://localhost:8080/",
          "height": 164
        }
      },
      "source": [
        "from sklearn.ensemble import RandomForestClassifier\n",
        "text_classifier = RandomForestClassifier(n_estimators=100, random_state=0)  \n",
        "text_classifier.fit(X, y)"
      ],
      "execution_count": 12,
      "outputs": [
        {
          "output_type": "execute_result",
          "data": {
            "text/plain": [
              "RandomForestClassifier(bootstrap=True, ccp_alpha=0.0, class_weight=None,\n",
              "                       criterion='gini', max_depth=None, max_features='auto',\n",
              "                       max_leaf_nodes=None, max_samples=None,\n",
              "                       min_impurity_decrease=0.0, min_impurity_split=None,\n",
              "                       min_samples_leaf=1, min_samples_split=2,\n",
              "                       min_weight_fraction_leaf=0.0, n_estimators=100,\n",
              "                       n_jobs=None, oob_score=False, random_state=0, verbose=0,\n",
              "                       warm_start=False)"
            ]
          },
          "metadata": {
            "tags": []
          },
          "execution_count": 12
        }
      ]
    },
    {
      "cell_type": "code",
      "metadata": {
        "id": "PiH3lhymdsYI",
        "outputId": "36e90efb-7093-4ad2-e9b4-2a1fddf861ed",
        "colab": {
          "base_uri": "https://localhost:8080/",
          "height": 55
        }
      },
      "source": [
        "negativeCounter = 0\n",
        "neutralCounter = 0\n",
        "positiveCounter = 0\n",
        "for tweet in all_tweets:\n",
        "    # Remove all the special characters\n",
        "    processed_tweet = re.sub(r'\\W', ' ', tweet)\n",
        " \n",
        "    # remove all single characters\n",
        "    processed_tweet = re.sub(r'\\s+[a-zA-Z]\\s+', ' ', processed_tweet)\n",
        " \n",
        "    # Remove single characters from the start\n",
        "    processed_tweet = re.sub(r'\\^[a-zA-Z]\\s+', ' ', processed_tweet) \n",
        " \n",
        "    # Substituting multiple spaces with single space\n",
        "    processed_tweet= re.sub(r'\\s+', ' ', processed_tweet, flags=re.I)\n",
        " \n",
        "    # Removing prefixed 'b'\n",
        "    processed_tweet = re.sub(r'^b\\s+', '', processed_tweet)\n",
        " \n",
        "    # Converting to Lowercase\n",
        "    processed_tweet = processed_tweet.lower()\n",
        " \n",
        "    sentiment = text_classifier.predict(tfidfconverter.transform([ processed_tweet]).toarray())\n",
        "    \n",
        "\n",
        "    # We need to create something that counts the different sentiments\n",
        "    # Which will then be the data for the pie chart.\n",
        "\n",
        "    if sentiment == \"positive\":\n",
        "      positiveCounter+=1\n",
        "    elif sentiment == \"negative\":\n",
        "      negativeCounter+=1\n",
        "    elif sentiment == \"neutral\":\n",
        "      neutralCounter+=1\n",
        "   \n",
        "print(all_tweets)"
      ],
      "execution_count": 13,
      "outputs": [
        {
          "output_type": "stream",
          "text": [
            "[\"WE DON'T NEED NO CIVIL SERVANTS. \\nWE DON'T NEED NO THOUGHT CONTROL. \\n#breaking #uknews #london #brexit #talkradio… https://t.co/ZDzAIETzEi\", '@YourAnonNews I want someone to ask her why she feels it is okay for President Trump to use stem cells from aborted… https://t.co/VMF7pQn5bO', '@Jeremy_Hunt @HHepplewhite When will you think Politicians understand that the PCR tests used to detect #COVID19 wa… https://t.co/I1Z3blqHTq', 'Pharma mkt rebounds in Sept, 1st time since the #Covid19 pandemic struck, helped by higher sales of chronic #drugs… https://t.co/BmOvLDw80d', 'Honestly, this is the equivalent of taking a dump on your own doorstep and then complaining about the smell. Why wo… https://t.co/zuOqeR5E0p', '#UAE Health Ministry conducts additional 103,132  #COVID19 tests detecting 1,431 new cases and records 1,652 recove… https://t.co/snzHcl1NLY', 'Sales success metrics face seismic change - @robinfisher777 VP Growth Markets @Salesforce #sales #salesmanagement… https://t.co/efWzOIXLzb', '#HerdImmunity - let a fairly new disease, kill off the old, weak and poor, then see where we end up!\\n\\nHopefully, th… https://t.co/abPgEPyCog', '@Simon_Cullen Ignore all #COVID19 restrictions folks. \\nNone is supported by even a shred of science.… https://t.co/qnaTKz91G6', 'Landlord sues cinema, nightclub and gym companies for Covid rent dues. #Kingston under threat! https://t.co/IwgdgtQshH', '@MichaelRosenYes Sorry to read this Michael. I’m deaf but understand how hard it must be for someone hearing to los… https://t.co/NAbLZnj6qO', 'Excited to be joining #DTSVirtual today with https://t.co/jnEgL7xXn3. Interesting session just started with @Huawei… https://t.co/xX2QCRuBgQ', 'Why @CNN sensationalizes #SARSCoV2 #COVID19 news, always talking of total cases, BUT, never putting up ACTIVE cases… https://t.co/2l6bAwXNHz', 'https://t.co/KDJ2Ro0EyN\\nPerformance by Bismark Haaduka, teacher at David Livingstone Secondary School #Zambia.\\nPoem… https://t.co/D7j0DLJkMQ', 'HSE (#Ireland Health Services) considered calling in Army and Red Cross to nursing home #Covid19 outbreak (12Oct202… https://t.co/jDVvsZX0Bp', '1,431 new cases and 2 new deaths in the United Arab Emirates \\n\\n[11:11 GMT] #coronavirus #CoronaVirusUpdate #COVID19 #CoronavirusPandemic', 'Is #COVID19 derailing your #clinicaltrial? Learn how we keep trials on track. Read the paper. #UncommonCRO… https://t.co/XUGuBVDBO3', 'If our best scientists had been exclusively in charge of #COVID19 from the outset - with no political interference… https://t.co/fZaCMSTo7w', 'Our goverments in Iran want the peoples death.they dont do what should to do. People travel to different towns and… https://t.co/ZlhEV2EI87', '@Anshul__K @LukeJohnsonRCP @SadiqKhan So 0.034% died having tested positive with Covid19 within 28 days, including… https://t.co/xcZwyQPmIp', '#circuitbreaker #Covid19UK #coronavirusuk #COVID19 \\nIs a circuit breaker  waste of time if schools remain fully open.', 'Music industry issues official advice on how festivals can go ahead next summer via @nme \\nhttps://t.co/u62yx99Ucb… https://t.co/4fxBMx73i2', '#COVID19 | Stay protected from #coronavirus by: \\n\\n✅ Wearing a mask properly \\n✅ Frequently washing your hands with s… https://t.co/MX64x7kpWk', 'Help slow the spread of #COVID19 and identify at risk cases sooner by self-reporting your symptoms daily, even if y… https://t.co/qeSk1VE4zA', 'What are #adultlearning providers doing to improve #outreach and #access in times of #COVID19? Join our virtual con… https://t.co/9GBcoPezWL', 'Please stop playing Corona Corona game. In my district Pakur, Jharkhand only 2 person have died in 8 months.\\nIt wil… https://t.co/xKnGWj5i7K', '@votebotind @mmpandit @gajanansinamdar @InfiniteUniver7 @Maveric94280289 @ijyotish This pandemic may be a work of… https://t.co/Tc8FYOhLtm', '@BrennanNarita @InvesterLady oh sorry.... cant understand the trolling. Be kind to each other, as our civil liberti… https://t.co/wNBZHW0Fyq', 'Join us tomorrow for a #webinar looking at the future of work. Our panel will explore how #COVID19, automation and… https://t.co/YjyXvhpg55', 'The COVID19 Knock on Effects! by Theo Nicolaou https://t.co/if3EKXQsQf', 'An urgent plea to @BorisJohnson  not to embark on endless stop-start restrictions on #Peterborough business has bee… https://t.co/Ej0CIzdj6t', 'Iberico ham, patatas bravas, and a slice of Manchego cheese anyone? Wash it down with a glass of sangria? Yes pleas… https://t.co/2El7ivAeps', \"Northern Ireland's new restrictions in full: https://t.co/puq6xNwagQ #NorthernIreland #coronavirus #COVID19\", 'Reminder that @Metrolinx are still cutting corners, service, and train lengths on their @GOtransitLE line, and that… https://t.co/8o8ZNYFSTG', 'Researchers from @RCSI_Irl have developed a new blood test which predicts which #COVID19 patents will develop a sev… https://t.co/qGRhokx4CR', 'The thing with a full #lockdownUK is what does full actually mean, doesn’t seem very full to me, simple things like… https://t.co/cQJHAq2MaF', \".@natusvincere's in-game leader @Boombl4CS might have contracted #coronavirus. 😳☹️\\n\\nHope that he recovers soon and… https://t.co/AeThUTjwtl\", \"On this #GlobalHandwashingDay, Let's us all inculcate the habit of #washingHands, whether you are at home, at work… https://t.co/leNu1SMFz1\", '@Libertymonger @RyanLizza 150 this week acording to the CDC.  so NOT 100/day, or 700/day as theis \"reporter\" claims… https://t.co/6sRPV6apKC', 'Returning to Canada? Know what to expect ⬇️\\n\\nhttps://t.co/MessiXMLhg #COVID19 https://t.co/CsE1rhnVLh', 'Latest Global #COVID19 cases =&gt; \\n Confirmed: 38411580 \\n Recovered: 28877123 \\n Deaths: 1091625 \\n #COVIDCanada… https://t.co/YrBa25oBCt', '#ElPinar is one of three Ayuntomientos on #ElHierro.\\nDuring the recent #Covid19 outbreak on the island\\nonly ONE of… https://t.co/7AOfLzgHo7', '\\'Naagin 5\\' actor #SharadMalhotra recovers from #COVID19, says, \"Thankyou #Covid19 for without this isolation I woul… https://t.co/aynvdWXbYp', 'Thank you @KPMG_Ireland for a great #Budget2021 briefing this morning. Great discussion on #Covid19, #Brexit,… https://t.co/89a13vLMAv', 'A public health alert has been issued for two #Cairns fights after a\\xa0Queensland woman\\xa0tested positive for\\xa0#COVID19… https://t.co/lpJUkO9YRD', 'Have come to update information for #AadharCard in Pune, at head post office. Unprofessional working led  to delay… https://t.co/3rLkiSKY0M', '@PRGuy17 @mister_wynn I agree PRGuy.\\nThe Victorian government has shown strength of purpose and in doing so maintai… https://t.co/oTC9EPNUKT', '@LiamThorpECHO @melaniekmelvin Rebelling now will get nobody anywhere. Literally. But I get the feeling of angst. I… https://t.co/Y4MKfBVV1l', \"Some breaking news coming in from Birmingham this morning, with @BBCNews reporting that people in #Birmingham's Sel… https://t.co/kdBpdu2iN7\", 'Join in today to get insights on \"Pricing Issues for Covid Vaccine\" in our Wednesday webinar series on #COVID19 at… https://t.co/2pugYt9N6e', 'When #COVID19 struck, organizations with mature virtual agent technology (VAT) capabilities rapidly expanded their… https://t.co/GDTNiCavKH', \"Still don't understand why Courts aren't dealing with civil matters remotely. There is absolutely no need for in pe… https://t.co/ZlCyXImweM\", \"Read the latest blog in our 'Community science inspirations' series as Seonaid Murray, Coordinator at Creating Conn… https://t.co/W9aLo3ZNEv\", '#BREAKING - #German government mulls extended curfew hours and mask obligations, contact restrictions to fewer peop… https://t.co/w6KpHn79I2', 'Across industries, #COVID19 expanded the definition of #resiliency beyond system and operational uptime. Learn how… https://t.co/hmJMg9YHWT', '21% of UK workers feel more vulnerable to #cyberattacks during #COVID19. @InfosecurityMag rounds up the details fro… https://t.co/lbUEuKXfro', 'Johnson &amp; Johnson Covid-19 vaccine study paused due to unexplained illness in participant | https://t.co/lZfBEell7d… https://t.co/8iM3OMVTSZ', 'Extensions to Temporary Changes to #UKInsolvency, Company Laws in Response to Continuing COVID-19 Crisis… https://t.co/KQTxhVILoP', '@KamalaHarris @TDWofRNT While Prime Minister of Canada, Justin Trudeau, made sure every Canadian has had monthly Go… https://t.co/zwbpwt4ptd', 'Are all fields created equal? Farmers know they are not, there are local climatic differences. Calculating agro-cli… https://t.co/ytqNiRD7C5', 'Its not even her responsibility but she care... “appreciate simple things its greater than all the world wealth”… https://t.co/vqjgD2XZeA', 'Rebecca Robbins: STAT Plus: Results are coming in on the AI systems built at the height of New York City’s spring C… https://t.co/kgow4bRxPQ', 'Arizona University Researchers Find Immunity Against Coronavirus That May Last for Several Months\\n\\n#coronavirus… https://t.co/a3P9L0L3VW', 'As part of our #COVID19 measures we now have QR codes displayed at the entrance at all our locations.\\n\\nTo use, plea… https://t.co/Gbm7oqfgRC', 'Covid19 looks to not be dampening down,any time soon. How will #SocialHousing ever chew through the non-Emergency r… https://t.co/XbWtt7tUF5', '#Covid19: Can India adapt its child immunisation infrastructure to vaccinate the whole population?\\nhttps://t.co/x07JTU8Ibe | @IndiaSpend', 'Just a reminder there is NO immunity from #COVID19 &amp; you can be reinfected &amp; die!\\nPlease protect yourselves wear a… https://t.co/k0VhbmpYm8', 'This unsure time has made certain skills and attributes crucial for employees for job security and professional suc… https://t.co/lS8Np1nVxq', \"#RudyGiualiani : from successfuly #NYC mayor to #Trump's useful idiot. \\n\\nReport shows Rudy Giuliani told a crowd… https://t.co/Ii2TZozuXj\", 'Northern Ireland announces a #circuitbreaker lockdown where pubs and restaurants will close for four weeks, with th… https://t.co/v1iVrU9kEP', '#COVID19 awareness campaign at Nasirpur and fruit sellers shops in Dwarka #southwest to encourage people for COVID1… https://t.co/vJjvxFTdIr', \"Our Chief Medical Officer, Dr Mark Simpson, talks about 'Long COVID' and how businesses should prepare in this mont… https://t.co/s1Z9T9X0ii\", \"Credit card dumps and PII as prizes for online contests? That's how #cybercriminals have kept entertained during… https://t.co/WjCnkXiGS6\", 'The impact of #COVID19 worldwide has been profound. From Africa and Europe to Asia and the Americas, almost no cont… https://t.co/tg6I9piOiY', \"👀📈4,016 new #Covid19 cases in Romania today. Romania's population is 19 million, so this is equivalent to about 70,000 cases in the US.\", 'I watched in horror of the clip of the man who pretends to be president do that little dance and I thought of all o… https://t.co/6dsyXab6eo', '@TheDemCoalition @realDonaldTrump Constantly moving the goalposts... We went from \"15 cases, about to be zero\" to l… https://t.co/m2ICv5NzJp', '@WIONews @realDonaldTrump @POTUS  FYI sir one of your fans from India died of cardiac arrest on seeing the news tha… https://t.co/lWc9Ns4D6A', 'Holy HELL! #InfectedTrump PACKED n #MAGA #superspreader event THEN #CoronaTrump throws red #coronavirus #MAGA hats… https://t.co/AYoIICwkG1', 'While most Michiganders were sleeping, state legislators passed a number of #COVID19 protection bills, replacing so… https://t.co/niHHpEMGhG', 'Covid19 in a nutshell. https://t.co/sJKv50wUSD', 'What a condensending ass! @senatemajldr laughs about 215k Americans dead. #VoteThemAllOut #COVID19… https://t.co/d529fsYhmS', 'The scenes in Liverpool are shocking. Do they realise that doing that is only going to bring in tighter restriction… https://t.co/cpB2x6Lsr7', 'Flexible funding support allows humanitarian partners to expand &amp; adapt life-saving operations to reach millions of… https://t.co/n7ya95BNCi', 'How have things moved on since the first wave of #COVID19? We’re looking for blogs on what it’s like to work in sur… https://t.co/C1R1x2LkEw', 'I can’t wait for #brexit and #Trump2020 to happen so that #COVID19 will just disappear. If you know, you know. 😉', 'I will keep retreating this.\\n#HerdImmunity \\n#COVID19 \\n#VoteTrumpOut2020 \\n#VoteThemAllOut \\n#WakeUpAmerica https://t.co/pHz61NWNCr', '@c_dodson_thatch @ClarkeMicah @PegFluff If you lock down your country now, you can say goodbye to your liberal democracy for good! #COVID19', 'I was diagnosed positive with Covid-19 on Sunday. The @HSELive has not called me to ask for my close contacts or a… https://t.co/tzFHNSiADr', \"Good Morning, we're on the air with today's #WVMorningNews. Join @ShaunaJWV #KyleWiggs and me. We'll recap last nig… https://t.co/mI6pXyEkGS\", 'JUST IN: New study suggests #COVID19 could spread more easily in low humidity environments. https://t.co/Bg8s1zMDzj', 'The latest Life Chronic Pain &amp; Autoimmune Systemic Diseases &amp; Dementia®! https://t.co/yRXgYQDmLy Thanks to @wvlt… https://t.co/O7Kpz7W6mK', \"@SamuraiThe8th @GovAndyBeshear I don't agree with you. The reason some are dead is because our government sells cig… https://t.co/B7wJEADCCc\", 'Greek #Travel Agents, Tourist Guides Angered Over Covid-19 Risk Map https://t.co/wcGAerVYAr @FEGTouristGuide… https://t.co/vQxqbA7gzY', '#Canada #COVID19 #Forecasting return to normal levels after Thanksgiving. #Ensemble #forecast No 2 \\n1 ets    10-15… https://t.co/27kNKn4Oa0', '@GautamGambhir @ParvinderAwana Please someone help me.I tweeted a lot but nobody.responded to my tweet i am big pro… https://t.co/lYlwsRU4Pv', 'Consumers want to feel safe when going inside grocery or other retail stores. SATO’s FX3-LX label printer helps you… https://t.co/IImhsTBHsI', 'Dr Steven Phelps and Dr Vafa Bayat @Bitscopic discuss the model they have created that uses data collected from sta… https://t.co/jSN1tBKNCl', \"Isolation Day 1:\\n\\nI've decided to fashion chess pieces from rubble in the garden and ordered a picture of Rita Hayw… https://t.co/nQVLxoHdXP\", 'Event singer turns to writing after losing job during Covid-19 pandemic https://t.co/QeBS6gJBUM', \"@SkyNews If your good at sport you can't catch or transmit COVID19 🤷\\u200d♂️\", 'Every $10 you give provides 50 meals, filling tables and cupboards for families fighting hunger →… https://t.co/o6jOwJCLPY', '#Uttarpradesh | #उत्तरप्रदेश UPDATE|14.10.2020\\n\\n➡In last 24 hours, 2,778 new #COVID19 cases reported.\\n\\n📌NEW RECOVER… https://t.co/Dz96Bl5tey', 'KISS me #Trump b4 ur #VOTED OUT!\\n\\n21 #DAYS left\\n\\nJust #VOTE!\\n\\n#WearAMask #coronavirus \\n\\n #dontfuckitup #COVID19… https://t.co/RjgBCNNyyM', 'I’ve been following the COVID19 pandemic since January. It’s still shocking how bad the US has handled it compared… https://t.co/CGaulbJ3K2', 'Take a look at our latest blog post \"Neutralizing antibodies – the immune system’s superheroes\" by Sebastain Fiedle… https://t.co/c7yul1uyTZ', 'There 63 cases of hospital admissions in the last 24 hours taking the total patients in the hospital to 408.\\n#Qatar… https://t.co/CPobfHCnGN', '#Iran official seeks lockdown extension as #coronavirus rages  https://t.co/MIuCXIHvLw', 'Staff @OfficialTfGM and officers @gmpolice have held action days, including one in Wigan, to speak to young public… https://t.co/FtGUrfS5dR', 'IPL 2020: Rohit spearheads another team with 10 Indian players \\n\\nhttps://t.co/KetNndJmCr\\n\\n#Bharatpe #RohitSharma… https://t.co/jZFZjlJAir', 'Thing is, without a complete overhaul to #Covid19 response -- ditching Serco/Deloitte private test and trace fiasco… https://t.co/kTTiy0OR2Y', \"Dustin Johnson has tested positive for Covid-19, the PGA Tour said Tuesday, forcing the world number one golfer's w… https://t.co/QlA34chaD5\", '- Post-COVID19 irritations; Many businesses are yet to recover from the negative effects of COVID-19. Most private… https://t.co/SaKZ7SrQPh', '@IPL @GautamGambhir Please someone help me.I tweeted a lot but nobody.responded to my tweet i am big problems I wil… https://t.co/uiCOnGKCpF', 'Thank you @MarisePayne and @GregHuntMP for continuing to ensure the world’s poorest have equitable access to a futu… https://t.co/0HR7YN4Wq4', '@ShaunShanahan @realDonaldTrump Yes! Tell everyone attending these mass #COVID19 parties to wait UNTIL election day… https://t.co/8icnO9wU0m', \"@katepsychfem @SkyNews No, they're going to end up killing other people that can't fight covid19 as successfully as themselves.\\n\\nIdiot\", 'There are two domains in the S1 subunit which Coronavirus recognize as a variety of host receptors, leading to the… https://t.co/yLYiLj4Z5x', \"In Alberta, public health officials say there's now a growing problem with people who test positive for COVID-19, n… https://t.co/eibfEIf0nb\", 'NOW THE WHO TELLS US! COVID19 update, October 11, 2020: Israel eyeing controlled exit from secon… https://t.co/9zk1gLXDKZ', 'An inactivated #COVID19 #vaccine developed by Shenzhen Kangtai Biological Products Co. Ltd., was approved by the Na… https://t.co/H5tpzTvS4Z', \"Is it any surprise that a country's whose entire identity is built on a moment of revolution 250 years ago would fi… https://t.co/AGAsoLiIr9\", 'YOU NEED THIS!\\n\\n1 Corinthians 14:39 (#KJV) Wherefore, brethren, covet to prophesy, and forbid not to speak with ton… https://t.co/tcWC0rd1z9', '@sayzharish @SonuSood Please someone help me.I tweeted a lot but nobody.responded to my tweet i am big problems I w… https://t.co/2EokEGH4oj', '\"The Instagram is full of videos of \\'Karen\\' singing parody songs that mock the pandemic lockdown\". That\\'s an insult… https://t.co/r9J24bRgBi', '#AHPsDay2020 \\nHere are some of our @BHRUT_SLT #SLT showing #innovative ways of thinking but making #hellomynameis s… https://t.co/vo9oE7iCyk', '@fascinatorfun @drphilhammond @moseleygal All excess deaths during that period were related to COVID19, even if the… https://t.co/NzaU28jhJR', 'Boris announces three-tier Covid alert system for England. Click the link to find out more: https://t.co/RLJGp3yTOH… https://t.co/7EBruDexWj', 'The Last Episode in our Colossians series.\\n\\nChapter Four\\n#faith #JesusChrist #god #Bible #GlobalPrayerForHumanity… https://t.co/JoEEBvlxcC', 'The NI FM @DUPleader Arlene Foster has now closed schools for an extra 2 weeks, so is there now a realisation that… https://t.co/UiLp4btGzp', \"@c_dodson_thatch @ClarkeMicah @PegFluff They're stirring fear by using a test that is faulty and carrying out 250,0… https://t.co/J3vEuzGFAR\", 'Sixteen people have died from #Covid19 in the country during last 24 hours, according to a press release issued by… https://t.co/qbAiILs386', '#AHPsDay2020 Pain team have been making lots of changes due to #COVID19 ! They are successfully using virtual treat… https://t.co/oiwU077p4g', '@NewsbreakCanada Covid19 has made Bill Gate$ famous, now everybody knows what he is.', 'We need and deserve a united Stormont Executive now more than ever. Strong performance from @DUPleader this morning… https://t.co/9snB3ZAHxb', 'Which do you feel is a better use of current national funds given similar size budgets (feel free to comment why)… https://t.co/FEF8Cz73Ge', 'The way the #UK government are treating the British public over #COVID19 is appalling. People need to rise up and s… https://t.co/ePjRMb1cEO', 'Facebook: https://t.co/it1BsA5oBb\\nInstagram: https://t.co/0BNMk50C04\\nTwitter: https://t.co/Isw7ecsnBB\\n.\\n.\\n.\\n.… https://t.co/2Q9WuXgmik', \"#NSTnation Minister in the Prime Minister's Department Datuk Seri Dr Zulkifli Mohamad al-Bakri was discharged from… https://t.co/yLnrEfVEQ1\", 'The fintech industry is developing rapidly, however like most other sectors it has been hit hard by the pandemic.… https://t.co/dS2Jz8N0Sd', '#forex #stocks\\n\\n#China forgot #Covid, business is back!\\n\\n#China foreign trade continued to recover from the… https://t.co/w72fCrU5Wd', 'When it comes to urging her Black patients to volunteer for SARS-CoV-2 vaccine trials, AMA member @ledje is putting… https://t.co/V5pDDOt4za', '“Satellite #connectivity is essential to cope with #digital traffic in light of the #COVID19 #pandemic,” says Alf S… https://t.co/zOUOpfkQ2u', '@Keir_Starmer What about joe public getting to see a DR or a long overdue hospital appointment. Are we to sit at ho… https://t.co/4QGt4jaJhg', '#COVID19 - On the MSM - New leaked documents from #SAGE saying if the U.K. do a 2week #LockDown at half term it cou… https://t.co/KbtCzzMo9A', '9 more overseas Filipinos sick with #COVID19; total now at 11,117 https://t.co/hpp9HsSQDv', 'This daily infographic provides a quick view of the current coronavirus (#COVID19) situation in Australia.… https://t.co/FqFYG8VnSI', '@atrupar Melania wants out.... she has disappeared! Did she not get Trump’s miracle cure for Covid19  🤷🏼\\u200d♀️😷', \"From our blog archive — a reminder that life in lockdown wasn't all bad: https://t.co/GOJraVZtK5 #MentalHealth #CPUK #COVID19 #Lockdown\", '@IskconInc @arjunbhatigolf Please someone help me.I tweeted a lot but nobody.responded to my tweet i am big problem… https://t.co/x7ZIzhMopZ', 'Hey @realDonaldTrump This is your legacy. This is what the name Trump will mean for generations to come.… https://t.co/cOPeICZKYS', 'Throughout the #COVID19 crisis #BorisJohnson has been consistently behind the curve pitifully failing to provide th… https://t.co/GCEWis7sC5', 'Over the last week I have had the privilege of contacting a number of Legacy ladies through my role as a legatee at… https://t.co/XapSBvmDiX', 'Read how during the early stages of the #COVID19 pandemic, ITGL helped @newlandhouse recreate the preparatory exper… https://t.co/oDIYHAZDrP', '@realDonaldTrump you are a sociopath pathological liar. America IS NOT ROUNDING THE COVID19 CORNER! Over 215,000 Am… https://t.co/AKJGHLqs48', 'ICYMI:\\n.@fordnation .@C_Mulroney \\n👇👇👇\\n\\n#TTC \\nPhysical distancing will not be possible to maintain on the bus… https://t.co/RyXKRx3Wwp', 'Just starting a great and important session on accessibility for your staff during Covid19 - do join if you can… https://t.co/GP5W1Ir3wl', '@filmfare @RichaChadha Please someone help me.I tweeted a lot but nobody.responded to my tweet i am big problems I… https://t.co/qFBNYvKkY0', 'At a time of growing #wagetheft, #suicides of workers who go unprotected, solutions are found in #COVID19 bonuses a… https://t.co/usIFmS7uZD', 'SA’s #miningindustry has remained #resilient throughout the #COVID19 crisis and has continued to be a meaningful co… https://t.co/defTBgVklz', 'Is there not a conversation to be had in Ireland for a short to medium small increase in income tax to help with th… https://t.co/MZtuQKSLbb', \"Wonderful initiative by @cmovila to document life during #COVID19 in Romanian hospitals.\\n\\nWatch “DON'T TAKE THEM FO… https://t.co/OsUpZABxBG\", 'It’s up to you, whether you control your mind or it controls you\\n\\n#WednesdayMotivation #WednesdayMotivation… https://t.co/vPQJHCQZIr', 'London. A densely populated city of close to 10 million. These are the numbers of hospital admissions. London has a… https://t.co/ppeZ5ewYQo', 'They say #lockdown is supposed to be to protect the elderly. Yet they are the ones who are saying no thanks, we don… https://t.co/6NuBT3l9MH', 'WHO lauds Aarogya Setu app, says it helped to identify #Covid19 clusters.\\n#BJP\\n#NAMO\\nhttps://t.co/R6kmt8gzk4 via Na… https://t.co/KyoYZQK97h', \"#Indonesia's #COVID19 cases rose by 4,127 within one day to 344,749, with the death toll adding by 129 to 12,156, t… https://t.co/opjObRYK6P\", 'Facebook said Tuesday that it will no longer allow anti-vaccination ads. its latest move to crack down on misinform… https://t.co/XtHXPv7KLu', 'OFFICIAL DOH COVID-19 REPORT for BATANGAS PROVINCE \\nAs of October 14, 2020 | 3:00 PM\\n\\n•Confirmed: 8253\\n•Recovered:… https://t.co/L4CQbBAlCq', 'Started editing another movie today 😜😬 Ghosts, demons &amp; Covid19. https://t.co/XhfNqTwsBv', '#NorthernIreland returns to #Lockdown2 for 4 weeks to curb the rise in #COVID19 cases in the country. https://t.co/hMoWESg0rZ', '@IngrahamAngle Laura Ingraham U DO  ANYTHING TO PROTECT AND DEFEND ANTICHRIST TRUMP U SHOULD BE SHAMED OF YOURSELF… https://t.co/LkFCswC8az', 'How many of these social distancing signs have you spotted out and about...? 🤔 👣 ⚠️ ❌\\nFor your transport call us on… https://t.co/xqPj5iCSeA', 'Our team at the @SUSouthAfrica summit on our #ConvergeHEALTH solution that provides our healthcare &amp; life science c… https://t.co/3Dfy19AkvG', 'White House Embraces Covid-19 ‘Herd Immunity’ Declaration \\n\\nREAD MORE: https://t.co/kMfJ9U9ze8\\n\\n#cdc #coronavirus… https://t.co/tGsx8nwnj1', '#NorthernIreland returns to #Lockdown2 for 4 weeks to curb the rise in #COVID19 cases in the country. https://t.co/O69mLVlphz', 'Pandemics have #psychosocial and #sociocultural burdens #HIV #COVID19 https://t.co/Fj6wtHSu8a @TheLancetHIV', '@emafabbri from MA @PORCreOToscana presenting how @regionetoscana has approached #COVID19 to ensure #resilience of… https://t.co/RzrCpnS6cf', '@theheraldsun Mass stupidity among Australians is the biggest threat re: #COVID19’s spread in Australia. \\n\\nThe fact… https://t.co/v2WoGlFX8V', '#COVID19 new levels of fear daily https://t.co/edvwd56NuF', 'NORTHERN IRELAND.  Announced on Tuesday.\\n\\nCOVID-19 DEATH DETAILS.\\n\\n7 further deaths have been recorded in Northern… https://t.co/zAfZ3vHJr9', '@mgoldenmsp Great because #covid19 will conform to a timescale imposed by politicians. Get real. There are just som… https://t.co/Yyh5SCKYAM', 'A senior Victorian Treasury insider has given his first television interview since he sensationally resigned after… https://t.co/JHS8oSlNHs', 'Pressure builds on @BorisJohnson\\n#coronavirus #COVID19 \\n\\nhttps://t.co/JmhyX5GKQq', 'As EU leaders prepare to meet to assess progress in future #EU-#UK relationship talks, tomorrow from 1pm we welcome… https://t.co/kO69nBT8rm', 'In today’s coronavirus (COVID-19) statistics, the Ministry of Public Health (MoPH) announced that Qatar recorded 19… https://t.co/QrwaHIFPpM', \"It's now Oct 14 and this @7ElevenCanada remains closed.  #COVID19 I wonder? 334 Bloor St W, #Toronto, ON M5S 1W9 https://t.co/scYNSMCRJv\", 'Interesting how #Sweden is always the model referred to when making #COVID19 comparisons, but the better comparison… https://t.co/Q7V4FsYTYP', 'Dear President @vonderleyen, here is my question: how is the EU going to make sure that developing countries have a… https://t.co/dmAZ4ui2zY', '#lockdown #COVID19\\n\\n\"Northern Ireland announces a four-week \\'circuit breaker\\' lockdown\"  https://t.co/9jt3huAbw6', '@RobRuadh @carly22176732 @VictorianCHO Cause im a WANKER\\nIm a Chief Health Officer\\nBut only care for being a\\nCovid1… https://t.co/XZ1wqFm85X', \"They're not dancing. #COVID19 &amp; #Trump / #TrumpRally https://t.co/7Op9ww8CGt\", '#Covid19UK #circuitbreaker #coronavirusuk #COVID19 \\nWould you be for or against a full uk circuitbreaker lockdown ?', '@jaquix173 @Mark18787662 @TimWilsonMP Thank goodness for the Premiers. On 10 March #DanAndrews was planning a… https://t.co/qAn1ddfuNi', '#NSTnation Selangor, Kuala Lumpur and Putrajaya are now all under CMCO for 14 days beginning today.\\n\\n#Klang #CMCO… https://t.co/LOtUcjVgWT', 'Govt Halts By Elections Despite Opening All Sectors Of The Economy https://t.co/szR9X5eGp7 #covid19 https://t.co/xevROTAFqH', '@bhogleharsha Please someone help me.I tweeted a lot but nobody.responded to my tweet i am big problems I will wait… https://t.co/4LYgIv9v5K', 'Finally a sensible suggestion frm a politician! Well done @Keir_Starmer. Up the game @BorisJohnson #COVID19… https://t.co/KyeTvZIg9y', 'So #COVID19 #coronavirus #Corona #Covid19UK #Covid_19 can make you deaf ? https://t.co/yDDzrHrn8o', 'Wednesday Morning COVID-19 Update: All Hickory Metro Counties Report New Cases Tuesday https://t.co/0o2jYGTVGl… https://t.co/tGqe8L1qLk']\n"
          ],
          "name": "stdout"
        }
      ]
    },
    {
      "cell_type": "code",
      "metadata": {
        "id": "qmQs47arbKTy",
        "outputId": "71b588d6-db1f-40fe-acbc-aed80516989d",
        "colab": {
          "base_uri": "https://localhost:8080/",
          "height": 266
        }
      },
      "source": [
        "import matplotlib.pyplot as pyplot\n",
        "labels = \"Negative\", \"Neutral\", \"Positive\"\n",
        "sizes = [negativeCounter,neutralCounter,positiveCounter]\n",
        "print(sizes)\n",
        "colors = [\"red\",\"yellow\",\"green\"]\n",
        "\n",
        "if sizes[0] > sizes[1] & sizes[0] > sizes[2]:\n",
        "  explode = (0.1,0,0)\n",
        "elif sizes[1] > sizes[0] & sizes[1] > sizes[2]:\n",
        "  explode = (0,0.1,0)\n",
        "else:\n",
        "  explode = (0,0,0.1)\n",
        "\n",
        "pyplot.pie(sizes,explode = explode, labels=labels,colors=colors,autopct=\"%1.1f%%\", shadow=True, startangle=140)\n",
        "pyplot.axis(\"equal\")\n",
        "pyplot.show()"
      ],
      "execution_count": 14,
      "outputs": [
        {
          "output_type": "stream",
          "text": [
            "[59, 132, 9]\n"
          ],
          "name": "stdout"
        },
        {
          "output_type": "display_data",
          "data": {
            "image/png": "[encoded data removed]",
            "text/plain": [
              "<Figure size 432x288 with 1 Axes>"
            ]
          },
          "metadata": {
            "tags": []
          }
        }
      ]
    }
  ]
}