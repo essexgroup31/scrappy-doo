{
  "nbformat": 4,
  "nbformat_minor": 0,
  "metadata": {
    "colab": {
      "name": "Copy of Covid19_Twitter_SentimentAnalysis.ipynb",
      "provenance": [],
      "collapsed_sections": [],
      "include_colab_link": true
    },
    "kernelspec": {
      "name": "python3",
      "display_name": "Python 3"
    },
    "accelerator": "GPU"
  },
  "cells": [
    {
      "cell_type": "markdown",
      "metadata": {
        "id": "view-in-github",
        "colab_type": "text"
      },
      "source": [
        "<a href=\"https://colab.research.google.com/github/essexgroup31/scrappy-doo/blob/main/Copy_of_Covid19_Twitter_SentimentAnalysis.ipynb\" target=\"_parent\"><img src=\"https://colab.research.google.com/assets/colab-badge.svg\" alt=\"Open In Colab\"/></a>"
      ]
    },
    {
      "cell_type": "code",
      "metadata": {
        "id": "sF2mRiOZa1Ms"
      },
      "source": [
        "# Install Tweepy\n",
        "#!pip install tweepy\n",
        "# Install Matplotlib\n",
        "#!pip install matplotlib\n",
        "# Install Plotly\n",
        "#!pip install plotly"
      ],
      "execution_count": 173,
      "outputs": []
    },
    {
      "cell_type": "code",
      "metadata": {
        "id": "7urxl91rz4Ff"
      },
      "source": [
        "def removeSuffix(item,suffix):\n",
        "  if item.endswith(suffix):\n",
        "    return item[:-len(suffix)]\n",
        "  else:\n",
        "    return item[:]"
      ],
      "execution_count": 174,
      "outputs": []
    },
    {
      "cell_type": "code",
      "metadata": {
        "id": "IClLK4ht3DbW"
      },
      "source": [
        "import string\n",
        "def punctuationRemover(sentence):\n",
        "    myList = []\n",
        "    for each in range(len(sentence)-1):\n",
        "        if sentence[each] in string.punctuation:\n",
        "            \n",
        "            if sentence[each+1] in string.ascii_letters:\n",
        "                myList.append(sentence[each])\n",
        "                myList.append(\" \")\n",
        "            else:\n",
        "                myList.append(sentence[each])\n",
        "        else:\n",
        "            myList.append(sentence[each])\n",
        "                \n",
        "    \n",
        "    for each in range(len(myList)):\n",
        "        if myList[each] in string.punctuation:\n",
        "            myList[each] = \"/\"\n",
        "\n",
        "    sentence = \"\"\n",
        "\n",
        "    for each in myList:\n",
        "        if each != \"/\":\n",
        "          sentence = sentence + str(each)\n",
        "    return sentence"
      ],
      "execution_count": 175,
      "outputs": []
    },
    {
      "cell_type": "code",
      "metadata": {
        "id": "lBbrzco8OZKd"
      },
      "source": [
        "def stripShire(sentence):\n",
        "    sentence = sentence.split()\n",
        "    completedsentence = []\n",
        "    \n",
        "    for each in sentence:\n",
        "        completedsentence.append(removeSuffix(each, \"shire\"))\n",
        "    \n",
        "\n",
        "    return completedsentence"
      ],
      "execution_count": 176,
      "outputs": []
    },
    {
      "cell_type": "code",
      "metadata": {
        "id": "MBSMP6OHbDo9",
        "outputId": "3046033a-b8ed-430c-8be7-4b1fd04e8af6",
        "colab": {
          "base_uri": "https://localhost:8080/",
          "height": 54
        }
      },
      "source": [
        "import re\n",
        "import tweepy\n",
        "from tweepy import OAuthHandler\n",
        "consumer_api_key = 'uQP9N32xpuEIujXsDV2VgcekC'\n",
        "consumer_api_secret = 'aLWDUV2P718ZoOicHCgpvQ8JUWgaOVcce14iA5oXGdtb0PsEV8' \n",
        "access_token = '1315962347836579840-WKXz7fp8UEZAaOtABYv1fIpoZpXX7q'\n",
        "access_token_secret ='mitdeExvQ0SFuPGn3HsUhG0faElwQQPSE7FmhaZBNvh76'\n",
        "print (consumer_api_key)\n",
        "print (access_token)"
      ],
      "execution_count": 177,
      "outputs": [
        {
          "output_type": "stream",
          "text": [
            "uQP9N32xpuEIujXsDV2VgcekC\n",
            "1315962347836579840-WKXz7fp8UEZAaOtABYv1fIpoZpXX7q\n"
          ],
          "name": "stdout"
        }
      ]
    },
    {
      "cell_type": "code",
      "metadata": {
        "id": "3DXzCMJPbUSe"
      },
      "source": [
        "authorizer = OAuthHandler(consumer_api_key, consumer_api_secret)\n",
        "authorizer.set_access_token(access_token, access_token_secret)"
      ],
      "execution_count": 178,
      "outputs": []
    },
    {
      "cell_type": "code",
      "metadata": {
        "id": "YZkSLu2DfDjN"
      },
      "source": [
        "#search_query = input(\"Hello user, what would you like to search?\\nSearch: \")"
      ],
      "execution_count": 179,
      "outputs": []
    },
    {
      "cell_type": "code",
      "metadata": {
        "id": "PCvHKeQsbfvp"
      },
      "source": [
        "api = tweepy.API(authorizer ,timeout=15, wait_on_rate_limit=True)\n",
        "all_tweets = []\n",
        "\n",
        "search_query = 'covid19'\n",
        "\n",
        "for tweet_object in tweepy.Cursor(api.search,q=search_query+\" -filter:retweets\",lang='en',result_type='recent').items(3000):\n",
        "    all_tweets.append(tweet_object.text)\n",
        "    if (\"UK\" or \"United Kingdom\") in tweet_object.user.location:\n",
        "      ukTweetList.append(tweet_object)\n",
        "    "
      ],
      "execution_count": 180,
      "outputs": []
    },
    {
      "cell_type": "code",
      "metadata": {
        "id": "_t1F1uJGjxe8",
        "outputId": "af6b59cb-96bb-4d4a-a030-ca059fd686ba",
        "colab": {
          "base_uri": "https://localhost:8080/",
          "height": 56
        }
      },
      "source": [
        "ukCounties = [\"Bedford\",\"Berk\",\"Bristol\",\"Buckingham\",\"Cambridge\",\"Ches\",\"Cornwall\",\"Cumbria\",\"Derby\",\"Devon\",\"Dorset\",\"Durham\",\"Sussex\",\"Essex\",\"Gloucester\",\"City of London\", \"Manchester\", \"Hamp\",\"Hereford\",\"Hertford\",\"Isle of Wight\", \"Kent\", \"Lanca\", \"Leicester\",\"Lincoln\",\"London\", \"Merseyside\", \"Norfolk\", \"Northampton\", \"Northumberland\", \"North York\", \"Nottingham\", \"Oxford\", \"Rutland\", \"Shrop\", \"Somerset\",\"South York\", \"Stafford\", \"Suffold\", \"Surrey\", \"Tyne and Wear\", \"Warwick\", \"West Midlands\", \"West Sussex\", \"West York\", \"Wilt\", \"Worcester\"]\n",
        "countyList = []\n",
        "tweetLocationData = []\n",
        "# List of uk counties without \"shire\" at the end (because of the way that twitter works with locations)\n",
        "for each in ukTweetList:\n",
        "    tweetData = each.text\n",
        "    location = each.user.location\n",
        "    \n",
        "    #time to die :D (kill me)\n",
        "    location = punctuationRemover(location)\n",
        "    location = stripShire(location)\n",
        "\n",
        "    found = False\n",
        "\n",
        "    for x in location:\n",
        "        if x in ukCounties:\n",
        "            location = x\n",
        "            if len(tweetLocationData) == 0:\n",
        "                tweetLocationData.append([location,tweetData])\n",
        "                countyList.append(location)\n",
        "                break\n",
        "            else:\n",
        "                for each in tweetLocationData:\n",
        "                  if each[0] == location:\n",
        "                    found = True\n",
        "                    break\n",
        "                  else:\n",
        "                    found = False\n",
        "                \n",
        "                if found == True:\n",
        "                  each.append(tweetData)\n",
        "                else:\n",
        "                  tweetLocationData.append([location,tweetData])\n",
        "                  countyList.append(location)\n",
        "            \n",
        "\n",
        "print(tweetLocationData)\n",
        "    \n",
        "    \n",
        "\n"
      ],
      "execution_count": 181,
      "outputs": [
        {
          "output_type": "stream",
          "text": [
            "[['London', 'We continue our #COVID19 myth-busting series with the latest summary of coronavirus news --\\n\\nRead more here 👇\\nhttps://t.co/hAZXrOsm7p', 'Thanks @WFPHA_FMASP for including my photo of #London &amp; @bttowerlondon taken from @uclh during the first wave of… https://t.co/IxW9PmUPmI', 'Researchers argue #COVID19 herd immunity strategy is a \"dangerous fallacy\" in open letter https://t.co/6tCwnXp8t1 https://t.co/zwrSk74w6U', '👐💧 Check out Haidar in #Lebanon 🇱🇧 demonstrating how to properly wash your hands. Haidar has been attending virtual… https://t.co/XEsuHBWoAA', '#Colombia Remains Attractive Expansion Prospect For Retailers, Despite Covid-19: https://t.co/wQ46o6YmGC… https://t.co/KOl2dGOFvd', 'Dr Anna Stewart explains how she and her Clinical Research Unit have adapted to the #COVID19 pandemic.\\n\\nWatch the f… https://t.co/akoC7aomff', \"'It is now nine months since I began working with clients in Wuhan who were worried about a rapidly-spreading new v… https://t.co/Ax3I7sPsGl\", \"Can a $14bn #infrastructure plan help to kick-start #Mexico's economic recovery from the #Covid19 pandemic? \\n\\nFind… https://t.co/N4FbjTfy6K\", \"We're nearly through our special #CCCVideoSeries for the Catholic charities sector. Our next video on #ESG, purpose… https://t.co/jXB4uJgDUc\", '@TheLancet There is already sufficient evidence of the disparate effect of COVID19 on the general population. To en… https://t.co/ZzCn7l6KHz', '#Europe to #USA 3 months ago: \"You have no clue whatsoever how to deal with this #pandemic.\"\\n#UnitedStates to Europ… https://t.co/mIN1uIiHH9', '@MeetHajaar @Blecyn1 Real shame tbh! How can they now deploy an unsavored means call \"Covid19\" to deter those prote… https://t.co/dBU5cK3ycS', 'We’re documenting how the humanitarian system is adapting to #COVID19. Explore our new #dataviz to find examples of… https://t.co/l9Y21MKngf', 'Listen to Christina Cassotis, CEO of @PITairport\\ntalk about transforming the airport into a destination and why tra… https://t.co/PhmJUBngOp', \"Some people's emotional reactions to COVID-19 are thought to be the same reactions they might have to a bereavement… https://t.co/8dG5QubL3U\", 'Join @Kafoodle, @QikServe and guest panelist Paul Cowie (Global Head of Catering at OCS Group) to discuss how corpo… https://t.co/AbEGDPm7zg', \"Heard the news? We're hosting a session at the #OpenGov #Digital #Youth Summit! How does #COVID19 provide an opport… https://t.co/EF8YGRET5w\", '“It feels like the sacrifices we all made in the initial four or five months were a waste. How long is this going t… https://t.co/CqK13Kkak0', 'Listen to @FionaReporter on the one-off #CPhI podcast talking to @Dan5tanton, @BioPlanInc\\n💉 How can we produce… https://t.co/HuOVNkED3T', 'So, are gyms COVID19 safe? https://t.co/6RQ15CpcJv', '#COVID19 is exposing #health #inequalities &gt; watch this video by the Centre for BME (Black and Minority Ethnic) Hea… https://t.co/p2uXCLajTB', 'How do #ambulance services play a pivotal role in responding to #Covid19 ? \\n\\n@AACE_org Chair &amp; @NWAmbulance Chief E… https://t.co/lwApKmk6zT', '#BreakingNews #COVID warning #Europe #COVID19 #coronavirus death rate could reach five times April #firstwave peak… https://t.co/TGedwPY9TN', \"@realDonaldTrump's family have taken Regeneron\\nfor Covid19. The drug's ORIGINS and INITIAL testing were from aborte… https://t.co/2B3wyYzSw3\", '@realDonaldTrump So what exactly have you done for Iowa? I mean except that you gave Covid19 a bit more of exposure… https://t.co/tb2iafhazF', 'Patients, prison staff and police officers have filed 90 complaints in the last few months, largely over shortages… https://t.co/dMddiFhtSN', '#COVID19 #UK records 18,980 #coronavirus cases #today with English #NHS #hospital admissions up 15% 18,980 further… https://t.co/j3MFeHTzNW', \"@cmvalentineb @NotOurFaith @realDonaldTrump Is that why @realDonaldTrump's family are taking Regeneron for Covid19.… https://t.co/7rv0EA6Eh9\", 'In the your latest #familybusiness roundup, James #Dyson says #entrepreneurialism and #wealthcreation will help… https://t.co/G3Dr84qksN', \"#UK #COVID #Northwest #England being set up like 'canaries in coalmine', says #AndyBurnham\\n#Manchester mayor backed… https://t.co/Rku8171ci7\", 'Handwashing with is a critical line of defence against the spread of #COVID19. \\n\\nYet 3 billion people still live wi… https://t.co/GlKn2MIAJa', '\"Even if your symptoms are mild, you should get a FREE #Covid19 test now to help us get back to doing the things we… https://t.co/yLesDOhFcB', 'How much more mileage can Roche, and the other #IVD players, get from #COVID19 ? https://t.co/Ci3cenDoJ1', 'Tier two high Covid19 alert includes https://t.co/KStpO93a60', 'Was such a pleasure to speak with @merici @Marthalanefox and @KajalOdedra1 this evening for the @AdasList rethinkin… https://t.co/qmPXNXnhAd', \"LizAshallPayne: New blog  #DigitalHealth and #COVID19: \\n\\nOpportunity and Threat.\\n\\nAssurance doesn't have to be slow… https://t.co/lBKSTVcqcC\", 'With the new #JobSupportScheme starting next month, our #payroll team have been answering your questions. \\n\\nHave yo… https://t.co/wsdxGhqU0Z', 'When will we get Corona Virus Vaccine? #ClimateChange #nasa via https://t.co/3NKgw00W6J https://t.co/cj7rUAUKPg', 'Would like to correct. The announcement is that as of midnight Tier 2 will affect London, Essex and parts of Surrey… https://t.co/mWif9gd3iI', 'please @DavidMalpassWBG &amp; @WorldBank, suspend debt repayments now to help countries respond to #COVID19 #ONEWORLD https://t.co/3z7HD3i9k7', 'I support @DavidMalpassWBG and @WorldBank in finding ways to give debt relief, starting with suspending debt repaym… https://t.co/DivVGyNzx0', 'BJR|Open paper\\nAssigning computed tomography involvement score in COVID-19 patients: prognosis prediction and impac… https://t.co/DkQ2mSyyuF', 'I agree, @DavidMalpassWBG, if more progress isn’t made, we risk pushing more than 115 million more people into extr… https://t.co/g30Wae4IPS', '@Pudsk @Biggreenbooks @The_PBS @dgquarterly I re-read love in the time of cholera whilst on holiday this August. 🙄… https://t.co/e32LqbW4qr', 'I agree, @DavidMalpassWBG, if we don’t take urgent action, like suspending debt repayments, we will never make enou… https://t.co/w87loqm6HF'], ['Kent', 'A new walk-through appointment #Covid19 testing site is open for those with symptoms in the Building 2 car park nex… https://t.co/rQq0ioKJEH'], ['Cambridge', 'Work led by @QBI_UCSF found similarities in how 3 coronaviruses, including #SARSCOV2, engage human hosts. Studying… https://t.co/GiFnqkcOQV', \"Tanzania: Updated information about public spaces and services  due to COVID19 ('Coronavirus' page), updated inform… https://t.co/dJRpM06Ve9\", 'People struggling with long-term symptoms of #Covid19 – dubbed #LongCovid – have spoken about the challenges they’v… https://t.co/oMK7ZsE26T', '@BallouxFrancois @drvictoriafox Or may this has always been the case, its just that #Covid19 made it more visible,… https://t.co/M2bAjEHoKC', 'More on #COVID19 risks for children, how species richness and redundancy maintain ecological mutualisms, and how sc… https://t.co/Cf1EfkHTfl'], ['Manchester', 'Today we appreciate Dr. Mohammed Kamara, an Emergency Medicine Consultant. We appreciate your time to help educate… https://t.co/0WZwPMc3Ez', 'As #Covid19 and #climatechange threaten chaos and racial inequality widens how can the #neweconomy model of #coops… https://t.co/v8l487IqKG', '#Coops councils network is on the lookout for projects to #buildbackgreener after #Covid19 https://t.co/mnqovx6xQc', '@Isabell75543494 @RussInCheshire Which is genius: what is the demographic more at risk from covid19? Ah yes, the el… https://t.co/7ofFq7ilFz', \"#Creditunions told to adapt to the new normal as the #Covid19 accelerates the consumers' switch to #digital. Report… https://t.co/4e8cdbNAXq\"], ['Wilt', 'For \\u2066@rosieposie750\\u2069\\nHelp slow the spread of #COVID19 and identify at risk cases sooner by self-reporting your symp… https://t.co/HOXTBRn8GD'], ['Cornwall', \"With public #FireworkDisplays being cancelled due to #Covid19, we're advising against having bonfires &amp; fireworks a… https://t.co/TEKOTuRwy2\"], ['Lanca', 'National Grid has published its Winter Outlook report for the coming months, forecasting an 8.3% margin over the co… https://t.co/ooEJ9TdPaT'], ['Sussex', 'Chichester City Council launches new Covid19 Civic Awards: In order to acknowledge the efforts of individuals, grou… https://t.co/0AJ13UENSm', 'The #KnowledgeShareNHS team is adding new evidence and guidance on #covid19 daily https://t.co/ihqJcL4CpQ https://t.co/N96evb8cQY', 'So, are gyms COVID19 safe? https://t.co/6RQ15CpcJv', '@johnharris1969 This Governement is causing more division than ever. It sickens me to see My Friends in North being… https://t.co/1a3BJiiIJA'], ['Lincoln', \"Remember infectious particles can easily spread 2 metres, especially indoors.\\n\\nLet's keep our social distance and v… https://t.co/LMNBZxK1nz\"], ['Oxford', 'Our #faceshields are in #Kenya 🇰🇪 with the wonderful people of @TheNasioTrust. 🙌\\U0001f973 🌍\\n\\nAiming to protect the #medics… https://t.co/4aHLueBfZy'], ['Somerset', 'Thread by @berniespofforth👏👏\\n\"COVID19 has been good for SERCO worldwide with 15,000 staff deployed to maximise prof… https://t.co/LrSuDDmhG3'], ['Worcester', '.@JulianWTO_UN Will you support the proposal by the governments of India and South Africa to suspend the unjust rul… https://t.co/5AL9DBiwJw', 'Is someone in your family #pregnant? Find information about #coronavirus from @RCObsGyn  here (updated yesterday, O… https://t.co/0EGH2StDOx'], ['Northampton', 'Boris misled #ukparliament. He lied to the queen. He deceived his previous partners and you believe he’s telling yo… https://t.co/SkMYTPSd5z', 'This is a great position for the @WorldBank’s president @DavidMalpassWBG to take 🙌 it’s vital that we all work toge… https://t.co/b8M14leDVu'], ['Durham', \"If you haven't yet fathomed why the UK is well on its way to a bleak #covid winter, give this a view. \\n#Covid19… https://t.co/ctAS7mdBoz\"], ['Bristol', 'The Commons Project Foundation @commons_prjct and the World Economic Forum @wef have started trials for… https://t.co/vriHiK7abt', \"@SilverSober You might have already worked this out in case it's useful:\\n\\nWhat happened here:\\n- iOS/ Android detect… https://t.co/CrpxW6Iiw6\"], ['Norfolk', 'Simple leaflet, no frills - Coping with Stress during COVID. The basics from the experts at WHO. Stay Safe &amp; aim to… https://t.co/7vsCAy3fKh'], ['Derby', 'Help slow the spread of #COVID19 and identify at risk cases sooner by self-reporting your symptoms daily, even if y… https://t.co/yBYUTdWxFA'], ['Essex', 'This is a great position for the @WorldBank’s president @DavidMalpassWBG to take 🙌 it’s vital that we all work toge… https://t.co/WxP7xKpNbU'], ['Hertford', '@DrTomFrieden Correct, especially as antiviral features of Covid19 may render natural immunity imperfect. There is… https://t.co/H8KxjUi8BE'], ['Cumbria', '@Crof @V2019N We have same amount of Covid19 deaths as Florida but 5x cases 🤔'], ['Merseyside', 'The world’s poorest need your help @DavidMalpassWBG! Help the #COVID19 recovery by cancelling debt repayments for t… https://t.co/8XBz1eal3m'], ['Northumberland', 'Get the NHS #Covid19 app today👉 https://t.co/TCZDgQe4P8\\n\\nThe more people that do the right thing - by using the app… https://t.co/dpmKUQCvZ5'], ['Shrop', 'Tighter coronavirus restrictions are \"inevitable\" in Telford as the infection rate continues to rise, residents hav… https://t.co/keBzfG7Zod'], ['Hereford', 'Yes @DavidMalpassWBG we agree, there has been progress, but not nearly enough.Without taking fast action and suspen… https://t.co/0ym8v2SScq']]\n"
          ],
          "name": "stdout"
        }
      ]
    },
    {
      "cell_type": "code",
      "metadata": {
        "id": "03M6gOZzc7rb",
        "outputId": "eece3f35-dc51-43ae-8fab-ace749ffac0c",
        "colab": {
          "base_uri": "https://localhost:8080/",
          "height": 54
        }
      },
      "source": [
        "import numpy as np \n",
        "import pandas as pd \n",
        "import re  \n",
        "import nltk # an amazing library to play with natural language\n",
        "nltk.download('stopwords')\n",
        "from nltk.corpus import stopwords\n"
      ],
      "execution_count": 182,
      "outputs": [
        {
          "output_type": "stream",
          "text": [
            "[nltk_data] Downloading package stopwords to /root/nltk_data...\n",
            "[nltk_data]   Package stopwords is already up-to-date!\n"
          ],
          "name": "stdout"
        }
      ]
    },
    {
      "cell_type": "code",
      "metadata": {
        "id": "LIIrJYhVdD9y",
        "outputId": "9c12f08a-5604-4251-f863-787d9334d44f",
        "colab": {
          "base_uri": "https://localhost:8080/",
          "height": 278
        }
      },
      "source": [
        "tweets = pd.read_csv(\"https://raw.githubusercontent.com/kolaveridi/kaggle-Twitter-US-Airline-Sentiment-/master/Tweets.csv\")\n",
        "print(tweets)"
      ],
      "execution_count": 183,
      "outputs": [
        {
          "output_type": "stream",
          "text": [
            "                 tweet_id  ...               user_timezone\n",
            "0      570306133677760513  ...  Eastern Time (US & Canada)\n",
            "1      570301130888122368  ...  Pacific Time (US & Canada)\n",
            "2      570301083672813571  ...  Central Time (US & Canada)\n",
            "3      570301031407624196  ...  Pacific Time (US & Canada)\n",
            "4      570300817074462722  ...  Pacific Time (US & Canada)\n",
            "...                   ...  ...                         ...\n",
            "14635  569587686496825344  ...                         NaN\n",
            "14636  569587371693355008  ...                         NaN\n",
            "14637  569587242672398336  ...                         NaN\n",
            "14638  569587188687634433  ...  Eastern Time (US & Canada)\n",
            "14639  569587140490866689  ...                         NaN\n",
            "\n",
            "[14640 rows x 15 columns]\n"
          ],
          "name": "stdout"
        }
      ]
    },
    {
      "cell_type": "code",
      "metadata": {
        "id": "yUFttnmRdTol",
        "outputId": "d8def3d7-09e0-45ff-e710-4ec573bef662",
        "colab": {
          "base_uri": "https://localhost:8080/",
          "height": 129
        }
      },
      "source": [
        "X = tweets.iloc[:, 10].values\n",
        "y = tweets.iloc[:, 1].values\n",
        "\n",
        "print(X)"
      ],
      "execution_count": 184,
      "outputs": [
        {
          "output_type": "stream",
          "text": [
            "['@VirginAmerica What @dhepburn said.'\n",
            " \"@VirginAmerica plus you've added commercials to the experience... tacky.\"\n",
            " \"@VirginAmerica I didn't today... Must mean I need to take another trip!\"\n",
            " ... '@AmericanAir Please bring American Airlines to #BlackBerry10'\n",
            " \"@AmericanAir you have my money, you change my flight, and don't answer your phones! Any other suggestions so I can make my commitment??\"\n",
            " '@AmericanAir we have 8 ppl so we need 2 know how many seats are on the next flight. Plz put us on standby for 4 people on the next flight?']\n"
          ],
          "name": "stdout"
        }
      ]
    },
    {
      "cell_type": "code",
      "metadata": {
        "id": "wCbe6x3cqOAR"
      },
      "source": [
        "processed_tweets = []\n",
        " \n",
        "for tweet in range(0, len(X)):  \n",
        "    # Remove all the special characters\n",
        "    processed_tweet = re.sub(r'\\W', ' ', str(X[tweet]))\n",
        " \n",
        "    # remove all single characters\n",
        "    processed_tweet = re.sub(r'\\s+[a-zA-Z]\\s+', ' ', processed_tweet)\n",
        " \n",
        "    # Remove single characters from the start\n",
        "    processed_tweet = re.sub(r'\\^[a-zA-Z]\\s+', ' ', processed_tweet) \n",
        " \n",
        "    # Substituting multiple spaces with single space\n",
        "    processed_tweet= re.sub(r'\\s+', ' ', processed_tweet, flags=re.I)\n",
        " \n",
        "    # Removing prefixed 'b'\n",
        "    processed_tweet = re.sub(r'^b\\s+', '', processed_tweet)\n",
        " \n",
        "    # Converting to Lowercase\n",
        "    processed_tweet = processed_tweet.lower()\n",
        " \n",
        "    processed_tweets.append(processed_tweet)\n",
        "\n",
        "\n",
        "\n"
      ],
      "execution_count": 185,
      "outputs": []
    },
    {
      "cell_type": "code",
      "metadata": {
        "id": "fvvzPXC7daw9"
      },
      "source": [
        "from sklearn.feature_extraction.text import TfidfVectorizer  \n",
        "tfidfconverter = TfidfVectorizer(max_features=2000, min_df=5, max_df=0.7, stop_words=stopwords.words('english'))  \n",
        "X = tfidfconverter.fit_transform(processed_tweets).toarray()\n"
      ],
      "execution_count": 186,
      "outputs": []
    },
    {
      "cell_type": "code",
      "metadata": {
        "id": "_yReZpg4dftB",
        "outputId": "35b6ff34-4119-4d72-f28c-08afaf92583c",
        "colab": {
          "base_uri": "https://localhost:8080/",
          "height": 166
        }
      },
      "source": [
        "from sklearn.ensemble import RandomForestClassifier\n",
        "text_classifier = RandomForestClassifier(n_estimators=100, random_state=1)  \n",
        "text_classifier.fit(X, y)"
      ],
      "execution_count": 187,
      "outputs": [
        {
          "output_type": "execute_result",
          "data": {
            "text/plain": [
              "RandomForestClassifier(bootstrap=True, ccp_alpha=0.0, class_weight=None,\n",
              "                       criterion='gini', max_depth=None, max_features='auto',\n",
              "                       max_leaf_nodes=None, max_samples=None,\n",
              "                       min_impurity_decrease=0.0, min_impurity_split=None,\n",
              "                       min_samples_leaf=1, min_samples_split=2,\n",
              "                       min_weight_fraction_leaf=0.0, n_estimators=100,\n",
              "                       n_jobs=None, oob_score=False, random_state=1, verbose=0,\n",
              "                       warm_start=False)"
            ]
          },
          "metadata": {
            "tags": []
          },
          "execution_count": 187
        }
      ]
    },
    {
      "cell_type": "code",
      "metadata": {
        "id": "PiH3lhymdsYI",
        "outputId": "71e95051-3cf3-4512-ce95-f9e652c8c9fe",
        "colab": {
          "base_uri": "https://localhost:8080/",
          "height": 73
        }
      },
      "source": [
        "negativeCounter = 0\n",
        "neutralCounter = 0\n",
        "positiveCounter = 0\n",
        "for tweet in all_tweets:\n",
        "    # Remove all the special characters\n",
        "    processed_tweet = re.sub(r'\\W', ' ', tweet)\n",
        " \n",
        "    # remove all single characters\n",
        "    processed_tweet = re.sub(r'\\s+[a-zA-Z]\\s+', ' ', processed_tweet)\n",
        " \n",
        "    # Remove single characters from the start\n",
        "    processed_tweet = re.sub(r'\\^[a-zA-Z]\\s+', ' ', processed_tweet) \n",
        " \n",
        "    # Substituting multiple spaces with single space\n",
        "    processed_tweet= re.sub(r'\\s+', ' ', processed_tweet, flags=re.I)\n",
        " \n",
        "    # Removing prefixed 'b'\n",
        "    processed_tweet = re.sub(r'^b\\s+', '', processed_tweet)\n",
        " \n",
        "    # Converting to Lowercase\n",
        "    processed_tweet = processed_tweet.lower()\n",
        " \n",
        "    sentiment = text_classifier.predict(tfidfconverter.transform([ processed_tweet]).toarray())\n",
        "    \n",
        "    #print(processed_tweet,\":\",sentiment)\n",
        "\n",
        "    # We need to create something that counts the different sentiments\n",
        "    # Which will then be the data for the pie chart.\n",
        "\n",
        "\n",
        "    if sentiment == \"positive\":\n",
        "      positiveCounter+=1\n",
        "    elif sentiment == \"negative\":\n",
        "      negativeCounter+=1\n",
        "    elif sentiment == \"neutral\":\n",
        "      neutralCounter+=1\n",
        "\n",
        "print(\"Positive sentiments:\",positiveCounter)\n",
        "print(\"Negative sentiments:\",negativeCounter)\n",
        "print(\"Neutral sentiments:\",neutralCounter)\n"
      ],
      "execution_count": 188,
      "outputs": [
        {
          "output_type": "stream",
          "text": [
            "Positive sentiments: 133\n",
            "Negative sentiments: 1345\n",
            "Neutral sentiments: 1522\n"
          ],
          "name": "stdout"
        }
      ]
    },
    {
      "cell_type": "code",
      "metadata": {
        "id": "VDaJmrerMbO1",
        "outputId": "366a7101-a19e-4cbe-d82c-9d5d2ba09484",
        "colab": {
          "base_uri": "https://localhost:8080/",
          "height": 56
        }
      },
      "source": [
        "sentiment_county_data = []\n",
        "found = False\n",
        "location = \"\"\n",
        "\n",
        "\n",
        "for each in range(len(tweetLocationData)):\n",
        "    for index in tweetLocationData[each]:\n",
        "        if index not in countyList:\n",
        "            sentiment = text_classifier.predict(tfidfconverter.transform([index])).tolist()[0]\n",
        "            location = tweetLocationData[each][0]\n",
        "            if len(sentiment_county_data) == 0:\n",
        "                sentiment_county_data.append([location, sentiment])\n",
        "            else:\n",
        "                for x in sentiment_county_data:\n",
        "                    if x[0] == location:\n",
        "                        found = True\n",
        "                        break\n",
        "                    else:\n",
        "                        found = False\n",
        "                if found == True:\n",
        "                    x.append(sentiment)\n",
        "                else:\n",
        "                    sentiment_county_data.append([location,sentiment])\n",
        "\n",
        "\n",
        "\n",
        "print(sentiment_county_data)"
      ],
      "execution_count": 189,
      "outputs": [
        {
          "output_type": "stream",
          "text": [
            "[['London', 'neutral', 'positive', 'neutral', 'neutral', 'neutral', 'neutral', 'negative', 'neutral', 'negative', 'neutral', 'neutral', 'negative', 'neutral', 'neutral', 'negative', 'negative', 'neutral', 'negative', 'negative', 'neutral', 'neutral', 'neutral', 'negative', 'neutral', 'negative', 'negative', 'negative', 'neutral', 'neutral', 'neutral', 'negative', 'negative', 'neutral', 'neutral', 'neutral', 'neutral', 'neutral', 'neutral', 'negative', 'neutral', 'negative', 'neutral', 'negative', 'positive', 'negative'], ['Kent', 'neutral'], ['Cambridge', 'neutral', 'negative', 'negative', 'neutral', 'neutral'], ['Manchester', 'positive', 'neutral', 'neutral', 'neutral', 'negative'], ['Wilt', 'neutral'], ['Cornwall', 'negative'], ['Lanca', 'neutral'], ['Sussex', 'neutral', 'neutral', 'neutral', 'neutral'], ['Lincoln', 'negative'], ['Oxford', 'negative'], ['Somerset', 'positive'], ['Worcester', 'neutral', 'neutral'], ['Northampton', 'negative', 'positive'], ['Durham', 'negative'], ['Bristol', 'neutral', 'negative'], ['Norfolk', 'negative'], ['Derby', 'negative'], ['Essex', 'positive'], ['Hertford', 'neutral'], ['Cumbria', 'negative'], ['Merseyside', 'neutral'], ['Northumberland', 'negative'], ['Shrop', 'neutral'], ['Hereford', 'negative']]\n"
          ],
          "name": "stdout"
        }
      ]
    },
    {
      "cell_type": "code",
      "metadata": {
        "id": "qmQs47arbKTy",
        "outputId": "96e39af8-6eb8-4b12-c774-edb985ec310e",
        "colab": {
          "base_uri": "https://localhost:8080/",
          "height": 264
        }
      },
      "source": [
        "import matplotlib.pyplot as pyplot\n",
        "labels = \"Negative\", \"Neutral\", \"Positive\"\n",
        "sizes = [negativeCounter,neutralCounter,positiveCounter]\n",
        "colors = [\"red\",\"yellow\",\"green\"]\n",
        "\n",
        "if sizes[0] > sizes[1] and sizes[0] > sizes[1]:\n",
        "    explode = (0.1,0,0)\n",
        "elif sizes[1] > sizes[0] and sizes[1] > sizes[2]:\n",
        "    explode = (0,0.1,0)\n",
        "else:\n",
        "    explode = (0,0,0.1)\n",
        "\n",
        "\n",
        "pyplot.pie(sizes,explode = explode, labels=labels,colors=colors,autopct=\"%1.1f%%\", shadow=True, startangle=90)\n",
        "pyplot.axis(\"equal\")\n",
        "pyplot.title(\"Semantics of all \" + str(positiveCounter + negativeCounter + neutralCounter) + \" tweets\")\n",
        "pyplot.show()\n"
      ],
      "execution_count": 190,
      "outputs": [
        {
          "output_type": "display_data",
          "data": {
            "image/png": "[encoded data removed]",
            "text/plain": [
              "<Figure size 432x288 with 1 Axes>"
            ]
          },
          "metadata": {
            "tags": []
          }
        }
      ]
    },
    {
      "cell_type": "code",
      "metadata": {
        "id": "Zx5TtLk4eMAM",
        "outputId": "df459bda-d605-4505-dabc-0538b1179a72",
        "colab": {
          "base_uri": "https://localhost:8080/",
          "height": 1000
        }
      },
      "source": [
        "\n",
        "for each in range(len(sentiment_county_data)):\n",
        "    negativeCounter = 0\n",
        "    neutralCounter = 0\n",
        "    positiveCounter = 0\n",
        "    for x in sentiment_county_data[each]:\n",
        "        current_location = sentiment_county_data[each][0]  \n",
        "        if x == \"positive\":\n",
        "            positiveCounter+=1\n",
        "        elif x == \"negative\":\n",
        "            negativeCounter+=1\n",
        "        elif x == \"neutral\":\n",
        "            neutralCounter+=1\n",
        "        \n",
        "    print(\"County: \", current_location, \"   ({} total tweets) \".format(positiveCounter + negativeCounter + neutralCounter))\n",
        "    print(\"Positive Tweets: \", positiveCounter)\n",
        "    print(\"Negative Tweets: \", negativeCounter)\n",
        "    print(\"Neutral Tweets : \", neutralCounter, \"\\n\\n\")\n",
        "\n",
        "\n"
      ],
      "execution_count": 191,
      "outputs": [
        {
          "output_type": "stream",
          "text": [
            "County:  London    (45 total tweets) \n",
            "Positive Tweets:  2\n",
            "Negative Tweets:  17\n",
            "Neutral Tweets :  26 \n",
            "\n",
            "\n",
            "County:  Kent    (1 total tweets) \n",
            "Positive Tweets:  0\n",
            "Negative Tweets:  0\n",
            "Neutral Tweets :  1 \n",
            "\n",
            "\n",
            "County:  Cambridge    (5 total tweets) \n",
            "Positive Tweets:  0\n",
            "Negative Tweets:  2\n",
            "Neutral Tweets :  3 \n",
            "\n",
            "\n",
            "County:  Manchester    (5 total tweets) \n",
            "Positive Tweets:  1\n",
            "Negative Tweets:  1\n",
            "Neutral Tweets :  3 \n",
            "\n",
            "\n",
            "County:  Wilt    (1 total tweets) \n",
            "Positive Tweets:  0\n",
            "Negative Tweets:  0\n",
            "Neutral Tweets :  1 \n",
            "\n",
            "\n",
            "County:  Cornwall    (1 total tweets) \n",
            "Positive Tweets:  0\n",
            "Negative Tweets:  1\n",
            "Neutral Tweets :  0 \n",
            "\n",
            "\n",
            "County:  Lanca    (1 total tweets) \n",
            "Positive Tweets:  0\n",
            "Negative Tweets:  0\n",
            "Neutral Tweets :  1 \n",
            "\n",
            "\n",
            "County:  Sussex    (4 total tweets) \n",
            "Positive Tweets:  0\n",
            "Negative Tweets:  0\n",
            "Neutral Tweets :  4 \n",
            "\n",
            "\n",
            "County:  Lincoln    (1 total tweets) \n",
            "Positive Tweets:  0\n",
            "Negative Tweets:  1\n",
            "Neutral Tweets :  0 \n",
            "\n",
            "\n",
            "County:  Oxford    (1 total tweets) \n",
            "Positive Tweets:  0\n",
            "Negative Tweets:  1\n",
            "Neutral Tweets :  0 \n",
            "\n",
            "\n",
            "County:  Somerset    (1 total tweets) \n",
            "Positive Tweets:  1\n",
            "Negative Tweets:  0\n",
            "Neutral Tweets :  0 \n",
            "\n",
            "\n",
            "County:  Worcester    (2 total tweets) \n",
            "Positive Tweets:  0\n",
            "Negative Tweets:  0\n",
            "Neutral Tweets :  2 \n",
            "\n",
            "\n",
            "County:  Northampton    (2 total tweets) \n",
            "Positive Tweets:  1\n",
            "Negative Tweets:  1\n",
            "Neutral Tweets :  0 \n",
            "\n",
            "\n",
            "County:  Durham    (1 total tweets) \n",
            "Positive Tweets:  0\n",
            "Negative Tweets:  1\n",
            "Neutral Tweets :  0 \n",
            "\n",
            "\n",
            "County:  Bristol    (2 total tweets) \n",
            "Positive Tweets:  0\n",
            "Negative Tweets:  1\n",
            "Neutral Tweets :  1 \n",
            "\n",
            "\n",
            "County:  Norfolk    (1 total tweets) \n",
            "Positive Tweets:  0\n",
            "Negative Tweets:  1\n",
            "Neutral Tweets :  0 \n",
            "\n",
            "\n",
            "County:  Derby    (1 total tweets) \n",
            "Positive Tweets:  0\n",
            "Negative Tweets:  1\n",
            "Neutral Tweets :  0 \n",
            "\n",
            "\n",
            "County:  Essex    (1 total tweets) \n",
            "Positive Tweets:  1\n",
            "Negative Tweets:  0\n",
            "Neutral Tweets :  0 \n",
            "\n",
            "\n",
            "County:  Hertford    (1 total tweets) \n",
            "Positive Tweets:  0\n",
            "Negative Tweets:  0\n",
            "Neutral Tweets :  1 \n",
            "\n",
            "\n",
            "County:  Cumbria    (1 total tweets) \n",
            "Positive Tweets:  0\n",
            "Negative Tweets:  1\n",
            "Neutral Tweets :  0 \n",
            "\n",
            "\n",
            "County:  Merseyside    (1 total tweets) \n",
            "Positive Tweets:  0\n",
            "Negative Tweets:  0\n",
            "Neutral Tweets :  1 \n",
            "\n",
            "\n",
            "County:  Northumberland    (1 total tweets) \n",
            "Positive Tweets:  0\n",
            "Negative Tweets:  1\n",
            "Neutral Tweets :  0 \n",
            "\n",
            "\n",
            "County:  Shrop    (1 total tweets) \n",
            "Positive Tweets:  0\n",
            "Negative Tweets:  0\n",
            "Neutral Tweets :  1 \n",
            "\n",
            "\n",
            "County:  Hereford    (1 total tweets) \n",
            "Positive Tweets:  0\n",
            "Negative Tweets:  1\n",
            "Neutral Tweets :  0 \n",
            "\n",
            "\n"
          ],
          "name": "stdout"
        }
      ]
    }
  ]
}