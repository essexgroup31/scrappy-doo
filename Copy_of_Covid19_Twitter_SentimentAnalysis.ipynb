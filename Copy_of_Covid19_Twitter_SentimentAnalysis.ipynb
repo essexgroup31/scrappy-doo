{
  "nbformat": 4,
  "nbformat_minor": 0,
  "metadata": {
    "colab": {
      "name": "Copy of Covid19_Twitter_SentimentAnalysis.ipynb",
      "provenance": [],
      "collapsed_sections": [],
      "include_colab_link": true
    },
    "kernelspec": {
      "name": "python3",
      "display_name": "Python 3"
    },
    "accelerator": "GPU"
  },
  "cells": [
    {
      "cell_type": "markdown",
      "metadata": {
        "id": "view-in-github",
        "colab_type": "text"
      },
      "source": [
        "<a href=\"https://colab.research.google.com/github/essexgroup31/scrappy-doo/blob/main/Copy_of_Covid19_Twitter_SentimentAnalysis.ipynb\" target=\"_parent\"><img src=\"https://colab.research.google.com/assets/colab-badge.svg\" alt=\"Open In Colab\"/></a>"
      ]
    },
    {
      "cell_type": "code",
      "metadata": {
        "id": "sF2mRiOZa1Ms"
      },
      "source": [
        "# Install Tweepy\n",
        "#!pip install tweepy\n",
        "# Install Matplotlib\n",
        "#!pip install matplotlib\n"
      ],
      "execution_count": 3,
      "outputs": []
    },
    {
      "cell_type": "code",
      "metadata": {
        "id": "7urxl91rz4Ff"
      },
      "source": [
        "def removeSuffix(item,suffix):\n",
        "  if item.endswith(suffix):\n",
        "    return item[:-len(suffix)]\n",
        "  else:\n",
        "    return item[:]"
      ],
      "execution_count": 4,
      "outputs": []
    },
    {
      "cell_type": "code",
      "metadata": {
        "id": "IClLK4ht3DbW"
      },
      "source": [
        "import string\n",
        "def punctuationRemover(sentence):\n",
        "    myList = []\n",
        "    for each in range(len(sentence)-1):\n",
        "        if sentence[each] in string.punctuation:\n",
        "            \n",
        "            if sentence[each+1] in string.ascii_letters:\n",
        "                myList.append(sentence[each])\n",
        "                myList.append(\" \")\n",
        "            else:\n",
        "                myList.append(sentence[each])\n",
        "        else:\n",
        "            myList.append(sentence[each])   # <------------------ HERE IS THE ERROR\n",
        "                \n",
        "    \n",
        "    for each in range(len(myList)):\n",
        "        if myList[each] in string.punctuation:\n",
        "            myList[each] = \"/\"\n",
        "\n",
        "    sentence = \"\"\n",
        "\n",
        "    for each in myList:\n",
        "        if each != \"/\":\n",
        "          sentence = sentence + str(each)\n",
        "    return sentence"
      ],
      "execution_count": 13,
      "outputs": []
    },
    {
      "cell_type": "code",
      "metadata": {
        "id": "lBbrzco8OZKd"
      },
      "source": [
        "def stripShire(sentence):\n",
        "    sentence = sentence.split()\n",
        "    completedsentence = []\n",
        "    \n",
        "    for each in sentence:\n",
        "        completedsentence.append(removeSuffix(each, \"shire\"))\n",
        "    \n",
        "\n",
        "    return completedsentence"
      ],
      "execution_count": 6,
      "outputs": []
    },
    {
      "cell_type": "code",
      "metadata": {
        "id": "MBSMP6OHbDo9",
        "outputId": "597699c0-923b-4605-ca7c-68c444dd43bb",
        "colab": {
          "base_uri": "https://localhost:8080/",
          "height": 54
        }
      },
      "source": [
        "import re\n",
        "import tweepy\n",
        "from tweepy import OAuthHandler\n",
        "consumer_api_key = 'uQP9N32xpuEIujXsDV2VgcekC'\n",
        "consumer_api_secret = 'aLWDUV2P718ZoOicHCgpvQ8JUWgaOVcce14iA5oXGdtb0PsEV8' \n",
        "access_token = '1315962347836579840-WKXz7fp8UEZAaOtABYv1fIpoZpXX7q'\n",
        "access_token_secret ='mitdeExvQ0SFuPGn3HsUhG0faElwQQPSE7FmhaZBNvh76'\n",
        "print (consumer_api_key)\n",
        "print (access_token)"
      ],
      "execution_count": 7,
      "outputs": [
        {
          "output_type": "stream",
          "text": [
            "uQP9N32xpuEIujXsDV2VgcekC\n",
            "1315962347836579840-WKXz7fp8UEZAaOtABYv1fIpoZpXX7q\n"
          ],
          "name": "stdout"
        }
      ]
    },
    {
      "cell_type": "code",
      "metadata": {
        "id": "3DXzCMJPbUSe"
      },
      "source": [
        "authorizer = OAuthHandler(consumer_api_key, consumer_api_secret)\n",
        "authorizer.set_access_token(access_token, access_token_secret)"
      ],
      "execution_count": 8,
      "outputs": []
    },
    {
      "cell_type": "code",
      "metadata": {
        "id": "YZkSLu2DfDjN"
      },
      "source": [
        "#search_query = input(\"Hello user, what would you like to search?\\nSearch: \")"
      ],
      "execution_count": 9,
      "outputs": []
    },
    {
      "cell_type": "code",
      "metadata": {
        "id": "PCvHKeQsbfvp"
      },
      "source": [
        "api = tweepy.API(authorizer ,timeout=15, wait_on_rate_limit=True)\n",
        "all_tweets = []\n",
        "\n",
        "search_query = 'covid19'\n",
        "\n",
        "for tweet_object in tweepy.Cursor(api.search,q=search_query+\" -filter:retweets\",lang='en',result_type='recent').items(2000):\n",
        "    all_tweets.append(tweet_object.text)\n",
        "    if (\"UK\" or \"United Kingdom\") in tweet_object.user.location:\n",
        "      ukTweetList.append(tweet_object)\n",
        "    "
      ],
      "execution_count": 10,
      "outputs": []
    },
    {
      "cell_type": "code",
      "metadata": {
        "id": "_t1F1uJGjxe8",
        "outputId": "419ae8e1-5638-4705-dbb5-384d947e75e0",
        "colab": {
          "base_uri": "https://localhost:8080/",
          "height": 55
        }
      },
      "source": [
        "ukCounties = [\"Bedford\",\"Berk\",\"Bristol\",\"Buckingham\",\"Cambridge\",\"Ches\",\"Cornwall\",\"Cumbria\",\"Derby\",\"Devon\",\"Dorset\",\"Durham\",\"Sussex\",\"Essex\",\"Gloucester\",\"City of London\", \"Manchester\", \"Hamp\",\"Hereford\",\"Hertford\",\"Isle of Wight\", \"Kent\", \"Lanca\", \"Leicester\",\"Lincoln\",\"London\", \"Merseyside\", \"Norfolk\", \"Northampton\", \"Northumberland\", \"North York\", \"Nottingham\", \"Oxford\", \"Rutland\", \"Shrop\", \"Somerset\",\"South York\", \"Stafford\", \"Suffold\", \"Surrey\", \"Tyne and Wear\", \"Warwick\", \"West Midlands\", \"West Sussex\", \"West York\", \"Wilt\", \"Worcester\"]\n",
        "countyList = []\n",
        "tweetLocationData = []\n",
        "# List of uk counties without \"shire\" at the end (because of the way that twitter works with locations)\n",
        "for each in ukTweetList:\n",
        "    tweetData = each.text\n",
        "    location = each.user.location\n",
        "    \n",
        "    #time to die :D (kill me)\n",
        "    location = punctuationRemover(location)\n",
        "    location = stripShire(location)\n",
        "\n",
        "    found = False\n",
        "\n",
        "    for x in location:\n",
        "        if x in ukCounties:\n",
        "            location = x\n",
        "            if len(tweetLocationData) == 0:\n",
        "                tweetLocationData.append([location,tweetData])\n",
        "                countyList.append(location)\n",
        "                break\n",
        "            else:\n",
        "                for each in tweetLocationData:\n",
        "                  if each[0] == location:\n",
        "                    found = True\n",
        "                    break\n",
        "                  else:\n",
        "                    found = False\n",
        "                \n",
        "                if found == True:\n",
        "                  each.append(tweetData)\n",
        "                else:\n",
        "                  tweetLocationData.append([location,tweetData])\n",
        "                  countyList.append(location)\n",
        "            \n",
        "\n",
        "print(tweetLocationData)\n",
        "    \n",
        "    \n",
        "\n"
      ],
      "execution_count": 15,
      "outputs": [
        {
          "output_type": "stream",
          "text": [
            "[['London', 'We continue our #COVID19 myth-busting series with the latest summary of coronavirus news --\\n\\nRead more here 👇\\nhttps://t.co/hAZXrOsm7p', 'Thanks @WFPHA_FMASP for including my photo of #London &amp; @bttowerlondon taken from @uclh during the first wave of… https://t.co/IxW9PmUPmI', 'Researchers argue #COVID19 herd immunity strategy is a \"dangerous fallacy\" in open letter https://t.co/6tCwnXp8t1 https://t.co/zwrSk74w6U', '👐💧 Check out Haidar in #Lebanon 🇱🇧 demonstrating how to properly wash your hands. Haidar has been attending virtual… https://t.co/XEsuHBWoAA', '#Colombia Remains Attractive Expansion Prospect For Retailers, Despite Covid-19: https://t.co/wQ46o6YmGC… https://t.co/KOl2dGOFvd', 'Dr Anna Stewart explains how she and her Clinical Research Unit have adapted to the #COVID19 pandemic.\\n\\nWatch the f… https://t.co/akoC7aomff', \"'It is now nine months since I began working with clients in Wuhan who were worried about a rapidly-spreading new v… https://t.co/Ax3I7sPsGl\", \"Can a $14bn #infrastructure plan help to kick-start #Mexico's economic recovery from the #Covid19 pandemic? \\n\\nFind… https://t.co/N4FbjTfy6K\", \"We're nearly through our special #CCCVideoSeries for the Catholic charities sector. Our next video on #ESG, purpose… https://t.co/jXB4uJgDUc\", '@TheLancet There is already sufficient evidence of the disparate effect of COVID19 on the general population. To en… https://t.co/ZzCn7l6KHz', '#Europe to #USA 3 months ago: \"You have no clue whatsoever how to deal with this #pandemic.\"\\n#UnitedStates to Europ… https://t.co/mIN1uIiHH9', '@MeetHajaar @Blecyn1 Real shame tbh! How can they now deploy an unsavored means call \"Covid19\" to deter those prote… https://t.co/dBU5cK3ycS', 'We’re documenting how the humanitarian system is adapting to #COVID19. Explore our new #dataviz to find examples of… https://t.co/l9Y21MKngf', 'Listen to Christina Cassotis, CEO of @PITairport\\ntalk about transforming the airport into a destination and why tra… https://t.co/PhmJUBngOp', \"Some people's emotional reactions to COVID-19 are thought to be the same reactions they might have to a bereavement… https://t.co/8dG5QubL3U\"], ['Kent', 'A new walk-through appointment #Covid19 testing site is open for those with symptoms in the Building 2 car park nex… https://t.co/rQq0ioKJEH'], ['Cambridge', 'Work led by @QBI_UCSF found similarities in how 3 coronaviruses, including #SARSCOV2, engage human hosts. Studying… https://t.co/GiFnqkcOQV'], ['Manchester', 'Today we appreciate Dr. Mohammed Kamara, an Emergency Medicine Consultant. We appreciate your time to help educate… https://t.co/0WZwPMc3Ez'], ['Wilt', 'For \\u2066@rosieposie750\\u2069\\nHelp slow the spread of #COVID19 and identify at risk cases sooner by self-reporting your symp… https://t.co/HOXTBRn8GD'], ['Cornwall', \"With public #FireworkDisplays being cancelled due to #Covid19, we're advising against having bonfires &amp; fireworks a… https://t.co/TEKOTuRwy2\"], ['Lanca', 'National Grid has published its Winter Outlook report for the coming months, forecasting an 8.3% margin over the co… https://t.co/ooEJ9TdPaT']]\n"
          ],
          "name": "stdout"
        }
      ]
    },
    {
      "cell_type": "code",
      "metadata": {
        "id": "03M6gOZzc7rb",
        "outputId": "ebdac97c-bcd5-441c-d3cd-718a96912621",
        "colab": {
          "base_uri": "https://localhost:8080/",
          "height": 54
        }
      },
      "source": [
        "import numpy as np \n",
        "import pandas as pd \n",
        "import re  \n",
        "import nltk # an amazing library to play with natural language\n",
        "nltk.download('stopwords')\n",
        "from nltk.corpus import stopwords\n"
      ],
      "execution_count": 16,
      "outputs": [
        {
          "output_type": "stream",
          "text": [
            "[nltk_data] Downloading package stopwords to /root/nltk_data...\n",
            "[nltk_data]   Unzipping corpora/stopwords.zip.\n"
          ],
          "name": "stdout"
        }
      ]
    },
    {
      "cell_type": "code",
      "metadata": {
        "id": "LIIrJYhVdD9y",
        "outputId": "ae417fb0-e92c-44a9-f45f-6d5614daa1d0",
        "colab": {
          "base_uri": "https://localhost:8080/",
          "height": 274
        }
      },
      "source": [
        "tweets = pd.read_csv(\"https://raw.githubusercontent.com/kolaveridi/kaggle-Twitter-US-Airline-Sentiment-/master/Tweets.csv\")\n",
        "print(tweets)"
      ],
      "execution_count": 17,
      "outputs": [
        {
          "output_type": "stream",
          "text": [
            "                 tweet_id  ...               user_timezone\n",
            "0      570306133677760513  ...  Eastern Time (US & Canada)\n",
            "1      570301130888122368  ...  Pacific Time (US & Canada)\n",
            "2      570301083672813571  ...  Central Time (US & Canada)\n",
            "3      570301031407624196  ...  Pacific Time (US & Canada)\n",
            "4      570300817074462722  ...  Pacific Time (US & Canada)\n",
            "...                   ...  ...                         ...\n",
            "14635  569587686496825344  ...                         NaN\n",
            "14636  569587371693355008  ...                         NaN\n",
            "14637  569587242672398336  ...                         NaN\n",
            "14638  569587188687634433  ...  Eastern Time (US & Canada)\n",
            "14639  569587140490866689  ...                         NaN\n",
            "\n",
            "[14640 rows x 15 columns]\n"
          ],
          "name": "stdout"
        }
      ]
    },
    {
      "cell_type": "code",
      "metadata": {
        "id": "yUFttnmRdTol",
        "outputId": "a6be8712-dff1-422e-df2a-c2be1e3fdc6d",
        "colab": {
          "base_uri": "https://localhost:8080/",
          "height": 127
        }
      },
      "source": [
        "X = tweets.iloc[:, 10].values\n",
        "y = tweets.iloc[:, 1].values\n",
        "\n",
        "print(X)"
      ],
      "execution_count": 18,
      "outputs": [
        {
          "output_type": "stream",
          "text": [
            "['@VirginAmerica What @dhepburn said.'\n",
            " \"@VirginAmerica plus you've added commercials to the experience... tacky.\"\n",
            " \"@VirginAmerica I didn't today... Must mean I need to take another trip!\"\n",
            " ... '@AmericanAir Please bring American Airlines to #BlackBerry10'\n",
            " \"@AmericanAir you have my money, you change my flight, and don't answer your phones! Any other suggestions so I can make my commitment??\"\n",
            " '@AmericanAir we have 8 ppl so we need 2 know how many seats are on the next flight. Plz put us on standby for 4 people on the next flight?']\n"
          ],
          "name": "stdout"
        }
      ]
    },
    {
      "cell_type": "code",
      "metadata": {
        "id": "wCbe6x3cqOAR"
      },
      "source": [
        "processed_tweets = []\n",
        " \n",
        "for tweet in range(0, len(X)):  \n",
        "    # Remove all the special characters\n",
        "    processed_tweet = re.sub(r'\\W', ' ', str(X[tweet]))\n",
        " \n",
        "    # remove all single characters\n",
        "    processed_tweet = re.sub(r'\\s+[a-zA-Z]\\s+', ' ', processed_tweet)\n",
        " \n",
        "    # Remove single characters from the start\n",
        "    processed_tweet = re.sub(r'\\^[a-zA-Z]\\s+', ' ', processed_tweet) \n",
        " \n",
        "    # Substituting multiple spaces with single space\n",
        "    processed_tweet= re.sub(r'\\s+', ' ', processed_tweet, flags=re.I)\n",
        " \n",
        "    # Removing prefixed 'b'\n",
        "    processed_tweet = re.sub(r'^b\\s+', '', processed_tweet)\n",
        " \n",
        "    # Converting to Lowercase\n",
        "    processed_tweet = processed_tweet.lower()\n",
        " \n",
        "    processed_tweets.append(processed_tweet)\n",
        "\n",
        "\n",
        "\n"
      ],
      "execution_count": 19,
      "outputs": []
    },
    {
      "cell_type": "code",
      "metadata": {
        "id": "fvvzPXC7daw9"
      },
      "source": [
        "from sklearn.feature_extraction.text import TfidfVectorizer  \n",
        "tfidfconverter = TfidfVectorizer(max_features=2000, min_df=5, max_df=0.7, stop_words=stopwords.words('english'))  \n",
        "X = tfidfconverter.fit_transform(processed_tweets).toarray()\n"
      ],
      "execution_count": 20,
      "outputs": []
    },
    {
      "cell_type": "code",
      "metadata": {
        "id": "_yReZpg4dftB",
        "outputId": "c99dfbf0-2fe7-4302-f9f2-2bf2956a7701",
        "colab": {
          "base_uri": "https://localhost:8080/",
          "height": 164
        }
      },
      "source": [
        "from sklearn.ensemble import RandomForestClassifier\n",
        "text_classifier = RandomForestClassifier(n_estimators=100, random_state=1)  \n",
        "text_classifier.fit(X, y)"
      ],
      "execution_count": 21,
      "outputs": [
        {
          "output_type": "execute_result",
          "data": {
            "text/plain": [
              "RandomForestClassifier(bootstrap=True, ccp_alpha=0.0, class_weight=None,\n",
              "                       criterion='gini', max_depth=None, max_features='auto',\n",
              "                       max_leaf_nodes=None, max_samples=None,\n",
              "                       min_impurity_decrease=0.0, min_impurity_split=None,\n",
              "                       min_samples_leaf=1, min_samples_split=2,\n",
              "                       min_weight_fraction_leaf=0.0, n_estimators=100,\n",
              "                       n_jobs=None, oob_score=False, random_state=1, verbose=0,\n",
              "                       warm_start=False)"
            ]
          },
          "metadata": {
            "tags": []
          },
          "execution_count": 21
        }
      ]
    },
    {
      "cell_type": "code",
      "metadata": {
        "id": "PiH3lhymdsYI",
        "outputId": "d29aa98d-47fb-443b-ce67-8cebb77376b0",
        "colab": {
          "base_uri": "https://localhost:8080/",
          "height": 72
        }
      },
      "source": [
        "negativeCounter = 0\n",
        "neutralCounter = 0\n",
        "positiveCounter = 0\n",
        "for tweet in all_tweets:\n",
        "    # Remove all the special characters\n",
        "    processed_tweet = re.sub(r'\\W', ' ', tweet)\n",
        " \n",
        "    # remove all single characters\n",
        "    processed_tweet = re.sub(r'\\s+[a-zA-Z]\\s+', ' ', processed_tweet)\n",
        " \n",
        "    # Remove single characters from the start\n",
        "    processed_tweet = re.sub(r'\\^[a-zA-Z]\\s+', ' ', processed_tweet) \n",
        " \n",
        "    # Substituting multiple spaces with single space\n",
        "    processed_tweet= re.sub(r'\\s+', ' ', processed_tweet, flags=re.I)\n",
        " \n",
        "    # Removing prefixed 'b'\n",
        "    processed_tweet = re.sub(r'^b\\s+', '', processed_tweet)\n",
        " \n",
        "    # Converting to Lowercase\n",
        "    processed_tweet = processed_tweet.lower()\n",
        " \n",
        "    sentiment = text_classifier.predict(tfidfconverter.transform([processed_tweet]).toarray())\n",
        "    \n",
        "\n",
        "    # We need to create something that counts the different sentiments\n",
        "    # Which will then be the data for the pie chart.\n",
        "\n",
        "    if sentiment == \"positive\":\n",
        "      positiveCounter+=1\n",
        "    elif sentiment == \"negative\":\n",
        "      negativeCounter+=1\n",
        "    elif sentiment == \"neutral\":\n",
        "      neutralCounter+=1\n",
        "   \n",
        "\n",
        "county_specified_tweets = []\n",
        "\n",
        "for each in range(len(tweetLocationData)):\n",
        "    for x in tweetLocationData[each]:\n",
        "        if x not in countyList:\n",
        "\n",
        "\n",
        "\n",
        "\n",
        "    \n",
        "\n",
        "#print(all_tweets)\n",
        "print(\"Positive sentiments:\",positiveCounter)\n",
        "print(\"Negative sentiments:\",negativeCounter)\n",
        "print(\"Neutral sentiments:\",neutralCounter)"
      ],
      "execution_count": 22,
      "outputs": [
        {
          "output_type": "stream",
          "text": [
            "Positive sentiments: 54\n",
            "Negative sentiments: 880\n",
            "Neutral sentiments: 1066\n"
          ],
          "name": "stdout"
        }
      ]
    },
    {
      "cell_type": "code",
      "metadata": {
        "id": "qmQs47arbKTy",
        "outputId": "27d390e5-0c58-4fc9-9861-dbeb2916d9fc",
        "colab": {
          "base_uri": "https://localhost:8080/",
          "height": 266
        }
      },
      "source": [
        "import matplotlib.pyplot as pyplot\n",
        "labels = \"Negative\", \"Neutral\", \"Positive\"\n",
        "sizes = [negativeCounter,neutralCounter,positiveCounter]\n",
        "print(sizes)\n",
        "colors = [\"red\",\"yellow\",\"green\"]\n",
        "\n",
        "if sizes[0] > sizes[1] and sizes[0] > sizes[1]:\n",
        "    explode = (0.1,0,0)\n",
        "elif sizes[1] > sizes[0] and sizes[1] > sizes[2]:\n",
        "    explode = (0,0.1,0)\n",
        "else:\n",
        "    explode = (0,0,0.1)\n",
        "\n",
        "\n",
        "pyplot.pie(sizes,explode = explode, labels=labels,colors=colors,autopct=\"%1.1f%%\", shadow=True, startangle=140)\n",
        "pyplot.axis(\"equal\")\n",
        "pyplot.show()\n"
      ],
      "execution_count": 23,
      "outputs": [
        {
          "output_type": "stream",
          "text": [
            "[880, 1066, 54]\n"
          ],
          "name": "stdout"
        },
        {
          "output_type": "display_data",
          "data": {
            "image/png": "[encoded data removed]",
            "text/plain": [
              "<Figure size 432x288 with 1 Axes>"
            ]
          },
          "metadata": {
            "tags": []
          }
        }
      ]
    }
  ]
}