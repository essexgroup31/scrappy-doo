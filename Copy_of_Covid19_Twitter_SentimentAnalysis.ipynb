{
  "nbformat": 4,
  "nbformat_minor": 0,
  "metadata": {
    "colab": {
      "name": "Copy of Covid19_Twitter_SentimentAnalysis.ipynb",
      "provenance": [],
      "collapsed_sections": [],
      "include_colab_link": true
    },
    "kernelspec": {
      "name": "python3",
      "display_name": "Python 3"
    },
    "accelerator": "GPU"
  },
  "cells": [
    {
      "cell_type": "markdown",
      "metadata": {
        "id": "view-in-github",
        "colab_type": "text"
      },
      "source": [
        "<a href=\"https://colab.research.google.com/github/essexgroup31/scrappy-doo/blob/main/Copy_of_Covid19_Twitter_SentimentAnalysis.ipynb\" target=\"_parent\"><img src=\"https://colab.research.google.com/assets/colab-badge.svg\" alt=\"Open In Colab\"/></a>"
      ]
    },
    {
      "cell_type": "code",
      "metadata": {
        "id": "sF2mRiOZa1Ms",
        "outputId": "60de481f-9e35-4292-ad95-ada3f6ad026b",
        "colab": {
          "base_uri": "https://localhost:8080/",
          "height": 329
        }
      },
      "source": [
        "# Install Tweepy\n",
        "!pip install tweepy\n",
        "# Install Matplotlib\n",
        "!pip install matplotlib"
      ],
      "execution_count": 40,
      "outputs": [
        {
          "output_type": "stream",
          "text": [
            "Requirement already satisfied: tweepy in /usr/local/lib/python3.6/dist-packages (3.6.0)\n",
            "Requirement already satisfied: PySocks>=1.5.7 in /usr/local/lib/python3.6/dist-packages (from tweepy) (1.7.1)\n",
            "Requirement already satisfied: requests-oauthlib>=0.7.0 in /usr/local/lib/python3.6/dist-packages (from tweepy) (1.3.0)\n",
            "Requirement already satisfied: requests>=2.11.1 in /usr/local/lib/python3.6/dist-packages (from tweepy) (2.23.0)\n",
            "Requirement already satisfied: six>=1.10.0 in /usr/local/lib/python3.6/dist-packages (from tweepy) (1.15.0)\n",
            "Requirement already satisfied: oauthlib>=3.0.0 in /usr/local/lib/python3.6/dist-packages (from requests-oauthlib>=0.7.0->tweepy) (3.1.0)\n",
            "Requirement already satisfied: idna<3,>=2.5 in /usr/local/lib/python3.6/dist-packages (from requests>=2.11.1->tweepy) (2.10)\n",
            "Requirement already satisfied: chardet<4,>=3.0.2 in /usr/local/lib/python3.6/dist-packages (from requests>=2.11.1->tweepy) (3.0.4)\n",
            "Requirement already satisfied: urllib3!=1.25.0,!=1.25.1,<1.26,>=1.21.1 in /usr/local/lib/python3.6/dist-packages (from requests>=2.11.1->tweepy) (1.24.3)\n",
            "Requirement already satisfied: certifi>=2017.4.17 in /usr/local/lib/python3.6/dist-packages (from requests>=2.11.1->tweepy) (2020.6.20)\n",
            "Requirement already satisfied: matplotlib in /usr/local/lib/python3.6/dist-packages (3.2.2)\n",
            "Requirement already satisfied: numpy>=1.11 in /usr/local/lib/python3.6/dist-packages (from matplotlib) (1.18.5)\n",
            "Requirement already satisfied: cycler>=0.10 in /usr/local/lib/python3.6/dist-packages (from matplotlib) (0.10.0)\n",
            "Requirement already satisfied: kiwisolver>=1.0.1 in /usr/local/lib/python3.6/dist-packages (from matplotlib) (1.2.0)\n",
            "Requirement already satisfied: pyparsing!=2.0.4,!=2.1.2,!=2.1.6,>=2.0.1 in /usr/local/lib/python3.6/dist-packages (from matplotlib) (2.4.7)\n",
            "Requirement already satisfied: python-dateutil>=2.1 in /usr/local/lib/python3.6/dist-packages (from matplotlib) (2.8.1)\n",
            "Requirement already satisfied: six in /usr/local/lib/python3.6/dist-packages (from cycler>=0.10->matplotlib) (1.15.0)\n"
          ],
          "name": "stdout"
        }
      ]
    },
    {
      "cell_type": "code",
      "metadata": {
        "id": "MBSMP6OHbDo9",
        "outputId": "a3ffece2-b7b6-4f8e-dcb6-0c51bc91015f",
        "colab": {
          "base_uri": "https://localhost:8080/",
          "height": 54
        }
      },
      "source": [
        "import re\n",
        "import tweepy\n",
        "from tweepy import OAuthHandler\n",
        "consumer_api_key = 'VIhMdEjUNEcaPbtnf1Ia8gwnR'\n",
        "consumer_api_secret = '93qxRJ9m76PcYirplAdtHDQkHmvXit7Y27UJ6uHCO68k1T7uVa' \n",
        "access_token = '1040305253214769152-8U2oIwTOUXvNb1cZH8YINn8sTBwq85'\n",
        "access_token_secret ='KZOqhZprYAjcLEvRgKSr42OUxJmBFCz0sdZibPt7RmtMh'\n",
        "print (consumer_api_key)\n",
        "print (access_token)"
      ],
      "execution_count": 41,
      "outputs": [
        {
          "output_type": "stream",
          "text": [
            "VIhMdEjUNEcaPbtnf1Ia8gwnR\n",
            "1040305253214769152-8U2oIwTOUXvNb1cZH8YINn8sTBwq85\n"
          ],
          "name": "stdout"
        }
      ]
    },
    {
      "cell_type": "code",
      "metadata": {
        "id": "3DXzCMJPbUSe"
      },
      "source": [
        "authorizer = OAuthHandler(consumer_api_key, consumer_api_secret)\n",
        "authorizer.set_access_token(access_token, access_token_secret)"
      ],
      "execution_count": 42,
      "outputs": []
    },
    {
      "cell_type": "code",
      "metadata": {
        "id": "YZkSLu2DfDjN",
        "outputId": "cf6ca473-3061-49af-bd78-4244c63ec3fa",
        "colab": {
          "base_uri": "https://localhost:8080/",
          "height": 54
        }
      },
      "source": [
        "search_query = input(\"Hello user, what would you like to search?\\nSearch: \")"
      ],
      "execution_count": 43,
      "outputs": [
        {
          "output_type": "stream",
          "text": [
            "Hello user, what would you like to search?\n",
            "Search: covid19\n"
          ],
          "name": "stdout"
        }
      ]
    },
    {
      "cell_type": "code",
      "metadata": {
        "id": "PCvHKeQsbfvp"
      },
      "source": [
        "api = tweepy.API(authorizer ,timeout=15)\n",
        "all_tweets = []\n",
        "#search_query = 'IPL2020'\n",
        "\n",
        "for tweet_object in tweepy.Cursor(api.search,q=search_query+\" -filter:retweets\",lang='en',result_type='recent').items(200):\n",
        "    all_tweets.append(tweet_object.text)"
      ],
      "execution_count": 44,
      "outputs": []
    },
    {
      "cell_type": "code",
      "metadata": {
        "id": "ovmgZsegcr4Z",
        "outputId": "9f41bdb2-a5a0-4b68-cda0-60d952de4df1",
        "colab": {
          "base_uri": "https://localhost:8080/",
          "height": 55
        }
      },
      "source": [
        "print(all_tweets)"
      ],
      "execution_count": 45,
      "outputs": [
        {
          "output_type": "stream",
          "text": [
            "['C’mon Canada. We’ve got to #FlattenTheCurve 🇨🇦 Wash hands, stay 6ft apart, keep bubble small, and #WearAMask. Pleas… https://t.co/8qgHVLFRhf', 'Tier 1,2 and 3 Lockdowns will likely trigger a revolt and freedom of speech is partly to blame for the behavioural… https://t.co/EivpVcJF2L', \"We all know &amp; has experienced impact of #COVID19 in our lives.\\n\\nBut let's a moment &amp; think deeper. Reflect.\\n\\nWhat a… https://t.co/L7AagADINL\", '18 #deaths and 2,054 new #COVID19 cases in #Jordan, 2,047 of which are local cases.\\n\\nRead more details:… https://t.co/iwNZaTaeDf', 'Ronaldos blood test holds the cure #COVID19', '2,217 new cases and 8 new deaths in Germany \\n\\n[16:09 GMT] #coronavirus #CoronaVirusUpdate #COVID19 #CoronavirusPandemic', 'Well he better now.\\n\\n#CristianoRonaldo tests positive for #COVID19 https://t.co/al0nkOaPLW', '#Ronaldo tests positive for #COVID19 - no one is spared and hopefully will have no complications… https://t.co/vpcLKBuhXu', '\"It’s especially outrageous because the science is so clear: masks save lives.\" #COVID19 #WearAMask  https://t.co/K7e8SW2ni1', '\"The vaccine is coming out any day now.\"  --  Dr. Donald Trump\\n\\n#Covid19 #vaccine: Johnson &amp; Johnson pauses trial a… https://t.co/oOJ9sH8Z26', 'BLOG POST - How InfoReady Overcame Obstacles During a Pandemic with Grit and Grace! by InfoReady Founder Bhushan Ku… https://t.co/vt3XBbm756', '#BTC correlation with stocks shows it is no safe haven asset or ‘#DigitalGold’ - #BitcoinSV #Covid19 #Editorial - https://t.co/GS98gcwbeF', 'Everyone at my Highschool reunion in 2016 laughed at me when I told them I had invested my life savings in Purell..… https://t.co/rHssXkdzgC', 'The #COVID19 economic crisis has been especially rough on entertainment venues like theaters and concert halls.\\n\\nJo… https://t.co/e5oDDrEddg', '#workingfromhome taken to the next level #COVID19 https://t.co/gXdof9DWbk', '@realDonaldTrump The only Rigged thing is your covid19 test', \"If there's one chap that can beat Covid19 its Cristiano Ronaldo. Quick recovery #legend\", \"Christian Ronaldo has better covid19 stats than Messi. 1-0 in favor of Ronaldo, confirmation that he's better than Messi.😞\", 'What’s it like to be a sports reporter during #COVID19?\\n\\nOur own @mattyjfox chatted with @BenGolliver,… https://t.co/aCqeKsdY8m', '#covid19 #SecondWave #214KAmericansDead and @GOP @senatemajldr STILL IGNORING #testing, #prevention, #masks. #GOP o… https://t.co/BDVBLDWfiO', '@DrMarcSiegel says fear has been weaponized for political gain and social control in new book. \\n\\nFear is \"over-poli… https://t.co/pOEDXu81J5', 'We understand how it’s dangerous is the situation regarding #COVID19 but your deadly negative tweets are fatal as the virus itself ...', 'Please ensure to follow #COVID19 behavior at all times, even if you are at a marketplace! #NewNormal… https://t.co/XEGpfnMfcT', '@EricTopol Wait, we have a solid test now to \"verify immunity\" to COVID19?', 'CoVID19 Survivor\\n#CoVID19 \\n\\nhttps://t.co/ZWymqV3w3O https://t.co/ZTXOm9Q0Fq', 'Find out if you need a #COVID19 Test:\\nUse this service to find out if you or a family member needs to get tested fo… https://t.co/qkciz4CDfN', 'I am not scared of #COVID19 as I am of #Socialism because there is a cure for COVID.', '@fabian_stephany on #COVID19 as a facilitator of trends we’ve already witnessed: “the more digital tech progresses,… https://t.co/8YNclDL26W', 'The impact of #Covid19 on people with #disabilities – emerging findings https://t.co/TFsj1QCNJO @IDS_UK @StephenThomo @B_Rohwerder', 'Updated government #shielding guidance for clinically extremely vulnerable people follows the #COVID19 alert system… https://t.co/EJv9rHZFZJ', '#Rushcliffe and #Notts is in the \\'high\" alert level restrictions meaning we all need to take action to help… https://t.co/rUQXdWEe1H', 'NOW HAPPENING: Africa is having a vital, Faith-led conversation on \"The Impact of #ClimateChange and #COVID19 in… https://t.co/lOj9cYxKXa', \"It's the first Covid related death there for just under 4 months: \\n\\nhttps://t.co/IfRzi0g0Fn\", 'Great explainer about the potential of #COVID19 sequencing to understand transmission patterns &amp; identify what’s wo… https://t.co/mmhKKtti6o', 'Portuguese forward Cristiano Ronaldo has tested positive for COVID-19, Portugal’s Football Federation said in a sta… https://t.co/iyVhn5ozKl', '@The171111 @realDonaldTrump Really? REALLY?! djhjmedia?!? Hell I\\'ll go start a \"reputable\" media outlet too.\\n\\nBREAK… https://t.co/njOFQ85eEo', \"The words of Pete Martin, one of our engineers, who's been recognised in the 2020 Queen’s Birthday Honours for goin… https://t.co/RYz2punrDe\", '\"COVID19 will not Stop the proclamation of the 3 Angel\\'s Message!\" Ted Wilson #GCAC20 \\n\\nBut what about the 2nd Agne… https://t.co/oTSYbZt492', 'Tomorrow’s #NationsLeague game between Iceland and Belgium could be postponed\\nLooks like the whole Iceland squad is… https://t.co/Y9Ffqjv8QW', 'In light of the impact of #COVID19 pandemic on the daily use and production of energy in the US, we have gathered c… https://t.co/lmeBhFZQCa', 'As Pandemic Deaths Add Up, Racial Disparities Persist — And In Some Cases Worsen\\n\\nData gathered early in the… https://t.co/e60PqkGoiI', 'HELP our students, retweet and sign! The more we get the better\\n\\nLower university tuition fees for students until o… https://t.co/N4QrDaln4g', 'Best High CPC Keywords for affiliate marketing\\n\\n@CJNetwork @AffiliateMarkng  @affiliatemrktt \\n\\n#AffiliateMarketing… https://t.co/waSPGMYtcb', '@bgruhn @LACaldwellDC @igorvolsky Also, Amy is straight up showcasing how much she DGAF about her children/props, a… https://t.co/QnTtPKpYZX', \"#PandemicParenting isn't easy, and many #parents are wondering how their kids are doing. We've teamed up with… https://t.co/Mo3YIVfSIR\", 'Its never been about a virus sadly! It was all make belive starting with the fake ccp videos of fear #COVID19 hoax.… https://t.co/iGvFJAjEk4', \"Ontario's #COVID19 hospitalizations have increased 6-fold in just one month.\\n\\nOn September 13th, there were 39 COVI… https://t.co/G10sXUbhbQ\", 'Covid19: \"You wish 😉\" https://t.co/BUxsJeYnE4', '@UtdEIIis @brfootball Whoever thought International break is the reason for positive Covid19 cases with players should be fired', 'Get well soon, @Cristiano Ronaldo. \\nLooking forward to catch your match against @FCBarcelona Hope you join the team… https://t.co/xbFbTTAsez', 'As #COVID19 continues to impact the United States, America’s business community continues to struggle with the dail… https://t.co/F83l4PyYPz', 'Public health continues confirming COVID-19 cases linked to the Hamilton fitness studio \\n\\n#HamOnt #COVID19 \\n\\nhttps://t.co/RAnDYw1bGP', '#APEDA jointly organised a Virtual Buyer Seller Meet (V-#BSM) on #Export of #Indian #Agri Products in association w… https://t.co/FJRRuXtESd', '#UnionConf programme is now online and fully searchable👇 Check it out for all the latest in #TB &amp; #lunghealth scien… https://t.co/wR2177Twhw', 'Frequent testing [even daily] with reliable in home test kits would be a good measure to prevent #COVID19 transmiss… https://t.co/DI34jBImnz', '📢📢 A thread of FREE continuing education credits for clinicians available this month. Please share! 📢📢 \\n\\n#FreeCE… https://t.co/7MBYKobdvO', 'The work sector future after #COVID19 https://t.co/jkSTztSlux', \".@Health4Texas' latest Texas survey highlights how the #COVID19 pandemic has had a devastating impact on Texans' he… https://t.co/rVKO8MMHsD\", 'Check out this preprint of some of the great work our researchers are doing using #COVID19 #DataScience https://t.co/zWXinwjzw5', \"Trump visits Florida to point out there are millions of Americans he still hasn't killed #COVID19 #coronavirus… https://t.co/EcI8wEECPN\", '#COVID19-induced economic harm may soon result in multiple sovereign debtors moving into default territory\\nLegal ai… https://t.co/BeMVAr28tE', '@realDonaldTrump Pay the states for the $$ they have spent b/c you botched up #coronavirus fix !!!!! #COVID19 #STIMULUSPACKAGE', '“I’m so happy!” Those were the words Julie White kept repeating as she was being discharged from TriStar Centennial… https://t.co/l3hYXikwRL', '#Trump was right about #COVID19 https://t.co/g0JLXt3URF', 'Day 7 of isolation, I am bored shitless #COVID19', 'In light of the impact of #COVID19 pandemic on the daily use and production of energy in the US, we have gathered c… https://t.co/fAd1oNr44s', '@SamanthaJPower There was a delay in the beginning, but WH ensured States have all the PPEs, ventilators, testing k… https://t.co/xKBLSjzbbV', 'If you need to #travel within #EU during #COVID19 pandemic check out #ReOpenEurope webpage https://t.co/0owsZMdsKC', 'The course was originally plan for March, postponed indefinitely due to COVID and finally...we managed to do it! 💪🏼… https://t.co/XLZeLoxKEz', 'Maybe if FIFA didn’t care so much about the money and more about their players, a lot of players wouldn’t contract… https://t.co/yXgzbXVsIL', 'Increased availability of personal protective gear contributed to the decline in infections of health workers.… https://t.co/ACU00eFTfK', \"WHO: Letting Covid spread for herd immunity 'unethical' https://t.co/4XGSPjX3pB via @rte\", 'If you love the song \"Monster Mash\" and you hate animal-born viruses then this is the Halloween song for you!\\n(Is t… https://t.co/NbSsxFKzv5', \"Coronavirus: 'This is what a second wave looks like' in an intensive care unit - Sky News #Covid19UK #COVID19  https://t.co/ZKMxPVySa4\", '@chrislhayes Peaceful Antifa and BLM protesters are immune To Covid19 apparently', '🚨SO🤔, ARE YOU amongst those that thought #COVID19 was gonna be gone?\\nNOW THEY ARE OPENING #CovidTHEMED STORES in Ma… https://t.co/TNkgXeFihj', 'It is with deep regret that from Sunday 18th October 2020 @sanderscoaches will be ceasing ALL bus operations. COVID… https://t.co/pNvXb5KRun', 'Because @realDonaldTrump wants to forward the message that #COVID19 pandemic is OVER and HARMLESS over the dead bod… https://t.co/PYiwD0daU3', \"@realDonaldTrump Donny, it don't looked rigged to me according to the polls.....only thing rigged lately was you pr… https://t.co/JFBSua35PW\", 'CORONAVIRUS IN MARYLAND | Hospitalizations and positivity rate increases, 8,392 negative tests during the past 24 h… https://t.co/MgPkYw3vp6', \"@RexChapman Even your command center, the CDC admits 6% of that number died from COVID. \\n\\nConclusion: it's nearly i… https://t.co/tYMPXrzLU3\", '#COVID19 \\n#cristiano \\n#CristianoRonaldo \\nI wish you a speedy recovery\\U0001f97a\\U0001f97a', '@RexChapman This is how #COVID19 Donald reacts when 215,000 Americans are dead. Party on Donald. It will soon be ov… https://t.co/HNXFKR2YWB', '@BTCJSON1 I’ve been calling this for awhile \\n\\nWhen government wishes to implement unpopular action on citizens, the… https://t.co/kz4RT5Odte', \"@realDonaldTrump The US has the world's most expensive healthcare system per capita. The US counts 21 % of all COVI… https://t.co/wZZgZAgcc7\", 'The pause is at least the second such hold to occur among several vaccines that have reached large-scale final test… https://t.co/asdXtRfR20', '#Ronaldo is the latest entry in the list of high-profile players to test positive for the pathogen\\n#Football… https://t.co/4ZdjbLT4pm', '#Karnataka reports 8,191 new #COVID19 cases and 87 deaths on Tuesday. Total number of cases rises to 7,26,106, deat… https://t.co/Fqr8zCD82j', 'Next in our #IPSCovidChronicals Prof Ramesh ‘Zimbo’ Boonratana: The Status of Primates, Primatologists, &amp; Primatolo… https://t.co/8e4X7xktpF', '#SJCouncil Tonite reviewing Draft Cycling Strategy!\\n#SaintJohn #accessibility #safety #COVID19 #cycling https://t.co/EXZ821PmZL', \"This is my 80th published article! Freelancing is hard but worth it (sometimes). I wrote about how #Mexico's most i… https://t.co/sJdgVPZxZ7\", 'Pretty damn telling right here. #COVID19 https://t.co/eorJ4FT94H', 'According to her, she’s not allowed to think for herself. That’s the man’s job. You know, the man who sent her out… https://t.co/k07iPf5Ggg', 'Scientists are re-examining how the #COVID19 virus is spreading.\\n\\nThe initial suspects were bats, pigs, or other an… https://t.co/M4ZLhlqJKc', 'Seems to me that #COVID19 could be one of the first times where Epic and Cerner should agree to work together with… https://t.co/BoYpylKFOx', 'A look at the religious events that became a reason for the spread of COVID-19.\\n #Newstrack #COVID19 #Coronavirus |… https://t.co/WkRRmafScX', 'Experts predict healthcare mergers and acquisitions to accelerate post #COVID19. If your organization is involved,… https://t.co/cF8CpnEYIc', \"Let's make the #fly famous. May be, flies can sniff the #COVID19 https://t.co/bYnOrQSID5\", \"This pandemic will end eventually. Until then, let's continue to be vigilant. Let's protect each other and the vuln… https://t.co/HOhtt5lqKi\", '@GavinNewsom People do it every 4 years, standing in lines to vote. It just looks longer because of archaic, unscie… https://t.co/KB3BifXTJd', 'MyPOV: inside the @cherwell flight plan \\n\\n57% use low code no code\\n54% have implemented self-service\\n60%  see… https://t.co/2qMvwsKKKy', 'Webinar alert! How savvy are your residents when it comes to #COVID19 symptoms and actions? And how can #localgov b… https://t.co/b1tmpxmUkD', 'The 35-year-old Juventus striker will miss Wednesday’s UEFA Nations League game against Sweden but is “well, has no… https://t.co/CLxf7CMYbZ', '@piersmorgan @Cristiano Sympathies with Covid19', '#COVID19 Party https://t.co/sb0NbS8g8G', 'Particularly as the world confronts the challenges posed by #COVID19, we’re grateful for our many partnerships that… https://t.co/ZGsBQl8lmC', 'Yah and @fordnation is still tippy toeing around it....... HE IS NO LEADER !! \\n\\n#onpoli #NotFitToLead… https://t.co/FjqjbRDky8', '$MRNA Moderna Announces Initiation of Rolling Submission to Health Canada for mRNA Vaccine Against COVID-19 (mRNA-1… https://t.co/vGW0LbwD2c', 'As Trump returns to campaigning, Fauci says U.S. #COVID19 cases ‘in a bad place’ - National |… https://t.co/kjlfMM6o1l', '...be about the controversial ban on accommodation for travellers from Inner-German #COVID19 risk areas.', \"From the LANCET medical journal.\\nCovid reinfection: Man gets Covid twice and second hit 'more severe'\\n\\n#COVID19… https://t.co/dfkAlvANCA\", \"@JustinTrudeau had an informative talk with @ambermac about the Canada 🇨🇦 #COVID19 Alert App. If you've not yet dow… https://t.co/fjHwe3mXhi\", '⚽ Cristiano #Ronaldo tests positive for #COVID19, currently asymptomatic\\n\\nhttps://t.co/iQgMF2Xyv7 #Juventus https://t.co/by5fSs3oho', 'Everyone I love just gets Covid19. #GetWellSoonCR7 ❤', 'Realize we are deep in the #COVID19 crisis here in Moncton atm, but more quietly this is also happening today...a h… https://t.co/U4MjKM1lxe', 'ronaldo got covid19, this reminds me that people with good or high immunity like his also have the potential to get covid🙄', '. #CDC #Fauci own the family sized coffins #FEMA #internment camps #COVID19 https://t.co/s5VGCuPWyI', '#WearAMask, they work against #COVID19. Here is a peer reviewed, scientific publication, which provides great evide… https://t.co/TNrZoeFmY3', 'Read how Savience designed, developed and delivered in record time to help support #COVID19 testing centres. Our ne… https://t.co/OcN1uZtTTW', 'With many companies hiring at a tentative pace or on a complete freeze, #staffing professionals now find themselves… https://t.co/JPvbRsvRJh', '@ARYSabirShakir @ARYNEWSOFFICIAL @Salman_ARY @ammarmasood3 I admire how President @ArifAlvi gave the example of bat… https://t.co/qUHbjo5MK2', 'Amazing animation shows exactly how effective Republican governors have been in responding to #COVID19 https://t.co/XtVtxqbdu3', \".@Frost_Sullivan's recent analysis indicates that the Threat Intelligence platforms market is one of the… https://t.co/84vSr1QlvZ\", 'Newman from ‘Seinfeld’ is back to wreck havoc in an anti-Trump ad https://t.co/qyfETbBJQ8 via @flipboard #Trump… https://t.co/BfbJiWpRcC', 'Coronavirus: Czech schools and bars shut in new emergency  via @BBCNews \\nhttps://t.co/hOOPesraWU\\n#CzechRepublic… https://t.co/4SDkHLT46H', 'DECN Provides Progress Update on Major Events for Its GenViro! Saliva Swift Kits for the Detection of COVID-19… https://t.co/kIlzv2jydA', '@MattHancock Enjoy your moment of \"importance\" because come the election you\\'ll likely be out of a job &amp; your party… https://t.co/TlkYrFOXM6', 'Making plans for the upcoming holidays? Here are some tips on how to make the safest choices for you and your loved… https://t.co/eugWLjPSUy', 'I did not know that goats could get COVID #ronaldo @Cristiano #COVID19 #covid #goat 🐐 #cristiano', 'If you missed the #webinar discussing the #WinterPlan announced by @RishiSunak and as Furlough ends what’s next for… https://t.co/JC674JnpZL', 'New CPT codes for multi-virus tests detect #COVID19 and flu | @AmerMedicalAssn https://t.co/W5Iu738dNN', 'Why does he need telling lies all the time🤔--@atrupar ?????????????I think he has a kind brain damage\\U0001f97a--not caused… https://t.co/OmtKjPsTKZ', 'Last night, police carried out an operation to reinvigorate the anti-COVID19 enforcement measures, especially the c… https://t.co/9SGyKUYAIA', '#COVID19 Recovery Update\\n\\nToday, 41 patients recovered from COVID facilities and Home Isolation #Keonjhar\\n\\nDistrict… https://t.co/0xKNbwQxLj', 'Essential investments in @tusla and youth services that will help protect and support the most vulnerable young peo… https://t.co/4Sb5UOf8Mx', 'These #Robots will deliver almost anything to your room.  \\n\\n#COVID19 #Covid19Pendamic #covidPendamic #Robotics… https://t.co/o7jKlg84Q4', 'While I worry about the debt we are saddling our children with, American working families and businesses need help… https://t.co/9OPoyR4jhC', '#covid19 MISINFORMATION via @Otiose94.  #TrumpHasCovid #Election2020 🇺🇸🇺🇸🇺🇸🇺🇸 #maga #kag https://t.co/1O1gW4FS3m', \"America's government response to #COVID19 vs Italian response to the #coronavirus https://t.co/rhbPYTmpGu https://t.co/P0e8KZO5rA\", 'Football Superstar Cristiano Ronaldo Tests Positive For Covid-19\\n\\n#CristianoRonaldo #COVID19 \\n\\nhttps://t.co/6l7mHC5Dka', 'Hospitals Have 14 Weeks to Comply with #COVID19 and #Flu Reporting or Face Loss of Payment | @susanjmorse,… https://t.co/BpbNbgb9pZ', '@KDKA The poor commander who was fired for trying to keep his men safe from a Covid19 out break on his ship. Trump… https://t.co/MqCy3QxnbW', '@KristenClarkeJD @Public_Citizen 🚨The @GOP have been working very hard⁉️ \\n To: Shut down #VotingRights ✔\\n To: Steal… https://t.co/2mU98SVjOi', 'Not the witness in the background on the couch smh #ThePeoplesCourt #Covid19', '@MelissaQuinn97 Maybe covid19 concoction?', '16-year-old boy from Bengaluru designs #Covid19 curriculum for rural women\\n\\nLakshya Subodh, a student of Class 11 i… https://t.co/jpCtQgsXWM', '@lttlspknmn @realDonaldTrump @OANN I agree. I lived thru the Hantavirus on the Navajo Reservation in Arizona and I… https://t.co/hm5Eis0MKg', 'प्रणाम। Tonight at 10 pm IST let us pray collectively for glory of #Bharat - call by @meenapranam #truth #love… https://t.co/GrINhA8rDy', '@IsabelOakeshott @Femi_Sorry It’s boom time for funeral services and grave diggers too. What’s not to like about #Covid19 for you?', '@EricTrump Joe is sensibly following social distancing and his audience is out of shot. Your Dad’s paid goons are c… https://t.co/IPi3VwtgiG', 'Great to secure this interview for Professor @cliffordstott from @KeelePsychology on @SkyNews this afternoon, discu… https://t.co/z82BmVmsfA', 'Dear .@fordnation, \\n\\nOntarians need paid sick days. \\n\\nPaid sick days are evidence-based protections that reduce spr… https://t.co/ceVnd5cfrW', '$MESO - Randomized Controlled Phase 3 Trial of Remestemcel-L for Reduced Mortality in COVID-19 ARDS Surpasses 50% E… https://t.co/QCbg60QKBx', 'Cristiano Ronaldo has tested positive to Coronavirus, as Portugal official statement announced. #Covid19', 'In The News\\nPCCI CEO Steve Miff was included in a story from @HealthLeaders on the unexpected side effects of… https://t.co/oyffWiZJLE', 'CoVID19 Survivor\\n#CoVID19 https://t.co/pfVbm8ALrW', '@Nerditupnation  @JackBlaine3 @IcabodKeller   @CorkySwift2 @liszewsk @Flag_Girl2 @JACKLARKIN1   @Shakeyacres… https://t.co/qPWx0PAfaX', 'Hard to build credibility around this organization again, right? #COVID19 https://t.co/OdPoGwqQbs', 'hoping for your speedy recovery😟🙏\\n\\n#CristianoRonaldo #COVID19 https://t.co/FgSWmDhMWO', 'Because they know the measures they’re asking for are completely disproportionate, they just don’t care. Some say o… https://t.co/fVGGgTXEJU', \"Has #Covid19 damaged Chairman @LindseyGrahamSC's brain by now? He doesn't realize WE ARE ALREADY VOTING? He feels f… https://t.co/ihk4Wad34t\", 'Yes, but profit, profit, profit from #ToryLies - always comes before health. Sacrifice the weak and make a quick bu… https://t.co/WKd2YPbTPO', '#UEFANationsLeague: #CristianoRonaldo tests #COVID19 positive, to miss clash against #Sweden\\n\\nhttps://t.co/9fhQnpKgrF', '@realDonaldTrump You dropped the ball on #COVID19 #Healthcare #ClimateChange #economy #veterans #unemployment… https://t.co/Jp9ohwHYTD', 'We have summarized 26 new publications related to #COVID19, breast milk, #breastfeeding, formula use, feeding diffi… https://t.co/vZxGFGIqC0', 'Community meeting held in Ranchi, Jharkhand to spread awareness on NISHTHA Swasthya Vaani IVR system to get informa… https://t.co/GbFnkWvjzt', 'Ontario, Quebec temporarily granted US statehood so Canadians don’t look bad due to COVID-19 cases #COVID19  https://t.co/T6A9O8CFGv', '@rahulkanwal What do u have to say about Mumbai trains, Easter gatherings,where were you when people of other than… https://t.co/nNMlrGliec', '•With a side of Covid, sir?•\\n\\nI knew they should have shut the restaurants and pubs earlier.\\n\\n#Covid19 #Ronaldo https://t.co/XiupUSvymZ', '@UniCovidUK The University of Kent has been publishing figures for its UK campuses on this page! https://t.co/fnPwGB3eiU', 'Cristiano Ronaldo has tested positive to Coronavirus, official statement from Portugal #Covid19 https://t.co/IMIAGPdvdT', '@talkRADIO @Fr33Sp33ch5 @MattHancock @HouseofCommons So what he’s saying is that it will never end. For example Bor… https://t.co/4dbeaR4KDz', '#WomenInPolitics in the #ArabWorld lack opportunities and resources, and this is exacerbated by the negative and co… https://t.co/wmB9KDKhkL', 'Portugal captain and Juventus star Cristiano Ronaldo tests positive for the novel coronavoirus. The information was… https://t.co/vSmdtPJTRj', \"Kerala's #COVID19 case count reached 3,03,896 today, with the state reporting 8,764 fresh cases. State also registe… https://t.co/99yyEKRNXZ\", 'Keeping #aging loved ones well during a global pandemic is of utmost concern. These 7 questions can help families d… https://t.co/fI0uph04hA', 'New article by Jennifer Clapp &amp; William G. Moseley: “This food crisis is different: #COVID19 and the fragility of t… https://t.co/0ySSf5cABf', 'He’s probably on a ventilator #COVID19 #GOPSuperSpreaders #GOPHypocrisy #COVIDIOTS https://t.co/Zf5CASwhPA', \"#leadership #Management #DigitalTransformation\\n#COVID19 \\nCandace Owens tells LeBron James: 'If you're suffering thr… https://t.co/Kq51zujRgN\", '@Covid19_VAX @JamesPearceLFC Hope he sees this bro, took me some effort.', '@narendramodi Sir i am @icarindia aspirant this year things were not good in my academics due to @covid19 there is… https://t.co/6r5u6HejSM', '#COVID19: Star Portuguese footballer Ronaldo tests positive for COVID-19 https://t.co/PwPwFrLMv9', '📣 Today @GobiernoMX announced 4 agreements to acquire the #COVID19 vaccine as soon as it is available. \\n\\nThese agre… https://t.co/NcIRdXxTDw', 'Pfizer to enroll kids as young as 12 in Covid-19 vaccine study - Reuters https://t.co/qapzzfrbLy', \"#TurnTexasBlue to say NO to the Republican Party's #HerdMentality.\\n\\nhttps://t.co/tJP81H6xVq https://t.co/hTxZpFFFB9\", '@cathalbrae Why is that? To be honest I would like to send ours back, but the covid19 numbers going up', 'Covid-19 again? Reinfection cases raise concerns over immunity - Reuters https://t.co/nWLvMWWfhl', \"@clairecmc We're still rolling!!🤣\\nWeeks ago Bill Barr foolishly stated that COVID19 shut downs were like slavery.… https://t.co/7xLTKZ0rFL\", '@vanitaguptaCR Talk to Nancy Pelosi if you’re complains about no covid19 legislation. https://t.co/wU5FEulv4e', \"There are 807 new #COVID19 cases yesterday, 746 new cases today in #Ontario  \\n\\nThat's 1,553 people in just two days… https://t.co/w4PDnWyRfz\", 'Are we ready for a #secondwave of #mentalhealth breakdown due to #COVID19? Mental health workers need to prepare. https://t.co/EmIKEnDqED', '@ONC_HealthIT announced the awardees of the STAR HIE program. STAR HIE aims to support state and local public healt… https://t.co/bDUuOTmU7I', 'KY has 1,299 #COVID19 deaths.\\n#Vote #McConnell out of office in November 2020 https://t.co/RGkubPjcoG', 'Companies are preparing staffing contingency plans for the fall and winter months ahead. Here are some tips for fil… https://t.co/ikL15SOFEG', 'Why is tourism picking up so slowly in Southeast Asia? https://t.co/UQ2R1J7ttE via @CNBCi \\n\\n🌏\\U0001f9f3✈️😷\\n\\n#SouteastAsia… https://t.co/FdNv62KKzk', 'BJR|Open paper\\nComparison of chest X-ray interpretation by Emergency Department clinicians and radiologists in susp… https://t.co/UcMUBBZMHq', '@DevonBaard121 @tangodog_ @drphilhammond 2...lockdown and not covid19. That is not true. There has been a fiddling… https://t.co/0gmuSzgRGK', 'Top #WHO Official: Stop Using Lockdowns for #COVID19  Causing Terrible Catastrophe. A top World Health Organization… https://t.co/05DquHN1bC', 'As we near the end of the year, what gaps have been discovered in your organization’s #COVID19 preparation and resp… https://t.co/4T0OmWMuAk', 'Join #LIVEfromCleClinic on Oct 14 with @MattWalshMD, @aakonc, @DrEstfan, @ZAlHilliMD, Dan Joyce, @GeneralSturgeon,… https://t.co/JWdshWSibV']\n"
          ],
          "name": "stdout"
        }
      ]
    },
    {
      "cell_type": "code",
      "metadata": {
        "id": "03M6gOZzc7rb",
        "outputId": "a6df6d6c-9e13-4eee-e659-425e899b689c",
        "colab": {
          "base_uri": "https://localhost:8080/",
          "height": 54
        }
      },
      "source": [
        "import numpy as np \n",
        "import pandas as pd \n",
        "import re  \n",
        "import nltk # an amazing library to play with natural language\n",
        "nltk.download('stopwords')  \n",
        "from nltk.corpus import stopwords \n"
      ],
      "execution_count": 46,
      "outputs": [
        {
          "output_type": "stream",
          "text": [
            "[nltk_data] Downloading package stopwords to /root/nltk_data...\n",
            "[nltk_data]   Package stopwords is already up-to-date!\n"
          ],
          "name": "stdout"
        }
      ]
    },
    {
      "cell_type": "code",
      "metadata": {
        "id": "LIIrJYhVdD9y",
        "outputId": "7b065d76-e674-484e-fd51-3153b2987f11",
        "colab": {
          "base_uri": "https://localhost:8080/",
          "height": 274
        }
      },
      "source": [
        "tweets = pd.read_csv(\"https://raw.githubusercontent.com/kolaveridi/kaggle-Twitter-US-Airline-Sentiment-/master/Tweets.csv\")\n",
        "print(tweets)"
      ],
      "execution_count": 47,
      "outputs": [
        {
          "output_type": "stream",
          "text": [
            "                 tweet_id  ...               user_timezone\n",
            "0      570306133677760513  ...  Eastern Time (US & Canada)\n",
            "1      570301130888122368  ...  Pacific Time (US & Canada)\n",
            "2      570301083672813571  ...  Central Time (US & Canada)\n",
            "3      570301031407624196  ...  Pacific Time (US & Canada)\n",
            "4      570300817074462722  ...  Pacific Time (US & Canada)\n",
            "...                   ...  ...                         ...\n",
            "14635  569587686496825344  ...                         NaN\n",
            "14636  569587371693355008  ...                         NaN\n",
            "14637  569587242672398336  ...                         NaN\n",
            "14638  569587188687634433  ...  Eastern Time (US & Canada)\n",
            "14639  569587140490866689  ...                         NaN\n",
            "\n",
            "[14640 rows x 15 columns]\n"
          ],
          "name": "stdout"
        }
      ]
    },
    {
      "cell_type": "code",
      "metadata": {
        "id": "yUFttnmRdTol",
        "outputId": "cfa3eb2e-c991-4912-b53e-644b755ae404",
        "colab": {
          "base_uri": "https://localhost:8080/",
          "height": 127
        }
      },
      "source": [
        "X = tweets.iloc[:, 10].values\n",
        "y = tweets.iloc[:, 1].values\n",
        "\n",
        "print(X)"
      ],
      "execution_count": 48,
      "outputs": [
        {
          "output_type": "stream",
          "text": [
            "['@VirginAmerica What @dhepburn said.'\n",
            " \"@VirginAmerica plus you've added commercials to the experience... tacky.\"\n",
            " \"@VirginAmerica I didn't today... Must mean I need to take another trip!\"\n",
            " ... '@AmericanAir Please bring American Airlines to #BlackBerry10'\n",
            " \"@AmericanAir you have my money, you change my flight, and don't answer your phones! Any other suggestions so I can make my commitment??\"\n",
            " '@AmericanAir we have 8 ppl so we need 2 know how many seats are on the next flight. Plz put us on standby for 4 people on the next flight?']\n"
          ],
          "name": "stdout"
        }
      ]
    },
    {
      "cell_type": "code",
      "metadata": {
        "id": "wCbe6x3cqOAR"
      },
      "source": [
        "processed_tweets = []\n",
        " \n",
        "for tweet in range(0, len(X)):  \n",
        "    # Remove all the special characters\n",
        "    processed_tweet = re.sub(r'\\W', ' ', str(X[tweet]))\n",
        " \n",
        "    # remove all single characters\n",
        "    processed_tweet = re.sub(r'\\s+[a-zA-Z]\\s+', ' ', processed_tweet)\n",
        " \n",
        "    # Remove single characters from the start\n",
        "    processed_tweet = re.sub(r'\\^[a-zA-Z]\\s+', ' ', processed_tweet) \n",
        " \n",
        "    # Substituting multiple spaces with single space\n",
        "    processed_tweet= re.sub(r'\\s+', ' ', processed_tweet, flags=re.I)\n",
        " \n",
        "    # Removing prefixed 'b'\n",
        "    processed_tweet = re.sub(r'^b\\s+', '', processed_tweet)\n",
        " \n",
        "    # Converting to Lowercase\n",
        "    processed_tweet = processed_tweet.lower()\n",
        " \n",
        "    processed_tweets.append(processed_tweet)"
      ],
      "execution_count": 49,
      "outputs": []
    },
    {
      "cell_type": "code",
      "metadata": {
        "id": "fvvzPXC7daw9"
      },
      "source": [
        "from sklearn.feature_extraction.text import TfidfVectorizer  \n",
        "tfidfconverter = TfidfVectorizer(max_features=2000, min_df=5, max_df=0.7, stop_words=stopwords.words('english'))  \n",
        "X = tfidfconverter.fit_transform(processed_tweets).toarray()\n"
      ],
      "execution_count": 50,
      "outputs": []
    },
    {
      "cell_type": "code",
      "metadata": {
        "id": "_yReZpg4dftB",
        "outputId": "c835119f-5ef1-4c32-c846-17a176daab58",
        "colab": {
          "base_uri": "https://localhost:8080/",
          "height": 164
        }
      },
      "source": [
        "from sklearn.ensemble import RandomForestClassifier\n",
        "text_classifier = RandomForestClassifier(n_estimators=100, random_state=0)  \n",
        "text_classifier.fit(X, y)"
      ],
      "execution_count": 51,
      "outputs": [
        {
          "output_type": "execute_result",
          "data": {
            "text/plain": [
              "RandomForestClassifier(bootstrap=True, ccp_alpha=0.0, class_weight=None,\n",
              "                       criterion='gini', max_depth=None, max_features='auto',\n",
              "                       max_leaf_nodes=None, max_samples=None,\n",
              "                       min_impurity_decrease=0.0, min_impurity_split=None,\n",
              "                       min_samples_leaf=1, min_samples_split=2,\n",
              "                       min_weight_fraction_leaf=0.0, n_estimators=100,\n",
              "                       n_jobs=None, oob_score=False, random_state=0, verbose=0,\n",
              "                       warm_start=False)"
            ]
          },
          "metadata": {
            "tags": []
          },
          "execution_count": 51
        }
      ]
    },
    {
      "cell_type": "code",
      "metadata": {
        "id": "PiH3lhymdsYI",
        "outputId": "7a718d08-137d-4307-c25d-c17f906eba17",
        "colab": {
          "base_uri": "https://localhost:8080/",
          "height": 55
        }
      },
      "source": [
        "negativeCounter = 0\n",
        "neutralCounter = 0\n",
        "positiveCounter = 0\n",
        "for tweet in all_tweets:\n",
        "    # Remove all the special characters\n",
        "    processed_tweet = re.sub(r'\\W', ' ', tweet)\n",
        " \n",
        "    # remove all single characters\n",
        "    processed_tweet = re.sub(r'\\s+[a-zA-Z]\\s+', ' ', processed_tweet)\n",
        " \n",
        "    # Remove single characters from the start\n",
        "    processed_tweet = re.sub(r'\\^[a-zA-Z]\\s+', ' ', processed_tweet) \n",
        " \n",
        "    # Substituting multiple spaces with single space\n",
        "    processed_tweet= re.sub(r'\\s+', ' ', processed_tweet, flags=re.I)\n",
        " \n",
        "    # Removing prefixed 'b'\n",
        "    processed_tweet = re.sub(r'^b\\s+', '', processed_tweet)\n",
        " \n",
        "    # Converting to Lowercase\n",
        "    processed_tweet = processed_tweet.lower()\n",
        " \n",
        "    sentiment = text_classifier.predict(tfidfconverter.transform([ processed_tweet]).toarray())\n",
        "    \n",
        "\n",
        "    # We need to create something that counts the different sentiments\n",
        "    # Which will then be the data for the pie chart.\n",
        "\n",
        "    if sentiment == \"positive\":\n",
        "      positiveCounter+=1\n",
        "    elif sentiment == \"negative\":\n",
        "      negativeCounter+=1\n",
        "    elif sentiment == \"neutral\":\n",
        "      neutralCounter+=1\n",
        "   \n",
        "print(all_tweets)"
      ],
      "execution_count": 52,
      "outputs": [
        {
          "output_type": "stream",
          "text": [
            "['C’mon Canada. We’ve got to #FlattenTheCurve 🇨🇦 Wash hands, stay 6ft apart, keep bubble small, and #WearAMask. Pleas… https://t.co/8qgHVLFRhf', 'Tier 1,2 and 3 Lockdowns will likely trigger a revolt and freedom of speech is partly to blame for the behavioural… https://t.co/EivpVcJF2L', \"We all know &amp; has experienced impact of #COVID19 in our lives.\\n\\nBut let's a moment &amp; think deeper. Reflect.\\n\\nWhat a… https://t.co/L7AagADINL\", '18 #deaths and 2,054 new #COVID19 cases in #Jordan, 2,047 of which are local cases.\\n\\nRead more details:… https://t.co/iwNZaTaeDf', 'Ronaldos blood test holds the cure #COVID19', '2,217 new cases and 8 new deaths in Germany \\n\\n[16:09 GMT] #coronavirus #CoronaVirusUpdate #COVID19 #CoronavirusPandemic', 'Well he better now.\\n\\n#CristianoRonaldo tests positive for #COVID19 https://t.co/al0nkOaPLW', '#Ronaldo tests positive for #COVID19 - no one is spared and hopefully will have no complications… https://t.co/vpcLKBuhXu', '\"It’s especially outrageous because the science is so clear: masks save lives.\" #COVID19 #WearAMask  https://t.co/K7e8SW2ni1', '\"The vaccine is coming out any day now.\"  --  Dr. Donald Trump\\n\\n#Covid19 #vaccine: Johnson &amp; Johnson pauses trial a… https://t.co/oOJ9sH8Z26', 'BLOG POST - How InfoReady Overcame Obstacles During a Pandemic with Grit and Grace! by InfoReady Founder Bhushan Ku… https://t.co/vt3XBbm756', '#BTC correlation with stocks shows it is no safe haven asset or ‘#DigitalGold’ - #BitcoinSV #Covid19 #Editorial - https://t.co/GS98gcwbeF', 'Everyone at my Highschool reunion in 2016 laughed at me when I told them I had invested my life savings in Purell..… https://t.co/rHssXkdzgC', 'The #COVID19 economic crisis has been especially rough on entertainment venues like theaters and concert halls.\\n\\nJo… https://t.co/e5oDDrEddg', '#workingfromhome taken to the next level #COVID19 https://t.co/gXdof9DWbk', '@realDonaldTrump The only Rigged thing is your covid19 test', \"If there's one chap that can beat Covid19 its Cristiano Ronaldo. Quick recovery #legend\", \"Christian Ronaldo has better covid19 stats than Messi. 1-0 in favor of Ronaldo, confirmation that he's better than Messi.😞\", 'What’s it like to be a sports reporter during #COVID19?\\n\\nOur own @mattyjfox chatted with @BenGolliver,… https://t.co/aCqeKsdY8m', '#covid19 #SecondWave #214KAmericansDead and @GOP @senatemajldr STILL IGNORING #testing, #prevention, #masks. #GOP o… https://t.co/BDVBLDWfiO', '@DrMarcSiegel says fear has been weaponized for political gain and social control in new book. \\n\\nFear is \"over-poli… https://t.co/pOEDXu81J5', 'We understand how it’s dangerous is the situation regarding #COVID19 but your deadly negative tweets are fatal as the virus itself ...', 'Please ensure to follow #COVID19 behavior at all times, even if you are at a marketplace! #NewNormal… https://t.co/XEGpfnMfcT', '@EricTopol Wait, we have a solid test now to \"verify immunity\" to COVID19?', 'CoVID19 Survivor\\n#CoVID19 \\n\\nhttps://t.co/ZWymqV3w3O https://t.co/ZTXOm9Q0Fq', 'Find out if you need a #COVID19 Test:\\nUse this service to find out if you or a family member needs to get tested fo… https://t.co/qkciz4CDfN', 'I am not scared of #COVID19 as I am of #Socialism because there is a cure for COVID.', '@fabian_stephany on #COVID19 as a facilitator of trends we’ve already witnessed: “the more digital tech progresses,… https://t.co/8YNclDL26W', 'The impact of #Covid19 on people with #disabilities – emerging findings https://t.co/TFsj1QCNJO @IDS_UK @StephenThomo @B_Rohwerder', 'Updated government #shielding guidance for clinically extremely vulnerable people follows the #COVID19 alert system… https://t.co/EJv9rHZFZJ', '#Rushcliffe and #Notts is in the \\'high\" alert level restrictions meaning we all need to take action to help… https://t.co/rUQXdWEe1H', 'NOW HAPPENING: Africa is having a vital, Faith-led conversation on \"The Impact of #ClimateChange and #COVID19 in… https://t.co/lOj9cYxKXa', \"It's the first Covid related death there for just under 4 months: \\n\\nhttps://t.co/IfRzi0g0Fn\", 'Great explainer about the potential of #COVID19 sequencing to understand transmission patterns &amp; identify what’s wo… https://t.co/mmhKKtti6o', 'Portuguese forward Cristiano Ronaldo has tested positive for COVID-19, Portugal’s Football Federation said in a sta… https://t.co/iyVhn5ozKl', '@The171111 @realDonaldTrump Really? REALLY?! djhjmedia?!? Hell I\\'ll go start a \"reputable\" media outlet too.\\n\\nBREAK… https://t.co/njOFQ85eEo', \"The words of Pete Martin, one of our engineers, who's been recognised in the 2020 Queen’s Birthday Honours for goin… https://t.co/RYz2punrDe\", '\"COVID19 will not Stop the proclamation of the 3 Angel\\'s Message!\" Ted Wilson #GCAC20 \\n\\nBut what about the 2nd Agne… https://t.co/oTSYbZt492', 'Tomorrow’s #NationsLeague game between Iceland and Belgium could be postponed\\nLooks like the whole Iceland squad is… https://t.co/Y9Ffqjv8QW', 'In light of the impact of #COVID19 pandemic on the daily use and production of energy in the US, we have gathered c… https://t.co/lmeBhFZQCa', 'As Pandemic Deaths Add Up, Racial Disparities Persist — And In Some Cases Worsen\\n\\nData gathered early in the… https://t.co/e60PqkGoiI', 'HELP our students, retweet and sign! The more we get the better\\n\\nLower university tuition fees for students until o… https://t.co/N4QrDaln4g', 'Best High CPC Keywords for affiliate marketing\\n\\n@CJNetwork @AffiliateMarkng  @affiliatemrktt \\n\\n#AffiliateMarketing… https://t.co/waSPGMYtcb', '@bgruhn @LACaldwellDC @igorvolsky Also, Amy is straight up showcasing how much she DGAF about her children/props, a… https://t.co/QnTtPKpYZX', \"#PandemicParenting isn't easy, and many #parents are wondering how their kids are doing. We've teamed up with… https://t.co/Mo3YIVfSIR\", 'Its never been about a virus sadly! It was all make belive starting with the fake ccp videos of fear #COVID19 hoax.… https://t.co/iGvFJAjEk4', \"Ontario's #COVID19 hospitalizations have increased 6-fold in just one month.\\n\\nOn September 13th, there were 39 COVI… https://t.co/G10sXUbhbQ\", 'Covid19: \"You wish 😉\" https://t.co/BUxsJeYnE4', '@UtdEIIis @brfootball Whoever thought International break is the reason for positive Covid19 cases with players should be fired', 'Get well soon, @Cristiano Ronaldo. \\nLooking forward to catch your match against @FCBarcelona Hope you join the team… https://t.co/xbFbTTAsez', 'As #COVID19 continues to impact the United States, America’s business community continues to struggle with the dail… https://t.co/F83l4PyYPz', 'Public health continues confirming COVID-19 cases linked to the Hamilton fitness studio \\n\\n#HamOnt #COVID19 \\n\\nhttps://t.co/RAnDYw1bGP', '#APEDA jointly organised a Virtual Buyer Seller Meet (V-#BSM) on #Export of #Indian #Agri Products in association w… https://t.co/FJRRuXtESd', '#UnionConf programme is now online and fully searchable👇 Check it out for all the latest in #TB &amp; #lunghealth scien… https://t.co/wR2177Twhw', 'Frequent testing [even daily] with reliable in home test kits would be a good measure to prevent #COVID19 transmiss… https://t.co/DI34jBImnz', '📢📢 A thread of FREE continuing education credits for clinicians available this month. Please share! 📢📢 \\n\\n#FreeCE… https://t.co/7MBYKobdvO', 'The work sector future after #COVID19 https://t.co/jkSTztSlux', \".@Health4Texas' latest Texas survey highlights how the #COVID19 pandemic has had a devastating impact on Texans' he… https://t.co/rVKO8MMHsD\", 'Check out this preprint of some of the great work our researchers are doing using #COVID19 #DataScience https://t.co/zWXinwjzw5', \"Trump visits Florida to point out there are millions of Americans he still hasn't killed #COVID19 #coronavirus… https://t.co/EcI8wEECPN\", '#COVID19-induced economic harm may soon result in multiple sovereign debtors moving into default territory\\nLegal ai… https://t.co/BeMVAr28tE', '@realDonaldTrump Pay the states for the $$ they have spent b/c you botched up #coronavirus fix !!!!! #COVID19 #STIMULUSPACKAGE', '“I’m so happy!” Those were the words Julie White kept repeating as she was being discharged from TriStar Centennial… https://t.co/l3hYXikwRL', '#Trump was right about #COVID19 https://t.co/g0JLXt3URF', 'Day 7 of isolation, I am bored shitless #COVID19', 'In light of the impact of #COVID19 pandemic on the daily use and production of energy in the US, we have gathered c… https://t.co/fAd1oNr44s', '@SamanthaJPower There was a delay in the beginning, but WH ensured States have all the PPEs, ventilators, testing k… https://t.co/xKBLSjzbbV', 'If you need to #travel within #EU during #COVID19 pandemic check out #ReOpenEurope webpage https://t.co/0owsZMdsKC', 'The course was originally plan for March, postponed indefinitely due to COVID and finally...we managed to do it! 💪🏼… https://t.co/XLZeLoxKEz', 'Maybe if FIFA didn’t care so much about the money and more about their players, a lot of players wouldn’t contract… https://t.co/yXgzbXVsIL', 'Increased availability of personal protective gear contributed to the decline in infections of health workers.… https://t.co/ACU00eFTfK', \"WHO: Letting Covid spread for herd immunity 'unethical' https://t.co/4XGSPjX3pB via @rte\", 'If you love the song \"Monster Mash\" and you hate animal-born viruses then this is the Halloween song for you!\\n(Is t… https://t.co/NbSsxFKzv5', \"Coronavirus: 'This is what a second wave looks like' in an intensive care unit - Sky News #Covid19UK #COVID19  https://t.co/ZKMxPVySa4\", '@chrislhayes Peaceful Antifa and BLM protesters are immune To Covid19 apparently', '🚨SO🤔, ARE YOU amongst those that thought #COVID19 was gonna be gone?\\nNOW THEY ARE OPENING #CovidTHEMED STORES in Ma… https://t.co/TNkgXeFihj', 'It is with deep regret that from Sunday 18th October 2020 @sanderscoaches will be ceasing ALL bus operations. COVID… https://t.co/pNvXb5KRun', 'Because @realDonaldTrump wants to forward the message that #COVID19 pandemic is OVER and HARMLESS over the dead bod… https://t.co/PYiwD0daU3', \"@realDonaldTrump Donny, it don't looked rigged to me according to the polls.....only thing rigged lately was you pr… https://t.co/JFBSua35PW\", 'CORONAVIRUS IN MARYLAND | Hospitalizations and positivity rate increases, 8,392 negative tests during the past 24 h… https://t.co/MgPkYw3vp6', \"@RexChapman Even your command center, the CDC admits 6% of that number died from COVID. \\n\\nConclusion: it's nearly i… https://t.co/tYMPXrzLU3\", '#COVID19 \\n#cristiano \\n#CristianoRonaldo \\nI wish you a speedy recovery\\U0001f97a\\U0001f97a', '@RexChapman This is how #COVID19 Donald reacts when 215,000 Americans are dead. Party on Donald. It will soon be ov… https://t.co/HNXFKR2YWB', '@BTCJSON1 I’ve been calling this for awhile \\n\\nWhen government wishes to implement unpopular action on citizens, the… https://t.co/kz4RT5Odte', \"@realDonaldTrump The US has the world's most expensive healthcare system per capita. The US counts 21 % of all COVI… https://t.co/wZZgZAgcc7\", 'The pause is at least the second such hold to occur among several vaccines that have reached large-scale final test… https://t.co/asdXtRfR20', '#Ronaldo is the latest entry in the list of high-profile players to test positive for the pathogen\\n#Football… https://t.co/4ZdjbLT4pm', '#Karnataka reports 8,191 new #COVID19 cases and 87 deaths on Tuesday. Total number of cases rises to 7,26,106, deat… https://t.co/Fqr8zCD82j', 'Next in our #IPSCovidChronicals Prof Ramesh ‘Zimbo’ Boonratana: The Status of Primates, Primatologists, &amp; Primatolo… https://t.co/8e4X7xktpF', '#SJCouncil Tonite reviewing Draft Cycling Strategy!\\n#SaintJohn #accessibility #safety #COVID19 #cycling https://t.co/EXZ821PmZL', \"This is my 80th published article! Freelancing is hard but worth it (sometimes). I wrote about how #Mexico's most i… https://t.co/sJdgVPZxZ7\", 'Pretty damn telling right here. #COVID19 https://t.co/eorJ4FT94H', 'According to her, she’s not allowed to think for herself. That’s the man’s job. You know, the man who sent her out… https://t.co/k07iPf5Ggg', 'Scientists are re-examining how the #COVID19 virus is spreading.\\n\\nThe initial suspects were bats, pigs, or other an… https://t.co/M4ZLhlqJKc', 'Seems to me that #COVID19 could be one of the first times where Epic and Cerner should agree to work together with… https://t.co/BoYpylKFOx', 'A look at the religious events that became a reason for the spread of COVID-19.\\n #Newstrack #COVID19 #Coronavirus |… https://t.co/WkRRmafScX', 'Experts predict healthcare mergers and acquisitions to accelerate post #COVID19. If your organization is involved,… https://t.co/cF8CpnEYIc', \"Let's make the #fly famous. May be, flies can sniff the #COVID19 https://t.co/bYnOrQSID5\", \"This pandemic will end eventually. Until then, let's continue to be vigilant. Let's protect each other and the vuln… https://t.co/HOhtt5lqKi\", '@GavinNewsom People do it every 4 years, standing in lines to vote. It just looks longer because of archaic, unscie… https://t.co/KB3BifXTJd', 'MyPOV: inside the @cherwell flight plan \\n\\n57% use low code no code\\n54% have implemented self-service\\n60%  see… https://t.co/2qMvwsKKKy', 'Webinar alert! How savvy are your residents when it comes to #COVID19 symptoms and actions? And how can #localgov b… https://t.co/b1tmpxmUkD', 'The 35-year-old Juventus striker will miss Wednesday’s UEFA Nations League game against Sweden but is “well, has no… https://t.co/CLxf7CMYbZ', '@piersmorgan @Cristiano Sympathies with Covid19', '#COVID19 Party https://t.co/sb0NbS8g8G', 'Particularly as the world confronts the challenges posed by #COVID19, we’re grateful for our many partnerships that… https://t.co/ZGsBQl8lmC', 'Yah and @fordnation is still tippy toeing around it....... HE IS NO LEADER !! \\n\\n#onpoli #NotFitToLead… https://t.co/FjqjbRDky8', '$MRNA Moderna Announces Initiation of Rolling Submission to Health Canada for mRNA Vaccine Against COVID-19 (mRNA-1… https://t.co/vGW0LbwD2c', 'As Trump returns to campaigning, Fauci says U.S. #COVID19 cases ‘in a bad place’ - National |… https://t.co/kjlfMM6o1l', '...be about the controversial ban on accommodation for travellers from Inner-German #COVID19 risk areas.', \"From the LANCET medical journal.\\nCovid reinfection: Man gets Covid twice and second hit 'more severe'\\n\\n#COVID19… https://t.co/dfkAlvANCA\", \"@JustinTrudeau had an informative talk with @ambermac about the Canada 🇨🇦 #COVID19 Alert App. If you've not yet dow… https://t.co/fjHwe3mXhi\", '⚽ Cristiano #Ronaldo tests positive for #COVID19, currently asymptomatic\\n\\nhttps://t.co/iQgMF2Xyv7 #Juventus https://t.co/by5fSs3oho', 'Everyone I love just gets Covid19. #GetWellSoonCR7 ❤', 'Realize we are deep in the #COVID19 crisis here in Moncton atm, but more quietly this is also happening today...a h… https://t.co/U4MjKM1lxe', 'ronaldo got covid19, this reminds me that people with good or high immunity like his also have the potential to get covid🙄', '. #CDC #Fauci own the family sized coffins #FEMA #internment camps #COVID19 https://t.co/s5VGCuPWyI', '#WearAMask, they work against #COVID19. Here is a peer reviewed, scientific publication, which provides great evide… https://t.co/TNrZoeFmY3', 'Read how Savience designed, developed and delivered in record time to help support #COVID19 testing centres. Our ne… https://t.co/OcN1uZtTTW', 'With many companies hiring at a tentative pace or on a complete freeze, #staffing professionals now find themselves… https://t.co/JPvbRsvRJh', '@ARYSabirShakir @ARYNEWSOFFICIAL @Salman_ARY @ammarmasood3 I admire how President @ArifAlvi gave the example of bat… https://t.co/qUHbjo5MK2', 'Amazing animation shows exactly how effective Republican governors have been in responding to #COVID19 https://t.co/XtVtxqbdu3', \".@Frost_Sullivan's recent analysis indicates that the Threat Intelligence platforms market is one of the… https://t.co/84vSr1QlvZ\", 'Newman from ‘Seinfeld’ is back to wreck havoc in an anti-Trump ad https://t.co/qyfETbBJQ8 via @flipboard #Trump… https://t.co/BfbJiWpRcC', 'Coronavirus: Czech schools and bars shut in new emergency  via @BBCNews \\nhttps://t.co/hOOPesraWU\\n#CzechRepublic… https://t.co/4SDkHLT46H', 'DECN Provides Progress Update on Major Events for Its GenViro! Saliva Swift Kits for the Detection of COVID-19… https://t.co/kIlzv2jydA', '@MattHancock Enjoy your moment of \"importance\" because come the election you\\'ll likely be out of a job &amp; your party… https://t.co/TlkYrFOXM6', 'Making plans for the upcoming holidays? Here are some tips on how to make the safest choices for you and your loved… https://t.co/eugWLjPSUy', 'I did not know that goats could get COVID #ronaldo @Cristiano #COVID19 #covid #goat 🐐 #cristiano', 'If you missed the #webinar discussing the #WinterPlan announced by @RishiSunak and as Furlough ends what’s next for… https://t.co/JC674JnpZL', 'New CPT codes for multi-virus tests detect #COVID19 and flu | @AmerMedicalAssn https://t.co/W5Iu738dNN', 'Why does he need telling lies all the time🤔--@atrupar ?????????????I think he has a kind brain damage\\U0001f97a--not caused… https://t.co/OmtKjPsTKZ', 'Last night, police carried out an operation to reinvigorate the anti-COVID19 enforcement measures, especially the c… https://t.co/9SGyKUYAIA', '#COVID19 Recovery Update\\n\\nToday, 41 patients recovered from COVID facilities and Home Isolation #Keonjhar\\n\\nDistrict… https://t.co/0xKNbwQxLj', 'Essential investments in @tusla and youth services that will help protect and support the most vulnerable young peo… https://t.co/4Sb5UOf8Mx', 'These #Robots will deliver almost anything to your room.  \\n\\n#COVID19 #Covid19Pendamic #covidPendamic #Robotics… https://t.co/o7jKlg84Q4', 'While I worry about the debt we are saddling our children with, American working families and businesses need help… https://t.co/9OPoyR4jhC', '#covid19 MISINFORMATION via @Otiose94.  #TrumpHasCovid #Election2020 🇺🇸🇺🇸🇺🇸🇺🇸 #maga #kag https://t.co/1O1gW4FS3m', \"America's government response to #COVID19 vs Italian response to the #coronavirus https://t.co/rhbPYTmpGu https://t.co/P0e8KZO5rA\", 'Football Superstar Cristiano Ronaldo Tests Positive For Covid-19\\n\\n#CristianoRonaldo #COVID19 \\n\\nhttps://t.co/6l7mHC5Dka', 'Hospitals Have 14 Weeks to Comply with #COVID19 and #Flu Reporting or Face Loss of Payment | @susanjmorse,… https://t.co/BpbNbgb9pZ', '@KDKA The poor commander who was fired for trying to keep his men safe from a Covid19 out break on his ship. Trump… https://t.co/MqCy3QxnbW', '@KristenClarkeJD @Public_Citizen 🚨The @GOP have been working very hard⁉️ \\n To: Shut down #VotingRights ✔\\n To: Steal… https://t.co/2mU98SVjOi', 'Not the witness in the background on the couch smh #ThePeoplesCourt #Covid19', '@MelissaQuinn97 Maybe covid19 concoction?', '16-year-old boy from Bengaluru designs #Covid19 curriculum for rural women\\n\\nLakshya Subodh, a student of Class 11 i… https://t.co/jpCtQgsXWM', '@lttlspknmn @realDonaldTrump @OANN I agree. I lived thru the Hantavirus on the Navajo Reservation in Arizona and I… https://t.co/hm5Eis0MKg', 'प्रणाम। Tonight at 10 pm IST let us pray collectively for glory of #Bharat - call by @meenapranam #truth #love… https://t.co/GrINhA8rDy', '@IsabelOakeshott @Femi_Sorry It’s boom time for funeral services and grave diggers too. What’s not to like about #Covid19 for you?', '@EricTrump Joe is sensibly following social distancing and his audience is out of shot. Your Dad’s paid goons are c… https://t.co/IPi3VwtgiG', 'Great to secure this interview for Professor @cliffordstott from @KeelePsychology on @SkyNews this afternoon, discu… https://t.co/z82BmVmsfA', 'Dear .@fordnation, \\n\\nOntarians need paid sick days. \\n\\nPaid sick days are evidence-based protections that reduce spr… https://t.co/ceVnd5cfrW', '$MESO - Randomized Controlled Phase 3 Trial of Remestemcel-L for Reduced Mortality in COVID-19 ARDS Surpasses 50% E… https://t.co/QCbg60QKBx', 'Cristiano Ronaldo has tested positive to Coronavirus, as Portugal official statement announced. #Covid19', 'In The News\\nPCCI CEO Steve Miff was included in a story from @HealthLeaders on the unexpected side effects of… https://t.co/oyffWiZJLE', 'CoVID19 Survivor\\n#CoVID19 https://t.co/pfVbm8ALrW', '@Nerditupnation  @JackBlaine3 @IcabodKeller   @CorkySwift2 @liszewsk @Flag_Girl2 @JACKLARKIN1   @Shakeyacres… https://t.co/qPWx0PAfaX', 'Hard to build credibility around this organization again, right? #COVID19 https://t.co/OdPoGwqQbs', 'hoping for your speedy recovery😟🙏\\n\\n#CristianoRonaldo #COVID19 https://t.co/FgSWmDhMWO', 'Because they know the measures they’re asking for are completely disproportionate, they just don’t care. Some say o… https://t.co/fVGGgTXEJU', \"Has #Covid19 damaged Chairman @LindseyGrahamSC's brain by now? He doesn't realize WE ARE ALREADY VOTING? He feels f… https://t.co/ihk4Wad34t\", 'Yes, but profit, profit, profit from #ToryLies - always comes before health. Sacrifice the weak and make a quick bu… https://t.co/WKd2YPbTPO', '#UEFANationsLeague: #CristianoRonaldo tests #COVID19 positive, to miss clash against #Sweden\\n\\nhttps://t.co/9fhQnpKgrF', '@realDonaldTrump You dropped the ball on #COVID19 #Healthcare #ClimateChange #economy #veterans #unemployment… https://t.co/Jp9ohwHYTD', 'We have summarized 26 new publications related to #COVID19, breast milk, #breastfeeding, formula use, feeding diffi… https://t.co/vZxGFGIqC0', 'Community meeting held in Ranchi, Jharkhand to spread awareness on NISHTHA Swasthya Vaani IVR system to get informa… https://t.co/GbFnkWvjzt', 'Ontario, Quebec temporarily granted US statehood so Canadians don’t look bad due to COVID-19 cases #COVID19  https://t.co/T6A9O8CFGv', '@rahulkanwal What do u have to say about Mumbai trains, Easter gatherings,where were you when people of other than… https://t.co/nNMlrGliec', '•With a side of Covid, sir?•\\n\\nI knew they should have shut the restaurants and pubs earlier.\\n\\n#Covid19 #Ronaldo https://t.co/XiupUSvymZ', '@UniCovidUK The University of Kent has been publishing figures for its UK campuses on this page! https://t.co/fnPwGB3eiU', 'Cristiano Ronaldo has tested positive to Coronavirus, official statement from Portugal #Covid19 https://t.co/IMIAGPdvdT', '@talkRADIO @Fr33Sp33ch5 @MattHancock @HouseofCommons So what he’s saying is that it will never end. For example Bor… https://t.co/4dbeaR4KDz', '#WomenInPolitics in the #ArabWorld lack opportunities and resources, and this is exacerbated by the negative and co… https://t.co/wmB9KDKhkL', 'Portugal captain and Juventus star Cristiano Ronaldo tests positive for the novel coronavoirus. The information was… https://t.co/vSmdtPJTRj', \"Kerala's #COVID19 case count reached 3,03,896 today, with the state reporting 8,764 fresh cases. State also registe… https://t.co/99yyEKRNXZ\", 'Keeping #aging loved ones well during a global pandemic is of utmost concern. These 7 questions can help families d… https://t.co/fI0uph04hA', 'New article by Jennifer Clapp &amp; William G. Moseley: “This food crisis is different: #COVID19 and the fragility of t… https://t.co/0ySSf5cABf', 'He’s probably on a ventilator #COVID19 #GOPSuperSpreaders #GOPHypocrisy #COVIDIOTS https://t.co/Zf5CASwhPA', \"#leadership #Management #DigitalTransformation\\n#COVID19 \\nCandace Owens tells LeBron James: 'If you're suffering thr… https://t.co/Kq51zujRgN\", '@Covid19_VAX @JamesPearceLFC Hope he sees this bro, took me some effort.', '@narendramodi Sir i am @icarindia aspirant this year things were not good in my academics due to @covid19 there is… https://t.co/6r5u6HejSM', '#COVID19: Star Portuguese footballer Ronaldo tests positive for COVID-19 https://t.co/PwPwFrLMv9', '📣 Today @GobiernoMX announced 4 agreements to acquire the #COVID19 vaccine as soon as it is available. \\n\\nThese agre… https://t.co/NcIRdXxTDw', 'Pfizer to enroll kids as young as 12 in Covid-19 vaccine study - Reuters https://t.co/qapzzfrbLy', \"#TurnTexasBlue to say NO to the Republican Party's #HerdMentality.\\n\\nhttps://t.co/tJP81H6xVq https://t.co/hTxZpFFFB9\", '@cathalbrae Why is that? To be honest I would like to send ours back, but the covid19 numbers going up', 'Covid-19 again? Reinfection cases raise concerns over immunity - Reuters https://t.co/nWLvMWWfhl', \"@clairecmc We're still rolling!!🤣\\nWeeks ago Bill Barr foolishly stated that COVID19 shut downs were like slavery.… https://t.co/7xLTKZ0rFL\", '@vanitaguptaCR Talk to Nancy Pelosi if you’re complains about no covid19 legislation. https://t.co/wU5FEulv4e', \"There are 807 new #COVID19 cases yesterday, 746 new cases today in #Ontario  \\n\\nThat's 1,553 people in just two days… https://t.co/w4PDnWyRfz\", 'Are we ready for a #secondwave of #mentalhealth breakdown due to #COVID19? Mental health workers need to prepare. https://t.co/EmIKEnDqED', '@ONC_HealthIT announced the awardees of the STAR HIE program. STAR HIE aims to support state and local public healt… https://t.co/bDUuOTmU7I', 'KY has 1,299 #COVID19 deaths.\\n#Vote #McConnell out of office in November 2020 https://t.co/RGkubPjcoG', 'Companies are preparing staffing contingency plans for the fall and winter months ahead. Here are some tips for fil… https://t.co/ikL15SOFEG', 'Why is tourism picking up so slowly in Southeast Asia? https://t.co/UQ2R1J7ttE via @CNBCi \\n\\n🌏\\U0001f9f3✈️😷\\n\\n#SouteastAsia… https://t.co/FdNv62KKzk', 'BJR|Open paper\\nComparison of chest X-ray interpretation by Emergency Department clinicians and radiologists in susp… https://t.co/UcMUBBZMHq', '@DevonBaard121 @tangodog_ @drphilhammond 2...lockdown and not covid19. That is not true. There has been a fiddling… https://t.co/0gmuSzgRGK', 'Top #WHO Official: Stop Using Lockdowns for #COVID19  Causing Terrible Catastrophe. A top World Health Organization… https://t.co/05DquHN1bC', 'As we near the end of the year, what gaps have been discovered in your organization’s #COVID19 preparation and resp… https://t.co/4T0OmWMuAk', 'Join #LIVEfromCleClinic on Oct 14 with @MattWalshMD, @aakonc, @DrEstfan, @ZAlHilliMD, Dan Joyce, @GeneralSturgeon,… https://t.co/JWdshWSibV']\n"
          ],
          "name": "stdout"
        }
      ]
    },
    {
      "cell_type": "code",
      "metadata": {
        "id": "qmQs47arbKTy",
        "outputId": "b098f9ed-374a-44dc-c175-d95d0166d916",
        "colab": {
          "base_uri": "https://localhost:8080/",
          "height": 266
        }
      },
      "source": [
        "import matplotlib.pyplot as pyplot\n",
        "labels = \"Negative\", \"Neutral\", \"Positive\"\n",
        "sizes = [negativeCounter,neutralCounter,positiveCounter]\n",
        "print(sizes)\n",
        "colors = [\"red\",\"yellow\",\"green\"]\n",
        "\n",
        "if sizes[0] > sizes[1] & sizes[0] > sizes[2]:\n",
        "  explode = (0.1,0,0)\n",
        "elif sizes[1] > sizes[0] & sizes[1] > sizes[2]:\n",
        "  explode = (0,0.1,0)\n",
        "else:\n",
        "  explode = (0,0,0.1)\n",
        "\n",
        "pyplot.pie(sizes,explode = explode, labels=labels,colors=colors,autopct=\"%1.1f%%\", shadow=True, startangle=140)\n",
        "pyplot.axis(\"equal\")\n",
        "pyplot.show()"
      ],
      "execution_count": 53,
      "outputs": [
        {
          "output_type": "stream",
          "text": [
            "[59, 133, 8]\n"
          ],
          "name": "stdout"
        },
        {
          "output_type": "display_data",
          "data": {
            "image/png": "[encoded data removed]",
            "text/plain": [
              "<Figure size 432x288 with 1 Axes>"
            ]
          },
          "metadata": {
            "tags": []
          }
        }
      ]
    }
  ]
}